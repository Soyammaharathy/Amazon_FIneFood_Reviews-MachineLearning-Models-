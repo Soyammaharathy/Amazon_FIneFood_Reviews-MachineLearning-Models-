{
 "cells": [
  {
   "cell_type": "markdown",
   "metadata": {
    "_uuid": "c62f362c4aedd1c9c4b27f810fdad0fad34cc5a7"
   },
   "source": [
    "# Table of Contents\n",
    "1 - [Problem Statement](#ps)  \n",
    "2 - [Overview of Dataset](#dataset)  \n",
    "3 - [Loading the Data](#load)   \n",
    "4 - [Exploratory Data Analysis](#eda)   \n",
    "&emsp;  4.1 - [Data Cleaning: Deduplication](#deduplication)   \n",
    "5 - [Text Preprocessing Using NLTK](#textprep)  \n",
    "6 - [Train and Test Split of Data](#split)  \n",
    "7 - [Ensemble Models](#ens)  \n",
    "&emsp;  7.1 - [Random Forest(Bagging)](#rf)  \n",
    "&emsp;  7.2 - [XGBoost (Gradient Boosting)](#xg)    \n",
    "8 - [Featurization Methods](#vec)  \n",
    "&emsp;  8.1 - [Bag Of Words(unigram)](#bowuni)   \n",
    "&emsp;  8.2 - [Bag Of Words(bigram)](#bowbi)  \n",
    "&emsp;  8.3 - [TF-IDF(unigram)](#tfidfuni)  \n",
    "&emsp;  8.4 - [TF-IDF(bigram)](#tfidfbi)   \n",
    "&emsp;  8.5 - [Average Word2Vec](#avgw2v)  \n",
    "&emsp;  8.6 - [TF-IDF Weighted Word2Vec](#tfidfw2v)  \n",
    "9 - [Conclusion](#conclusion)"
   ]
  },
  {
   "cell_type": "markdown",
   "metadata": {},
   "source": [
    "## [1] Problem Statement : <a name=\"ps\"></a>\n",
    "\n",
    "-  Time Based slicing(100k data points) to split Train Data(70%) and Test Data(30%).\n",
    "-  Appling ensemble models(both Random Forest and XGBoost) to find the optimal hyperparameters using 10 fold cv :  \n",
    "&emsp; 1)Bag Of Words  \n",
    "&emsp; 2)TF-IDF  \n",
    "&emsp; 2)Average Word2Vec  \n",
    "&emsp; 2)TF-IDF weighted Word2Vec     \n",
    "-  Comparsion of various performance metrics obtained by various featurization models.    "
   ]
  },
  {
   "cell_type": "markdown",
   "metadata": {},
   "source": [
    "## [2] Overview of Dataset : <a name=\"dataset\"></a>\n",
    "\n",
    "Data Source: https://www.kaggle.com/snap/amazon-fine-food-reviews\n",
    "\n",
    "The Amazon Fine Food Reviews dataset consists of reviews of fine foods from Amazon.  \n",
    "\n",
    "Number of reviews: 568,454  \n",
    "Number of users: 256,059  \n",
    "Number of products: 74,258  \n",
    "Timespan: Oct 1999 - Oct 2012  \n",
    "Number of Attributes/Columns in data: 10  \n",
    "\n",
    "Attribute Information:\n",
    "\n",
    "&emsp;1.Id  \n",
    "&emsp;2.ProductId - unique identifier for the product  \n",
    "&emsp;3.UserId - unqiue identifier for the user  \n",
    "&emsp;4.ProfileName  \n",
    "&emsp;5.HelpfulnessNumerator - number of users who found the review helpful  \n",
    "&emsp;6.HelpfulnessDenominator - number of users who indicated whether they found the review helpful or not  \n",
    "&emsp;7.Score - rating between 1 and 5  \n",
    "&emsp;8.Time - timestamp for the review  \n",
    "&emsp;9.Summary - brief summary of the review  \n",
    "&emsp;10.Text - text of the review  \n",
    "\n",
    "Objective:\n",
    "Given a review, determine whether the review is positive (Rating of 4 or 5) or negative (rating of 1 or 2).\n",
    "\n",
    "\n",
    "[Q] How to determine if a review is positive or negative?\n",
    "\n",
    "[Ans] We could use the Score/Rating. A rating of 4 or 5 could be cosnidered a positive review. A review of 1 or 2 could be considered negative. A review of 3 is nuetral and ignored. This is an approximate and proxy way of determining the polarity (positivity/negativity) of a review."
   ]
  },
  {
   "cell_type": "markdown",
   "metadata": {},
   "source": [
    "## [3] Loading the Data : <a name=\"load\"></a>\n",
    "\n",
    "In order to load the data, we have used the SQLITE dataset as it easier to query the data and visualise the data efficiently.\n",
    "<br> \n",
    "\n",
    "Here as we only want to get the global sentiment of the recommendations (positive or negative), we will purposefully ignore all Scores equal to 3. If the score id above 3, then the recommendation wil be set to \"positive\". Otherwise, it will be set to \"negative\"."
   ]
  },
  {
   "cell_type": "code",
   "execution_count": 1,
   "metadata": {},
   "outputs": [],
   "source": [
    "#Importing the necessary Packages\n",
    "%matplotlib inline\n",
    "import warnings\n",
    "warnings.filterwarnings(\"ignore\")\n",
    "\n",
    "\n",
    "import time\n",
    "from tqdm import tqdm\n",
    "import sqlite3\n",
    "import pandas as pd\n",
    "import numpy as np\n",
    "import nltk\n",
    "import string\n",
    "import matplotlib.pyplot as plt\n",
    "import seaborn as sns\n",
    "from sklearn.feature_extraction.text import TfidfTransformer\n",
    "from sklearn.feature_extraction.text import TfidfVectorizer\n",
    "from xgboost import XGBClassifier\n",
    "from IPython.display import HTML\n",
    "from collections import OrderedDict\n",
    "\n",
    "\n",
    "from sklearn.feature_extraction.text import CountVectorizer \n",
    "from sklearn.metrics import confusion_matrix\n",
    "from sklearn import metrics\n",
    "from sklearn.metrics import roc_curve, auc\n",
    "from nltk.stem.porter import PorterStemmer\n",
    "\n",
    "import re\n",
    "import string\n",
    "from nltk.corpus import stopwords\n",
    "from nltk.stem import PorterStemmer\n",
    "from nltk.stem.wordnet import WordNetLemmatizer\n",
    "\n",
    "from gensim.models import Word2Vec\n",
    "from gensim.models import KeyedVectors\n",
    "import pickle"
   ]
  },
  {
   "cell_type": "code",
   "execution_count": 2,
   "metadata": {},
   "outputs": [],
   "source": [
    "import pickle\n",
    "\n",
    "#dumping an object to file object using dump method\n",
    "def dumpfile(a,file_Name):\n",
    "    fileObject = open(file_Name,\"wb\")\n",
    "    pickle.dump(a,fileObject,protocol=2)\n",
    "    fileObject.close()\n",
    "\n",
    "#loading an object from file object using load method\n",
    "def loadfile(file_Name):\n",
    "    fileObject = open(file_Name,\"rb\")\n",
    "    b = pickle.load(fileObject)\n",
    "    return b\n"
   ]
  },
  {
   "cell_type": "code",
   "execution_count": 27,
   "metadata": {
    "_uuid": "3171eaaaace2c0d41a6587eddf4190bdf330f543"
   },
   "outputs": [],
   "source": [
    "# using the SQLite Table to read data.\n",
    "con = sqlite3.connect('database.sqlite') \n",
    "\n",
    "\n",
    "#filtering only positive and negative reviews i.e. \n",
    "# not taking into consideration those reviews with Score=3\n",
    "filtered_data = pd.read_sql_query(\"\"\" SELECT * FROM Reviews WHERE Score != 3 \"\"\", con) "
   ]
  },
  {
   "cell_type": "code",
   "execution_count": 7,
   "metadata": {},
   "outputs": [],
   "source": [
    "# Give reviews with Score>3 a positive rating, and reviews with a score<3 a negative rating.\n",
    "def partition(x):\n",
    "    if x < 3:\n",
    "        return 'negative'\n",
    "    return 'positive'\n",
    "\n",
    "#changing reviews with score less than 3 to be positive and vice-versa\n",
    "actualScore = filtered_data['Score']\n",
    "positiveNegative = actualScore.map(partition) \n",
    "filtered_data['Score'] = positiveNegative"
   ]
  },
  {
   "cell_type": "code",
   "execution_count": 8,
   "metadata": {
    "_uuid": "beeb98812798cf41d3df185db44cadfcf5b0660d",
    "scrolled": true
   },
   "outputs": [
    {
     "name": "stdout",
     "output_type": "stream",
     "text": [
      "Number of datapoints:  525814\n",
      "Number of attributes/features:  10\n"
     ]
    },
    {
     "data": {
      "text/html": [
       "<table border=\"1\" class=\"dataframe\">\n",
       "  <thead>\n",
       "    <tr style=\"text-align: right;\">\n",
       "      <th>Id</th>\n",
       "      <th>ProductId</th>\n",
       "      <th>UserId</th>\n",
       "      <th>ProfileName</th>\n",
       "      <th>HelpfulnessNumerator</th>\n",
       "      <th>HelpfulnessDenominator</th>\n",
       "      <th>Score</th>\n",
       "      <th>Time</th>\n",
       "      <th>Summary</th>\n",
       "      <th>Text</th>\n",
       "    </tr>\n",
       "  </thead>\n",
       "  <tbody>\n",
       "    <tr>\n",
       "      <td>1</td>\n",
       "      <td>B001E4KFG0</td>\n",
       "      <td>A3SGXH7AUHU8GW</td>\n",
       "      <td>delmartian</td>\n",
       "      <td>1</td>\n",
       "      <td>1</td>\n",
       "      <td>positive</td>\n",
       "      <td>1303862400</td>\n",
       "      <td>Good Quality Dog Food</td>\n",
       "      <td>I have bought several of the Vitality canned d...</td>\n",
       "    </tr>\n",
       "    <tr>\n",
       "      <td>2</td>\n",
       "      <td>B00813GRG4</td>\n",
       "      <td>A1D87F6ZCVE5NK</td>\n",
       "      <td>dll pa</td>\n",
       "      <td>0</td>\n",
       "      <td>0</td>\n",
       "      <td>negative</td>\n",
       "      <td>1346976000</td>\n",
       "      <td>Not as Advertised</td>\n",
       "      <td>Product arrived labeled as Jumbo Salted Peanut...</td>\n",
       "    </tr>\n",
       "    <tr>\n",
       "      <td>3</td>\n",
       "      <td>B000LQOCH0</td>\n",
       "      <td>ABXLMWJIXXAIN</td>\n",
       "      <td>Natalia Corres \"Natalia Corres\"</td>\n",
       "      <td>1</td>\n",
       "      <td>1</td>\n",
       "      <td>positive</td>\n",
       "      <td>1219017600</td>\n",
       "      <td>\"Delight\" says it all</td>\n",
       "      <td>This is a confection that has been around a fe...</td>\n",
       "    </tr>\n",
       "    <tr>\n",
       "      <td>4</td>\n",
       "      <td>B000UA0QIQ</td>\n",
       "      <td>A395BORC6FGVXV</td>\n",
       "      <td>Karl</td>\n",
       "      <td>3</td>\n",
       "      <td>3</td>\n",
       "      <td>negative</td>\n",
       "      <td>1307923200</td>\n",
       "      <td>Cough Medicine</td>\n",
       "      <td>If you are looking for the secret ingredient i...</td>\n",
       "    </tr>\n",
       "    <tr>\n",
       "      <td>5</td>\n",
       "      <td>B006K2ZZ7K</td>\n",
       "      <td>A1UQRSCLF8GW1T</td>\n",
       "      <td>Michael D. Bigham \"M. Wassir\"</td>\n",
       "      <td>0</td>\n",
       "      <td>0</td>\n",
       "      <td>positive</td>\n",
       "      <td>1350777600</td>\n",
       "      <td>Great taffy</td>\n",
       "      <td>Great taffy at a great price.  There was a wid...</td>\n",
       "    </tr>\n",
       "  </tbody>\n",
       "</table>"
      ],
      "text/plain": [
       "<IPython.core.display.HTML object>"
      ]
     },
     "execution_count": 8,
     "metadata": {},
     "output_type": "execute_result"
    }
   ],
   "source": [
    "print(\"Number of datapoints: \",filtered_data.shape[0])\n",
    "print(\"Number of attributes/features: \",filtered_data.shape[1])\n",
    "HTML(filtered_data.head().to_html(index=False))"
   ]
  },
  {
   "cell_type": "markdown",
   "metadata": {},
   "source": [
    "## [4] Exploratory Data Analysis :<a name=\"eda\"></a>"
   ]
  },
  {
   "cell_type": "markdown",
   "metadata": {},
   "source": [
    "### [4.1] Data Cleaning: Deduplication <a name=\"deduplication\"></a>\n",
    "It is observed (as shown in the table below) that the reviews data had many duplicate entries. Hence it was necessary to remove duplicates in order to get unbiased results for the analysis of the data. Following is an example:\n",
    "\n",
    "<b>Deduplication 1:-</b> As can be seen below the same user has multiple reviews of the with the same values for HelpfulnessNumerator, HelpfulnessDenominator, Score, Time, Summary and Text  and on doing analysis it was found that <br>\n",
    "<br> \n",
    "ProductId=B000HDOPZG was Loacker Quadratini Vanilla Wafer Cookies, 8.82-Ounce Packages (Pack of 8)<br>\n",
    "<br> \n",
    "ProductId=B000HDL1RQ was Loacker Quadratini Lemon Wafer Cookies, 8.82-Ounce Packages (Pack of 8)<br>\n",
    "\n",
    "It was inferred after analysis that reviews with same parameters other than ProductId belonged to the same product just having different flavour or quantity. Hence in order to reduce redundancy it was decided to eliminate the rows having same parameters.<br>\n",
    "\n",
    "The method used for the same was that we first sort the data according to ProductId and then just keep the first similar product review and delelte the others. for eg. in the above just the review for ProductId=B000HDL1RQ remains. This method ensures that there is only one representative for each product and deduplication without sorting would lead to possibility of different representatives still existing for the same product."
   ]
  },
  {
   "cell_type": "code",
   "execution_count": 9,
   "metadata": {},
   "outputs": [
    {
     "data": {
      "text/html": [
       "<table border=\"1\" class=\"dataframe\">\n",
       "  <thead>\n",
       "    <tr style=\"text-align: right;\">\n",
       "      <th>Id</th>\n",
       "      <th>ProductId</th>\n",
       "      <th>UserId</th>\n",
       "      <th>ProfileName</th>\n",
       "      <th>HelpfulnessNumerator</th>\n",
       "      <th>HelpfulnessDenominator</th>\n",
       "      <th>Score</th>\n",
       "      <th>Time</th>\n",
       "      <th>Summary</th>\n",
       "      <th>Text</th>\n",
       "    </tr>\n",
       "  </thead>\n",
       "  <tbody>\n",
       "    <tr>\n",
       "      <td>78445</td>\n",
       "      <td>B000HDL1RQ</td>\n",
       "      <td>AR5J8UI46CURR</td>\n",
       "      <td>Geetha Krishnan</td>\n",
       "      <td>2</td>\n",
       "      <td>2</td>\n",
       "      <td>5</td>\n",
       "      <td>1199577600</td>\n",
       "      <td>LOACKER QUADRATINI VANILLA WAFERS</td>\n",
       "      <td>DELICIOUS WAFERS. I FIND THAT EUROPEAN WAFERS ...</td>\n",
       "    </tr>\n",
       "    <tr>\n",
       "      <td>138317</td>\n",
       "      <td>B000HDOPYC</td>\n",
       "      <td>AR5J8UI46CURR</td>\n",
       "      <td>Geetha Krishnan</td>\n",
       "      <td>2</td>\n",
       "      <td>2</td>\n",
       "      <td>5</td>\n",
       "      <td>1199577600</td>\n",
       "      <td>LOACKER QUADRATINI VANILLA WAFERS</td>\n",
       "      <td>DELICIOUS WAFERS. I FIND THAT EUROPEAN WAFERS ...</td>\n",
       "    </tr>\n",
       "    <tr>\n",
       "      <td>138277</td>\n",
       "      <td>B000HDOPYM</td>\n",
       "      <td>AR5J8UI46CURR</td>\n",
       "      <td>Geetha Krishnan</td>\n",
       "      <td>2</td>\n",
       "      <td>2</td>\n",
       "      <td>5</td>\n",
       "      <td>1199577600</td>\n",
       "      <td>LOACKER QUADRATINI VANILLA WAFERS</td>\n",
       "      <td>DELICIOUS WAFERS. I FIND THAT EUROPEAN WAFERS ...</td>\n",
       "    </tr>\n",
       "    <tr>\n",
       "      <td>73791</td>\n",
       "      <td>B000HDOPZG</td>\n",
       "      <td>AR5J8UI46CURR</td>\n",
       "      <td>Geetha Krishnan</td>\n",
       "      <td>2</td>\n",
       "      <td>2</td>\n",
       "      <td>5</td>\n",
       "      <td>1199577600</td>\n",
       "      <td>LOACKER QUADRATINI VANILLA WAFERS</td>\n",
       "      <td>DELICIOUS WAFERS. I FIND THAT EUROPEAN WAFERS ...</td>\n",
       "    </tr>\n",
       "    <tr>\n",
       "      <td>155049</td>\n",
       "      <td>B000PAQ75C</td>\n",
       "      <td>AR5J8UI46CURR</td>\n",
       "      <td>Geetha Krishnan</td>\n",
       "      <td>2</td>\n",
       "      <td>2</td>\n",
       "      <td>5</td>\n",
       "      <td>1199577600</td>\n",
       "      <td>LOACKER QUADRATINI VANILLA WAFERS</td>\n",
       "      <td>DELICIOUS WAFERS. I FIND THAT EUROPEAN WAFERS ...</td>\n",
       "    </tr>\n",
       "  </tbody>\n",
       "</table>"
      ],
      "text/plain": [
       "<IPython.core.display.HTML object>"
      ]
     },
     "execution_count": 9,
     "metadata": {},
     "output_type": "execute_result"
    }
   ],
   "source": [
    "display= pd.read_sql_query(\"\"\"\n",
    "SELECT *\n",
    "FROM Reviews\n",
    "WHERE Score != 3 AND UserId=\"AR5J8UI46CURR\"\n",
    "ORDER BY ProductID\n",
    "\"\"\", con)\n",
    "\n",
    "HTML(display.head().to_html(index=False))"
   ]
  },
  {
   "cell_type": "code",
   "execution_count": 10,
   "metadata": {
    "_uuid": "2aa9b4c12ca224969f0a89abf1fa897cf1f4d122"
   },
   "outputs": [],
   "source": [
    "#Sorting data according to ProductId in ascending order\n",
    "sorted_data=filtered_data.sort_values('ProductId', axis=0, ascending=True, inplace=False, kind='quicksort', na_position='last')"
   ]
  },
  {
   "cell_type": "code",
   "execution_count": 11,
   "metadata": {
    "_uuid": "d583babab7c606fee4f966fa21e55079f6fb874f"
   },
   "outputs": [
    {
     "data": {
      "text/plain": [
       "(364173, 10)"
      ]
     },
     "execution_count": 11,
     "metadata": {},
     "output_type": "execute_result"
    }
   ],
   "source": [
    "#Deduplication of entries\n",
    "final=sorted_data.drop_duplicates(subset={\"UserId\",\"ProfileName\",\"Time\",\"Text\"}, keep='first', inplace=False)\n",
    "final.shape"
   ]
  },
  {
   "cell_type": "markdown",
   "metadata": {},
   "source": [
    "<b>Deduplication 2:-</b> It was also seen that in two rows given below the value of HelpfulnessNumerator is greater than HelpfulnessDenominator which is not practically possible hence these two rows too are removed from calcualtions"
   ]
  },
  {
   "cell_type": "code",
   "execution_count": 51,
   "metadata": {},
   "outputs": [
    {
     "data": {
      "text/html": [
       "<table border=\"1\" class=\"dataframe\">\n",
       "  <thead>\n",
       "    <tr style=\"text-align: right;\">\n",
       "      <th>Id</th>\n",
       "      <th>ProductId</th>\n",
       "      <th>UserId</th>\n",
       "      <th>ProfileName</th>\n",
       "      <th>HelpfulnessNumerator</th>\n",
       "      <th>HelpfulnessDenominator</th>\n",
       "      <th>Score</th>\n",
       "      <th>Time</th>\n",
       "      <th>Summary</th>\n",
       "      <th>Text</th>\n",
       "    </tr>\n",
       "  </thead>\n",
       "  <tbody>\n",
       "    <tr>\n",
       "      <td>64422</td>\n",
       "      <td>B000MIDROQ</td>\n",
       "      <td>A161DK06JJMCYF</td>\n",
       "      <td>J. E. Stephens \"Jeanne\"</td>\n",
       "      <td>3</td>\n",
       "      <td>1</td>\n",
       "      <td>5</td>\n",
       "      <td>1224892800</td>\n",
       "      <td>Bought This for My Son at College</td>\n",
       "      <td>My son loves spaghetti so I didn't hesitate or...</td>\n",
       "    </tr>\n",
       "    <tr>\n",
       "      <td>44737</td>\n",
       "      <td>B001EQ55RW</td>\n",
       "      <td>A2V0I904FH7ABY</td>\n",
       "      <td>Ram</td>\n",
       "      <td>3</td>\n",
       "      <td>2</td>\n",
       "      <td>4</td>\n",
       "      <td>1212883200</td>\n",
       "      <td>Pure cocoa taste with crunchy almonds inside</td>\n",
       "      <td>It was almost a 'love at first bite' - the per...</td>\n",
       "    </tr>\n",
       "  </tbody>\n",
       "</table>"
      ],
      "text/plain": [
       "<IPython.core.display.HTML object>"
      ]
     },
     "execution_count": 51,
     "metadata": {},
     "output_type": "execute_result"
    }
   ],
   "source": [
    "display= pd.read_sql_query(\"\"\"\n",
    "SELECT *\n",
    "FROM Reviews\n",
    "WHERE Score != 3 AND Id=44737 OR Id=64422\n",
    "ORDER BY ProductID\n",
    "\"\"\", con)\n",
    "\n",
    "HTML(display.head().to_html(index=False))"
   ]
  },
  {
   "cell_type": "code",
   "execution_count": 52,
   "metadata": {
    "_uuid": "194efff1035d61576cc15c81115aab0d4aa23314"
   },
   "outputs": [
    {
     "name": "stdout",
     "output_type": "stream",
     "text": [
      "(364171, 10)\n"
     ]
    }
   ],
   "source": [
    "final=final[final.HelpfulnessNumerator<=final.HelpfulnessDenominator]\n",
    "print(final.shape)"
   ]
  },
  {
   "cell_type": "markdown",
   "metadata": {},
   "source": [
    "<b>Deduplication 3:-</b> It was also seen that a same user has given different reviews for a same product at same time.I think it is normal for a user to give multiple reviews about a product,but that should be in diffrent time.<br>\n",
    "So,all those rows with same user giving multiple reviews for a same product at same time are considered as duplicate and hence dropped."
   ]
  },
  {
   "cell_type": "code",
   "execution_count": 53,
   "metadata": {},
   "outputs": [
    {
     "data": {
      "text/html": [
       "<table border=\"1\" class=\"dataframe\">\n",
       "  <thead>\n",
       "    <tr style=\"text-align: right;\">\n",
       "      <th>Id</th>\n",
       "      <th>ProductId</th>\n",
       "      <th>UserId</th>\n",
       "      <th>ProfileName</th>\n",
       "      <th>HelpfulnessNumerator</th>\n",
       "      <th>HelpfulnessDenominator</th>\n",
       "      <th>Score</th>\n",
       "      <th>Time</th>\n",
       "      <th>Summary</th>\n",
       "      <th>Text</th>\n",
       "    </tr>\n",
       "  </thead>\n",
       "  <tbody>\n",
       "    <tr>\n",
       "      <td>86221</td>\n",
       "      <td>B000084E6V</td>\n",
       "      <td>A8891HVRDJAM6</td>\n",
       "      <td>Marfaux \"Marfaux\"</td>\n",
       "      <td>33</td>\n",
       "      <td>33</td>\n",
       "      <td>5</td>\n",
       "      <td>1161388800</td>\n",
       "      <td>Dog LOVE these!</td>\n",
       "      <td>We purchase these dinosaurs constantly.  For s...</td>\n",
       "    </tr>\n",
       "    <tr>\n",
       "      <td>86236</td>\n",
       "      <td>B000084E6V</td>\n",
       "      <td>A8891HVRDJAM6</td>\n",
       "      <td>Marfaux \"Marfaux\"</td>\n",
       "      <td>3</td>\n",
       "      <td>3</td>\n",
       "      <td>5</td>\n",
       "      <td>1161388800</td>\n",
       "      <td>Very entertaining!</td>\n",
       "      <td>These dinos are great for powerful chewers! Ou...</td>\n",
       "    </tr>\n",
       "  </tbody>\n",
       "</table>"
      ],
      "text/plain": [
       "<IPython.core.display.HTML object>"
      ]
     },
     "execution_count": 53,
     "metadata": {},
     "output_type": "execute_result"
    }
   ],
   "source": [
    "display= pd.read_sql_query(\"\"\"\n",
    "SELECT *\n",
    "FROM Reviews\n",
    "WHERE Score != 3 AND UserId= \"A8891HVRDJAM6\" \n",
    "ORDER BY ProductID\n",
    "\"\"\", con)\n",
    "\n",
    "HTML(display.head().to_html(index=False))"
   ]
  },
  {
   "cell_type": "code",
   "execution_count": 54,
   "metadata": {
    "_uuid": "a4645edd3e53130d96a6112de14f8b1d27dbfb23"
   },
   "outputs": [
    {
     "name": "stdout",
     "output_type": "stream",
     "text": [
      "(363633, 10)\n"
     ]
    }
   ],
   "source": [
    "final=final.drop_duplicates(subset={\"ProductId\",\"UserId\",\"ProfileName\",\"Time\"}, keep='first', inplace=False)\n",
    "print(final.shape)"
   ]
  },
  {
   "cell_type": "markdown",
   "metadata": {},
   "source": [
    "<b>Deduplication 4:-</b> It was also seen that in few rows with Ids from 150493 to 150529 contain reviews regarding books,not fine foods.So I think these should be also removed from the dataset.\n",
    "After looking at the productid column, it can be noticed that all the observations for fine foods start with B followed by numbers except for Ids from 150493 to 150529. \n",
    "I suppose the reviews for book ‘Chicken soup for the soul’ have gotten into the datset mistakenly as they contain the words “chicken soup."
   ]
  },
  {
   "cell_type": "code",
   "execution_count": 55,
   "metadata": {
    "_uuid": "52023509a82a879660fb3395e2814728a2ec1e03"
   },
   "outputs": [
    {
     "data": {
      "text/html": [
       "<table border=\"1\" class=\"dataframe\">\n",
       "  <thead>\n",
       "    <tr style=\"text-align: right;\">\n",
       "      <th>Id</th>\n",
       "      <th>ProductId</th>\n",
       "      <th>UserId</th>\n",
       "      <th>ProfileName</th>\n",
       "      <th>HelpfulnessNumerator</th>\n",
       "      <th>HelpfulnessDenominator</th>\n",
       "      <th>Score</th>\n",
       "      <th>Time</th>\n",
       "      <th>Summary</th>\n",
       "      <th>Text</th>\n",
       "    </tr>\n",
       "  </thead>\n",
       "  <tbody>\n",
       "    <tr>\n",
       "      <td>150524</td>\n",
       "      <td>0006641040</td>\n",
       "      <td>ACITT7DI6IDDL</td>\n",
       "      <td>shari zychinski</td>\n",
       "      <td>0</td>\n",
       "      <td>0</td>\n",
       "      <td>positive</td>\n",
       "      <td>939340800</td>\n",
       "      <td>EVERY book is educational</td>\n",
       "      <td>this witty little book makes my son laugh at l...</td>\n",
       "    </tr>\n",
       "    <tr>\n",
       "      <td>150506</td>\n",
       "      <td>0006641040</td>\n",
       "      <td>A2IW4PEEKO2R0U</td>\n",
       "      <td>Tracy</td>\n",
       "      <td>1</td>\n",
       "      <td>1</td>\n",
       "      <td>positive</td>\n",
       "      <td>1194739200</td>\n",
       "      <td>Love the book, miss the hard cover version</td>\n",
       "      <td>I grew up reading these Sendak books, and watc...</td>\n",
       "    </tr>\n",
       "    <tr>\n",
       "      <td>150507</td>\n",
       "      <td>0006641040</td>\n",
       "      <td>A1S4A3IQ2MU7V4</td>\n",
       "      <td>sally sue \"sally sue\"</td>\n",
       "      <td>1</td>\n",
       "      <td>1</td>\n",
       "      <td>positive</td>\n",
       "      <td>1191456000</td>\n",
       "      <td>chicken soup with rice months</td>\n",
       "      <td>This is a fun way for children to learn their ...</td>\n",
       "    </tr>\n",
       "    <tr>\n",
       "      <td>150508</td>\n",
       "      <td>0006641040</td>\n",
       "      <td>AZGXZ2UUK6X</td>\n",
       "      <td>Catherine Hallberg \"(Kate)\"</td>\n",
       "      <td>1</td>\n",
       "      <td>1</td>\n",
       "      <td>positive</td>\n",
       "      <td>1076025600</td>\n",
       "      <td>a good swingy rhythm for reading aloud</td>\n",
       "      <td>This is a great little book to read aloud- it ...</td>\n",
       "    </tr>\n",
       "    <tr>\n",
       "      <td>150509</td>\n",
       "      <td>0006641040</td>\n",
       "      <td>A3CMRKGE0P909G</td>\n",
       "      <td>Teresa</td>\n",
       "      <td>3</td>\n",
       "      <td>4</td>\n",
       "      <td>positive</td>\n",
       "      <td>1018396800</td>\n",
       "      <td>A great way to learn the months</td>\n",
       "      <td>This is a book of poetry about the months of t...</td>\n",
       "    </tr>\n",
       "  </tbody>\n",
       "</table>"
      ],
      "text/plain": [
       "<IPython.core.display.HTML object>"
      ]
     },
     "execution_count": 55,
     "metadata": {},
     "output_type": "execute_result"
    }
   ],
   "source": [
    "display = final[final.ProductId == \"0006641040\"]\n",
    "HTML(display.head().to_html(index=False))"
   ]
  },
  {
   "cell_type": "code",
   "execution_count": 56,
   "metadata": {
    "_uuid": "feda55f30c64a6269475b9f51f7c1aecb591a0a8"
   },
   "outputs": [],
   "source": [
    "final = final[final.ProductId != \"0006641040\"]"
   ]
  },
  {
   "cell_type": "code",
   "execution_count": 57,
   "metadata": {},
   "outputs": [
    {
     "name": "stdout",
     "output_type": "stream",
     "text": [
      "Percentage  of data still remaining :  69.14973735959865\n",
      "Number of reviews left after Data Cleaning and Deduplication :\n",
      "(363599, 10)\n"
     ]
    },
    {
     "data": {
      "text/plain": [
       "positive    306566\n",
       "negative     57033\n",
       "Name: Score, dtype: int64"
      ]
     },
     "execution_count": 57,
     "metadata": {},
     "output_type": "execute_result"
    }
   ],
   "source": [
    "print(\"Percentage  of data still remaining : \",(final['Id'].size*1.0)/(filtered_data['Id'].size*1.0)*100)\n",
    "\n",
    "#Before starting the next phase of preprocessing lets see the number of entries left\n",
    "print(\"Number of reviews left after Data Cleaning and Deduplication :\")\n",
    "print(final.shape)\n",
    "\n",
    "#How many positive and negative reviews are present in our dataset?\n",
    "final['Score'].value_counts()"
   ]
  },
  {
   "cell_type": "markdown",
   "metadata": {},
   "source": [
    "<b>Observation:-</b>  \n",
    "It is an imbalanced dataset as the number of positive reviews are way high in number than negative reviews."
   ]
  },
  {
   "cell_type": "markdown",
   "metadata": {},
   "source": [
    "## [5] Text Preprocessing Using NLTK : <a name=\"textprep\"></a>\n",
    "\n",
    "In the Preprocessing phase we do the following in the order below:-\n",
    "\n",
    "1. Removal of HTML Tags\n",
    "2. Removal of  any punctuations or limited set of special characters like , or . or # etc.\n",
    "3. Check if the word is made up of english letters and is not alpha-numeric\n",
    "4. Check to see if the length of the word is greater than 2 (as it was researched that there is no adjective in 2-letters)\n",
    "5. Convert the word to lowercase\n",
    "6. Removal of  Stopwords\n",
    "7. Finally Snowball Stemming the word <br>\n",
    "\n",
    "After which we collect the words used to describe positive and negative reviews\n",
    "\n",
    "### [5.1] Using SQLite Table to load preprocessed data already saved in disk:"
   ]
  },
  {
   "cell_type": "code",
   "execution_count": 142,
   "metadata": {},
   "outputs": [],
   "source": [
    "# using the SQLite Table to read data.\n",
    "conn = sqlite3.connect('final.sqlite') \n",
    "\n",
    "final = pd.read_sql_query(\"\"\" SELECT * FROM Reviews \"\"\",conn) "
   ]
  },
  {
   "cell_type": "code",
   "execution_count": 143,
   "metadata": {
    "_uuid": "7e1e078fdd445552fe7dce5b0f7d3143a999baec"
   },
   "outputs": [
    {
     "data": {
      "text/plain": [
       "positive    306566\n",
       "negative     57033\n",
       "Name: Score, dtype: int64"
      ]
     },
     "execution_count": 143,
     "metadata": {},
     "output_type": "execute_result"
    }
   ],
   "source": [
    "#Listing out the number of positive and negative reviews\n",
    "final = final.reset_index(drop=True)\n",
    "final['Score'].value_counts()"
   ]
  },
  {
   "cell_type": "code",
   "execution_count": 144,
   "metadata": {},
   "outputs": [
    {
     "data": {
      "text/plain": [
       "positive    84.314313\n",
       "negative    15.685687\n",
       "Name: Score, dtype: float64"
      ]
     },
     "execution_count": 144,
     "metadata": {},
     "output_type": "execute_result"
    }
   ],
   "source": [
    "(final['Score'].value_counts()/len(final['Score']))*100"
   ]
  },
  {
   "cell_type": "markdown",
   "metadata": {},
   "source": [
    "## [6] Train and Test Split of Data : <a name=\"split\"></a>"
   ]
  },
  {
   "cell_type": "markdown",
   "metadata": {},
   "source": [
    "<b>Sorting the data by Time :</b>"
   ]
  },
  {
   "cell_type": "code",
   "execution_count": 145,
   "metadata": {},
   "outputs": [
    {
     "data": {
      "text/html": [
       "<div>\n",
       "<style>\n",
       "    .dataframe thead tr:only-child th {\n",
       "        text-align: right;\n",
       "    }\n",
       "\n",
       "    .dataframe thead th {\n",
       "        text-align: left;\n",
       "    }\n",
       "\n",
       "    .dataframe tbody tr th {\n",
       "        vertical-align: top;\n",
       "    }\n",
       "</style>\n",
       "<table border=\"1\" class=\"dataframe\">\n",
       "  <thead>\n",
       "    <tr style=\"text-align: right;\">\n",
       "      <th></th>\n",
       "      <th>index</th>\n",
       "      <th>Id</th>\n",
       "      <th>ProductId</th>\n",
       "      <th>UserId</th>\n",
       "      <th>ProfileName</th>\n",
       "      <th>HelpfulnessNumerator</th>\n",
       "      <th>HelpfulnessDenominator</th>\n",
       "      <th>Score</th>\n",
       "      <th>Time</th>\n",
       "      <th>Summary</th>\n",
       "      <th>Text</th>\n",
       "      <th>CleanedText</th>\n",
       "    </tr>\n",
       "  </thead>\n",
       "  <tbody>\n",
       "    <tr>\n",
       "      <th>386</th>\n",
       "      <td>417838</td>\n",
       "      <td>451855</td>\n",
       "      <td>B00004CXX9</td>\n",
       "      <td>AJH6LUC1UT1ON</td>\n",
       "      <td>The Phantom of the Opera</td>\n",
       "      <td>0</td>\n",
       "      <td>0</td>\n",
       "      <td>positive</td>\n",
       "      <td>946857600</td>\n",
       "      <td>FANTASTIC!</td>\n",
       "      <td>Beetlejuice is an excellent and funny movie. K...</td>\n",
       "      <td>beetlejuic excel funni movi keaton hilari wack...</td>\n",
       "    </tr>\n",
       "    <tr>\n",
       "      <th>225</th>\n",
       "      <td>346141</td>\n",
       "      <td>374450</td>\n",
       "      <td>B00004CI84</td>\n",
       "      <td>ACJR7EQF9S6FP</td>\n",
       "      <td>Jeremy Robertson</td>\n",
       "      <td>2</td>\n",
       "      <td>3</td>\n",
       "      <td>positive</td>\n",
       "      <td>951523200</td>\n",
       "      <td>Bettlejuice...Bettlejuice...BETTLEJUICE!</td>\n",
       "      <td>What happens when you say his name three times...</td>\n",
       "      <td>happen say name three time michael keaten star...</td>\n",
       "    </tr>\n",
       "    <tr>\n",
       "      <th>831</th>\n",
       "      <td>138017</td>\n",
       "      <td>149789</td>\n",
       "      <td>B00004S1C6</td>\n",
       "      <td>A1KXONFPU2XQ5K</td>\n",
       "      <td>Stephanie Manley</td>\n",
       "      <td>26</td>\n",
       "      <td>28</td>\n",
       "      <td>positive</td>\n",
       "      <td>965779200</td>\n",
       "      <td>A must have!</td>\n",
       "      <td>These are easy to use, they do not make a mess...</td>\n",
       "      <td>easi use not make mess offer vibrant color not...</td>\n",
       "    </tr>\n",
       "    <tr>\n",
       "      <th>213</th>\n",
       "      <td>346115</td>\n",
       "      <td>374421</td>\n",
       "      <td>B00004CI84</td>\n",
       "      <td>A1FJOY14X3MUHE</td>\n",
       "      <td>Justin Howard</td>\n",
       "      <td>2</td>\n",
       "      <td>2</td>\n",
       "      <td>positive</td>\n",
       "      <td>966297600</td>\n",
       "      <td>A fresh, original film from master storyteller...</td>\n",
       "      <td>This is such a great film, I don't even know h...</td>\n",
       "      <td>great film dont even know sum first complet or...</td>\n",
       "    </tr>\n",
       "    <tr>\n",
       "      <th>807</th>\n",
       "      <td>138000</td>\n",
       "      <td>149768</td>\n",
       "      <td>B00004S1C5</td>\n",
       "      <td>A7P76IGRZZBFJ</td>\n",
       "      <td>E. Thompson \"Soooooper Genius\"</td>\n",
       "      <td>18</td>\n",
       "      <td>18</td>\n",
       "      <td>positive</td>\n",
       "      <td>975974400</td>\n",
       "      <td>Who Needs Wilton?</td>\n",
       "      <td>I'm sick of scads of nasty toothpicks all over...</td>\n",
       "      <td>sick scad nasti toothpick counter tint concept...</td>\n",
       "    </tr>\n",
       "  </tbody>\n",
       "</table>\n",
       "</div>"
      ],
      "text/plain": [
       "      index      Id   ProductId          UserId  \\\n",
       "386  417838  451855  B00004CXX9   AJH6LUC1UT1ON   \n",
       "225  346141  374450  B00004CI84   ACJR7EQF9S6FP   \n",
       "831  138017  149789  B00004S1C6  A1KXONFPU2XQ5K   \n",
       "213  346115  374421  B00004CI84  A1FJOY14X3MUHE   \n",
       "807  138000  149768  B00004S1C5   A7P76IGRZZBFJ   \n",
       "\n",
       "                        ProfileName  HelpfulnessNumerator  \\\n",
       "386        The Phantom of the Opera                     0   \n",
       "225                Jeremy Robertson                     2   \n",
       "831                Stephanie Manley                    26   \n",
       "213                   Justin Howard                     2   \n",
       "807  E. Thompson \"Soooooper Genius\"                    18   \n",
       "\n",
       "     HelpfulnessDenominator     Score       Time  \\\n",
       "386                       0  positive  946857600   \n",
       "225                       3  positive  951523200   \n",
       "831                      28  positive  965779200   \n",
       "213                       2  positive  966297600   \n",
       "807                      18  positive  975974400   \n",
       "\n",
       "                                               Summary  \\\n",
       "386                                         FANTASTIC!   \n",
       "225           Bettlejuice...Bettlejuice...BETTLEJUICE!   \n",
       "831                                       A must have!   \n",
       "213  A fresh, original film from master storyteller...   \n",
       "807                                  Who Needs Wilton?   \n",
       "\n",
       "                                                  Text  \\\n",
       "386  Beetlejuice is an excellent and funny movie. K...   \n",
       "225  What happens when you say his name three times...   \n",
       "831  These are easy to use, they do not make a mess...   \n",
       "213  This is such a great film, I don't even know h...   \n",
       "807  I'm sick of scads of nasty toothpicks all over...   \n",
       "\n",
       "                                           CleanedText  \n",
       "386  beetlejuic excel funni movi keaton hilari wack...  \n",
       "225  happen say name three time michael keaten star...  \n",
       "831  easi use not make mess offer vibrant color not...  \n",
       "213  great film dont even know sum first complet or...  \n",
       "807  sick scad nasti toothpick counter tint concept...  "
      ]
     },
     "execution_count": 145,
     "metadata": {},
     "output_type": "execute_result"
    }
   ],
   "source": [
    "final = final.sample(n = 100000)\n",
    "\n",
    "final=final.sort_values('Time', axis=0, ascending=True, inplace=False, kind='quicksort', na_position='last')\n",
    "final.head()"
   ]
  },
  {
   "cell_type": "markdown",
   "metadata": {},
   "source": [
    "<b>Time Based Slicing :</b>  \n",
    "-  Diving the data to Train set(first 70% ie older data) and Test  Set(last 30% ie recent data)"
   ]
  },
  {
   "cell_type": "code",
   "execution_count": 146,
   "metadata": {},
   "outputs": [],
   "source": [
    "from sklearn.model_selection import train_test_split\n",
    "\n",
    "X = final[\"CleanedText\"].values\n",
    "y = final[\"Score\"].values\n",
    "X_train,X_test,y_train,y_test = train_test_split(X, y, test_size = 0.3,shuffle = False)"
   ]
  },
  {
   "cell_type": "code",
   "execution_count": 29,
   "metadata": {},
   "outputs": [
    {
     "name": "stdout",
     "output_type": "stream",
     "text": [
      "Shape of X_train:  (70000,)\n",
      "Shape of y_train:  (70000,)\n",
      "Shape of X_test:  (30000,)\n",
      "Shape of y_test:  (30000,)\n"
     ]
    }
   ],
   "source": [
    "print(\"Shape of X_train: \",X_train.shape)\n",
    "print(\"Shape of y_train: \",y_train.shape)\n",
    "print(\"Shape of X_test: \",X_test.shape)\n",
    "print(\"Shape of y_test: \",y_test.shape)"
   ]
  },
  {
   "cell_type": "markdown",
   "metadata": {},
   "source": [
    "## [7] Ensemble Models : <a name=\"ens\"></a>\n",
    "\n",
    "### [7.1] Random Forest(Bagging): <a name=\"rf\"></a>\n",
    "-  Ensemeble model with concept of <b>Bootsrap Sampling,Feature Sampling and Aggregation of baselearners using majority vote</b>.\n",
    "-  Hyperparameter - <b>No of Baselearners(decission Trees)</b>\n",
    "-  Baselearners with <b>high varriance and low bias(fully grown trees)</b>\n",
    "-  Performing 10 fold cross validation(Grid Search) on Train data \n",
    "-  Finding the optimal hyperparameters\n",
    "-  Plotting between CV error/CV Accuracy and No of Baselearners\n",
    "-  Predicting on Test Data and plotting Confusion Matrix\n",
    "-  Reporting Performance Metrics"
   ]
  },
  {
   "cell_type": "code",
   "execution_count": 4,
   "metadata": {},
   "outputs": [],
   "source": [
    "import warnings\n",
    "warnings.filterwarnings('ignore')\n",
    "\n",
    "\n",
    "from sklearn.model_selection import TimeSeriesSplit\n",
    "from sklearn.ensemble import RandomForestClassifier\n",
    "from sklearn.model_selection import cross_val_score as cv\n",
    "from sklearn.metrics import accuracy_score\n",
    "from sklearn.metrics import confusion_matrix,precision_score,recall_score,f1_score,classification_report\n",
    "from sklearn.model_selection import GridSearchCV\n",
    "\n",
    "def RF_model(X_train,y_train):\n",
    "    \n",
    "    baselearners=[10,20,30,40,50,60,70,80,100]\n",
    "    param_rf=dict(n_estimators=baselearners)\n",
    "   \n",
    "    #Cross validation using TimeSeriesSplit\n",
    "    tscv = TimeSeriesSplit(n_splits=10)\n",
    "    \n",
    "    \n",
    "    #using class_weight = \"balanced_subsample\" to balance the imbalanced nature on the bootstrap sample for every tree grown\n",
    "    model = RandomForestClassifier(class_weight = \"balanced_subsample\")\n",
    "    grid = GridSearchCV(model, param_rf, cv = tscv, scoring = 'f1_weighted')\n",
    "    grid_estimator = grid.fit(X_train, y_train)\n",
    "    \n",
    "    #Finding the optimal hyperparameter\n",
    "    optimal_baselearners = grid_estimator.best_params_\n",
    "    \n",
    "    #Finding the best score\n",
    "    grid_mean_scores = [i.mean_validation_score for i in grid_estimator.grid_scores_]\n",
    "    best_score = grid_estimator.best_score_\n",
    "    \n",
    "    #CV Scores\n",
    "    print(\"\\n\\033[1mGrid Scores for Model is:\\033[0m\\n\",grid_estimator.grid_scores_)\n",
    "    print(\"\\n\\033[1mBest Parameters:\\033[0m \",optimal_baselearners)\n",
    "    print(\"\\n\\033[1mBest F1-Score:\\033[0m {} \".format(np.round(best_score,3)))\n",
    "    \n",
    "    \n",
    "    #Plot \n",
    "    plt.figure(figsize = (10,6))\n",
    "    plt.plot(baselearners,grid_mean_scores, 'g-o')\n",
    "    for xy in zip(baselearners, np.round(grid_mean_scores,3)):\n",
    "         plt.annotate('(%s %s)' % xy, xy = xy, textcoords = 'data')\n",
    "    plt.title(\"CV F1-Score vs No of BaseLearners \", fontsize=20, fontweight='bold')\n",
    "    plt.xlabel(\"BaseLearners\", fontsize=16)\n",
    "    plt.ylabel('CV F1-Score', fontsize=16)\n",
    "    plt.grid('on')\n",
    "    \n",
    "    return grid_estimator"
   ]
  },
  {
   "cell_type": "code",
   "execution_count": 5,
   "metadata": {},
   "outputs": [],
   "source": [
    "def RF_Test(X_test,y_test):\n",
    "    y_pred = grid_estimator.predict(X_test)\n",
    "    accuracy = accuracy_score(y_test,y_pred) * 100\n",
    "    precision = precision_score(y_test,y_pred,average= 'weighted')\n",
    "    recall = recall_score(y_test,y_pred,average= 'weighted')\n",
    "    f1= f1_score(y_test,y_pred,average= 'weighted')\n",
    "    MSE = (1 - (accuracy/100))\n",
    "    cm = confusion_matrix(y_test, y_pred)\n",
    "    tn, fp, fn, tp = confusion_matrix(y_test, y_pred).ravel()\n",
    "    cm_df = pd.DataFrame(cm,\n",
    "                         index = ['negative','positive'], \n",
    "                        columns = ['negative','positive'])\n",
    "    sns.heatmap(cm_df, annot=True)\n",
    "    plt.title('Confusion Matrix')\n",
    "    plt.ylabel('Actual Label')\n",
    "    plt.xlabel('Predicted Label')\n",
    "    plt.show()\n",
    "    \n",
    "    print(cm)\n",
    "    print(\"\\n\\033[1mTest Error :\\033[0m {}\".format(np.round(MSE,3)))\n",
    "    print(\"\\033[1mTest Accuracy :\\033[0m {} %\".format(np.round(accuracy,3)))\n",
    "    print(\"\\033[1mTrue Negative :\\033[0m {}\".format(tn))\n",
    "    print(\"\\033[1mFalse Positive :\\033[0m {}\".format(fp))\n",
    "    print(\"\\033[1mFalse Negative :\\033[0m {}\".format(fn))\n",
    "    print(\"\\033[1mTrue Positive :\\033[0m {}\".format(tp))\n",
    "    print(\"\\33[1mPrecission Score :\\033[0m {}\".format(np.round(precision,3)))\n",
    "    print(\"\\33[1mRecall Score :\\033[0m {}\".format(np.round(recall,3)))\n",
    "    print(\"\\33[1mF1 Score :\\033[0m {}\".format(np.round(f1,3)))\n",
    "    print(\"\\n\\n\")\n",
    "    \n",
    "    print('\\33[1mClassification Report for Model is :\\33[0m')\n",
    "    classificationreport = classification_report(y_test, y_pred)\n",
    "    print(classificationreport)"
   ]
  },
  {
   "cell_type": "code",
   "execution_count": 6,
   "metadata": {},
   "outputs": [],
   "source": [
    "def featureimportance(X_train, y_train, d, vectorizer, n=20):\n",
    "    clf = RandomForestClassifier(max_depth=d,class_weight=\"balanced\") \n",
    "    clf.fit(X_train,y_train)\n",
    "    \n",
    "    features=clf.feature_importances_\n",
    "    index = np.argsort(features)[::-1][:n] \n",
    "    \n",
    "    names = vectorizer.get_feature_names()\n",
    "    names = np.array(names)\n",
    "    plt.figure(figsize=(20, 6))\n",
    "    plt.bar(range(n),features[index])\n",
    "    plt.xticks(range(n),names[index],rotation=90)\n",
    "    plt.title(\"Feature Importance\", fontsize=20,fontweight=\"bold\")\n",
    "    plt.grid('on')\n",
    "    plt.show()"
   ]
  },
  {
   "cell_type": "markdown",
   "metadata": {},
   "source": [
    "### [7.2] XGBoost (Gradient Boosting): <a name=\"xg\"></a>\n",
    "-  Ensemeble model with <b>Additive Combining of Baselearners with concept of fitting pseudo residuals obtained at the previous iteration</b>.\n",
    "-  Hyperparameter - <b>No of Baselearners(decission Trees), depth, Learningrate</b>\n",
    "-  Baselearners with <b>high bias and low varriance(shallow trees of very less depth)</b>\n",
    "-  Performing 10 fold cross validation(Grid Search) on Train data \n",
    "-  Finding the optimal hyperparameters\n",
    "-  Predicting on Test Data and plotting Confusion Matrix\n",
    "-  Reporting Performance Metrics"
   ]
  },
  {
   "cell_type": "code",
   "execution_count": 7,
   "metadata": {},
   "outputs": [],
   "source": [
    "import warnings\n",
    "warnings.filterwarnings('ignore')\n",
    "\n",
    "import xgboost as xgb\n",
    "from xgboost.sklearn import XGBClassifier\n",
    "from sklearn.model_selection import RandomizedSearchCV\n",
    "import scipy.stats as st\n",
    "\n",
    "\n",
    "#taking depth between range 1 to 5 for shallow trees(high bias)\n",
    "param_gb = {\"n_estimators\":st.randint(3,200),\n",
    "            \"max_depth\":st.randint(1,5),\n",
    "            \"learning_rate\":st.uniform(0.05,0.5)\n",
    "}\n",
    "\n",
    "\n",
    "def XGB_model(X_train,y_train):\n",
    "    \n",
    "    #Cross validation using TimeSeriesSplit\n",
    "    tscv = TimeSeriesSplit(n_splits=10)\n",
    "    \n",
    "    \n",
    "    model = XGBClassifier()\n",
    "    grid = RandomizedSearchCV(model, param_gb, cv = tscv, scoring = 'f1_weighted')\n",
    "    random_estimator = grid.fit(X_train, y_train)\n",
    "    \n",
    "    #Finding the optimal hyperparameters\n",
    "    optimal_hyperparameters = random_estimator.best_params_\n",
    "    \n",
    "    #Finding the best score\n",
    "    grid_mean_scores = [i.mean_validation_score for i in random_estimator.grid_scores_]\n",
    "    best_score = random_estimator.best_score_\n",
    "    \n",
    "    #CV Scores\n",
    "    print(\"\\n\\033[1mGrid Scores for Model is:\\033[0m\\n\",random_estimator.grid_scores_)\n",
    "    print(\"\\n\\033[1mBest Parameters:\\033[0m \",optimal_hyperparameters)\n",
    "    print(\"\\n\\033[1mBest F1-Score:\\033[0m {} \".format(np.round(best_score,3)))\n",
    "    \n",
    "\n",
    "    return random_estimator"
   ]
  },
  {
   "cell_type": "code",
   "execution_count": 8,
   "metadata": {},
   "outputs": [],
   "source": [
    "def XGB_Test(X_test,y_test):\n",
    "    y_pred = random_estimator.predict(X_test)\n",
    "    accuracy = accuracy_score(y_test,y_pred) * 100\n",
    "    precision = precision_score(y_test,y_pred,average= 'weighted')\n",
    "    recall = recall_score(y_test,y_pred,average= 'weighted')\n",
    "    f1= f1_score(y_test,y_pred,average= 'weighted')\n",
    "    MSE = (1 - (accuracy/100))\n",
    "    cm = confusion_matrix(y_test, y_pred)\n",
    "    tn, fp, fn, tp = confusion_matrix(y_test, y_pred).ravel()\n",
    "    cm_df = pd.DataFrame(cm,\n",
    "                         index = ['negative','positive'], \n",
    "                        columns = ['negative','positive'])\n",
    "    sns.heatmap(cm_df, annot=True)\n",
    "    plt.title('Confusion Matrix')\n",
    "    plt.ylabel('Actual Label')\n",
    "    plt.xlabel('Predicted Label')\n",
    "    plt.show()\n",
    "    \n",
    "    print(cm)\n",
    "    print(\"\\n\\033[1mTest Error :\\033[0m {}\".format(np.round(MSE,3)))\n",
    "    print(\"\\033[1mTest Accuracy :\\033[0m {} %\".format(np.round(accuracy,3)))\n",
    "    print(\"\\033[1mTrue Negative :\\033[0m {}\".format(tn))\n",
    "    print(\"\\033[1mFalse Positive :\\033[0m {}\".format(fp))\n",
    "    print(\"\\033[1mFalse Negative :\\033[0m {}\".format(fn))\n",
    "    print(\"\\033[1mTrue Positive :\\033[0m {}\".format(tp))\n",
    "    print(\"\\33[1mPrecission Score :\\033[0m {}\".format(np.round(precision,3)))\n",
    "    print(\"\\33[1mRecall Score :\\033[0m {}\".format(np.round(recall,3)))\n",
    "    print(\"\\33[1mF1 Score :\\033[0m {}\".format(np.round(f1,3)))\n",
    "    print(\"\\n\\n\")\n",
    "    \n",
    "    print('\\33[1mClassification Report for Model is :\\33[0m')\n",
    "    classificationreport = classification_report(y_test, y_pred)\n",
    "    print(classificationreport)"
   ]
  },
  {
   "cell_type": "markdown",
   "metadata": {},
   "source": [
    "## [8] Featurization Methods : <a name=\"vec\"></a>  "
   ]
  },
  {
   "cell_type": "markdown",
   "metadata": {},
   "source": [
    "### [8.1] Bag Of Words(unigram) : <a name=\"bowuni\"></a>"
   ]
  },
  {
   "cell_type": "code",
   "execution_count": 9,
   "metadata": {},
   "outputs": [
    {
     "name": "stdout",
     "output_type": "stream",
     "text": [
      "Type of Count Vectorizer:  <class 'scipy.sparse.csr.csr_matrix'>\n",
      "The shape of text BOW vectorizer:  (70000, 3907)\n",
      "Number of unique word:  3907\n",
      "CPU times: user 3.18 s, sys: 8 ms, total: 3.19 s\n",
      "Wall time: 3.19 s\n"
     ]
    }
   ],
   "source": [
    "%%time\n",
    "bow_unigram = CountVectorizer(min_df=0.0005)\n",
    "X_train_bowuni = bow_unigram.fit_transform(X_train)\n",
    "print(\"Type of Count Vectorizer: \",type(X_train_bowuni))\n",
    "print(\"The shape of text BOW vectorizer: \", X_train_bowuni.get_shape())\n",
    "print(\"Number of unique word: \", X_train_bowuni.get_shape()[1])"
   ]
  },
  {
   "cell_type": "code",
   "execution_count": 10,
   "metadata": {},
   "outputs": [
    {
     "name": "stdout",
     "output_type": "stream",
     "text": [
      "The shape of text BOW vectorizer:  (30000, 3907)\n",
      "Number of unique word:  3907\n",
      "CPU times: user 1.52 s, sys: 8 ms, total: 1.53 s\n",
      "Wall time: 1.53 s\n"
     ]
    }
   ],
   "source": [
    "%%time\n",
    "X_test_bowuni = bow_unigram.transform(X_test)\n",
    "print(\"The shape of text BOW vectorizer: \", X_test_bowuni.get_shape())\n",
    "print(\"Number of unique word: \", X_test_bowuni.get_shape()[1])"
   ]
  },
  {
   "cell_type": "code",
   "execution_count": 11,
   "metadata": {},
   "outputs": [
    {
     "name": "stdout",
     "output_type": "stream",
     "text": [
      "Shape of Training Data:  (70000, 3907)\n",
      "Shape of Test Data:  (30000, 3907)\n"
     ]
    }
   ],
   "source": [
    "print(\"Shape of Training Data: \",X_train_bowuni.shape)\n",
    "print(\"Shape of Test Data: \",X_test_bowuni.shape)"
   ]
  },
  {
   "cell_type": "markdown",
   "metadata": {},
   "source": [
    "#### [8.1.1] Random Forest :"
   ]
  },
  {
   "cell_type": "code",
   "execution_count": 14,
   "metadata": {},
   "outputs": [
    {
     "name": "stdout",
     "output_type": "stream",
     "text": [
      "\n",
      "\u001b[1mGrid Scores for Model is:\u001b[0m\n",
      " [mean: 0.86308, std: 0.00795, params: {'n_estimators': 10}, mean: 0.85707, std: 0.00680, params: {'n_estimators': 20}, mean: 0.85681, std: 0.00841, params: {'n_estimators': 30}, mean: 0.85438, std: 0.00789, params: {'n_estimators': 40}, mean: 0.85311, std: 0.00953, params: {'n_estimators': 50}, mean: 0.85277, std: 0.00818, params: {'n_estimators': 60}, mean: 0.85269, std: 0.00963, params: {'n_estimators': 70}, mean: 0.85068, std: 0.01002, params: {'n_estimators': 80}, mean: 0.85096, std: 0.00982, params: {'n_estimators': 100}]\n",
      "\n",
      "\u001b[1mBest Parameters:\u001b[0m  {'n_estimators': 10}\n",
      "\n",
      "\u001b[1mBest F1-Score:\u001b[0m 0.863 \n",
      "CPU times: user 1h 20s, sys: 668 ms, total: 1h 20s\n",
      "Wall time: 1h 21s\n"
     ]
    },
    {
     "data": {
      "image/png": "[encoded data removed]",
      "text/plain": [
       "<matplotlib.figure.Figure at 0x3fff2a853b70>"
      ]
     },
     "metadata": {},
     "output_type": "display_data"
    }
   ],
   "source": [
    "%%time\n",
    "grid_estimator = RF_model(X_train_bowuni, y_train)"
   ]
  },
  {
   "cell_type": "code",
   "execution_count": 15,
   "metadata": {},
   "outputs": [
    {
     "data": {
      "image/png": "[encoded data removed]",
      "text/plain": [
       "<matplotlib.figure.Figure at 0x3fff2a56e668>"
      ]
     },
     "metadata": {},
     "output_type": "display_data"
    },
    {
     "name": "stdout",
     "output_type": "stream",
     "text": [
      "[[ 2338  2958]\n",
      " [  746 23958]]\n",
      "\n",
      "\u001b[1mTest Error :\u001b[0m 0.123\n",
      "\u001b[1mTest Accuracy :\u001b[0m 87.653 %\n",
      "\u001b[1mTrue Negative :\u001b[0m 2338\n",
      "\u001b[1mFalse Positive :\u001b[0m 2958\n",
      "\u001b[1mFalse Negative :\u001b[0m 746\n",
      "\u001b[1mTrue Positive :\u001b[0m 23958\n",
      "\u001b[1mPrecission Score :\u001b[0m 0.867\n",
      "\u001b[1mRecall Score :\u001b[0m 0.877\n",
      "\u001b[1mF1 Score :\u001b[0m 0.863\n",
      "\n",
      "\n",
      "\n",
      "\u001b[1mClassification Report for Model is :\u001b[0m\n",
      "             precision    recall  f1-score   support\n",
      "\n",
      "   negative       0.76      0.44      0.56      5296\n",
      "   positive       0.89      0.97      0.93     24704\n",
      "\n",
      "avg / total       0.87      0.88      0.86     30000\n",
      "\n",
      "CPU times: user 2.14 s, sys: 12 ms, total: 2.15 s\n",
      "Wall time: 2.15 s\n"
     ]
    }
   ],
   "source": [
    "%%time\n",
    "RF_Test(X_test_bowuni,y_test) "
   ]
  },
  {
   "cell_type": "code",
   "execution_count": 20,
   "metadata": {},
   "outputs": [
    {
     "data": {
      "image/png": "[encoded data removed]",
      "text/plain": [
       "<matplotlib.figure.Figure at 0x3fff2a516240>"
      ]
     },
     "metadata": {},
     "output_type": "display_data"
    },
    {
     "name": "stdout",
     "output_type": "stream",
     "text": [
      "CPU times: user 1.06 s, sys: 8 ms, total: 1.07 s\n",
      "Wall time: 1.07 s\n"
     ]
    }
   ],
   "source": [
    "%%time\n",
    "featureimportance(X_train_bowuni, y_train,10,bow_unigram)"
   ]
  },
  {
   "cell_type": "markdown",
   "metadata": {},
   "source": [
    "#### [8.1.2] XG Boost :"
   ]
  },
  {
   "cell_type": "code",
   "execution_count": 12,
   "metadata": {},
   "outputs": [
    {
     "name": "stdout",
     "output_type": "stream",
     "text": [
      "\n",
      "\u001b[1mGrid Scores for Model is:\u001b[0m\n",
      " [mean: 0.80644, std: 0.01509, params: {'learning_rate': 0.06668360836629884, 'max_depth': 2, 'n_estimators': 108}, mean: 0.84430, std: 0.00891, params: {'learning_rate': 0.06799300292669126, 'max_depth': 3, 'n_estimators': 180}, mean: 0.77916, std: 0.02652, params: {'learning_rate': 0.0654438087041719, 'max_depth': 1, 'n_estimators': 16}, mean: 0.78029, std: 0.02580, params: {'learning_rate': 0.08886350897510405, 'max_depth': 2, 'n_estimators': 10}, mean: 0.78126, std: 0.02576, params: {'learning_rate': 0.24065436138139162, 'max_depth': 1, 'n_estimators': 14}, mean: 0.85244, std: 0.01080, params: {'learning_rate': 0.4914024104034224, 'max_depth': 1, 'n_estimators': 76}, mean: 0.86488, std: 0.00903, params: {'learning_rate': 0.4803253730117049, 'max_depth': 3, 'n_estimators': 40}, mean: 0.87344, std: 0.00735, params: {'learning_rate': 0.3860620927908864, 'max_depth': 4, 'n_estimators': 53}, mean: 0.88192, std: 0.00710, params: {'learning_rate': 0.3981686322300846, 'max_depth': 3, 'n_estimators': 101}, mean: 0.89162, std: 0.00722, params: {'learning_rate': 0.5450651968482602, 'max_depth': 2, 'n_estimators': 180}]\n",
      "\n",
      "\u001b[1mBest Parameters:\u001b[0m  {'learning_rate': 0.5450651968482602, 'max_depth': 2, 'n_estimators': 180}\n",
      "\n",
      "\u001b[1mBest F1-Score:\u001b[0m 0.892 \n",
      "CPU times: user 10min 35s, sys: 1.04 s, total: 10min 36s\n",
      "Wall time: 10min 36s\n"
     ]
    }
   ],
   "source": [
    "%%time\n",
    "random_estimator = XGB_model(X_train_bowuni, y_train)"
   ]
  },
  {
   "cell_type": "code",
   "execution_count": 13,
   "metadata": {},
   "outputs": [
    {
     "data": {
      "image/png": "[encoded data removed]",
      "text/plain": [
       "<matplotlib.figure.Figure at 0x3fff2a812c88>"
      ]
     },
     "metadata": {},
     "output_type": "display_data"
    },
    {
     "name": "stdout",
     "output_type": "stream",
     "text": [
      "[[ 2761  2535]\n",
      " [  556 24148]]\n",
      "\n",
      "\u001b[1mTest Error :\u001b[0m 0.103\n",
      "\u001b[1mTest Accuracy :\u001b[0m 89.697 %\n",
      "\u001b[1mTrue Negative :\u001b[0m 2761\n",
      "\u001b[1mFalse Positive :\u001b[0m 2535\n",
      "\u001b[1mFalse Negative :\u001b[0m 556\n",
      "\u001b[1mTrue Positive :\u001b[0m 24148\n",
      "\u001b[1mPrecission Score :\u001b[0m 0.892\n",
      "\u001b[1mRecall Score :\u001b[0m 0.897\n",
      "\u001b[1mF1 Score :\u001b[0m 0.887\n",
      "\n",
      "\n",
      "\n",
      "\u001b[1mClassification Report for Model is :\u001b[0m\n",
      "             precision    recall  f1-score   support\n",
      "\n",
      "   negative       0.83      0.52      0.64      5296\n",
      "   positive       0.90      0.98      0.94     24704\n",
      "\n",
      "avg / total       0.89      0.90      0.89     30000\n",
      "\n",
      "CPU times: user 2.5 s, sys: 28 ms, total: 2.53 s\n",
      "Wall time: 2.52 s\n"
     ]
    }
   ],
   "source": [
    "%%time\n",
    "XGB_Test(X_test_bowuni,y_test)"
   ]
  },
  {
   "cell_type": "markdown",
   "metadata": {},
   "source": [
    "### [8.2] Bag Of Words(bigram) : <a name=\"bowbi\"></a>"
   ]
  },
  {
   "cell_type": "code",
   "execution_count": 9,
   "metadata": {},
   "outputs": [
    {
     "name": "stdout",
     "output_type": "stream",
     "text": [
      "Type of Count Vectorizer:  <class 'scipy.sparse.csr.csr_matrix'>\n",
      "The shape of text BOW vectorizer:  (70000, 10992)\n",
      "Number of unique word:  10992\n",
      "CPU times: user 10.5 s, sys: 132 ms, total: 10.6 s\n",
      "Wall time: 10.6 s\n"
     ]
    }
   ],
   "source": [
    "%%time\n",
    "bow_bigram = CountVectorizer(ngram_range=(1, 2),min_df=0.0005)\n",
    "X_train_bowbi = bow_bigram.fit_transform(X_train)\n",
    "print(\"Type of Count Vectorizer: \",type(X_train_bowbi))\n",
    "print(\"The shape of text BOW vectorizer: \", X_train_bowbi.get_shape())\n",
    "print(\"Number of unique word: \", X_train_bowbi.get_shape()[1])"
   ]
  },
  {
   "cell_type": "code",
   "execution_count": 10,
   "metadata": {},
   "outputs": [
    {
     "name": "stdout",
     "output_type": "stream",
     "text": [
      "The shape of text BOW vectorizer:  (30000, 10992)\n",
      "Number of unique word:  10992\n",
      "CPU times: user 2.92 s, sys: 4 ms, total: 2.92 s\n",
      "Wall time: 2.92 s\n"
     ]
    }
   ],
   "source": [
    "%%time\n",
    "X_test_bowbi = bow_bigram.transform(X_test)\n",
    "print(\"The shape of text BOW vectorizer: \", X_test_bowbi.get_shape())\n",
    "print(\"Number of unique word: \", X_test_bowbi.get_shape()[1])"
   ]
  },
  {
   "cell_type": "code",
   "execution_count": 11,
   "metadata": {},
   "outputs": [
    {
     "name": "stdout",
     "output_type": "stream",
     "text": [
      "Shape of Training Data:  (70000, 10992)\n",
      "Shape of Test Data:  (30000, 10992)\n"
     ]
    }
   ],
   "source": [
    "print(\"Shape of Training Data: \",X_train_bowbi.shape)\n",
    "print(\"Shape of Test Data: \",X_test_bowbi.shape)"
   ]
  },
  {
   "cell_type": "markdown",
   "metadata": {},
   "source": [
    "#### [8.2.1] Random Forest :"
   ]
  },
  {
   "cell_type": "code",
   "execution_count": 24,
   "metadata": {},
   "outputs": [
    {
     "name": "stdout",
     "output_type": "stream",
     "text": [
      "\n",
      "\u001b[1mGrid Scores for Model is:\u001b[0m\n",
      " [mean: 0.86993, std: 0.00702, params: {'n_estimators': 10}, mean: 0.86620, std: 0.00900, params: {'n_estimators': 20}, mean: 0.86539, std: 0.00993, params: {'n_estimators': 30}, mean: 0.86294, std: 0.00967, params: {'n_estimators': 40}, mean: 0.86178, std: 0.01020, params: {'n_estimators': 50}, mean: 0.86097, std: 0.00937, params: {'n_estimators': 60}, mean: 0.86040, std: 0.01030, params: {'n_estimators': 70}, mean: 0.85959, std: 0.01052, params: {'n_estimators': 80}, mean: 0.85894, std: 0.01117, params: {'n_estimators': 100}]\n",
      "\n",
      "\u001b[1mBest Parameters:\u001b[0m  {'n_estimators': 10}\n",
      "\n",
      "\u001b[1mBest F1-Score:\u001b[0m 0.87 \n",
      "CPU times: user 1h 1min 43s, sys: 1.1 s, total: 1h 1min 44s\n",
      "Wall time: 1h 1min 44s\n"
     ]
    },
    {
     "data": {
      "image/png": "[encoded data removed]",
      "text/plain": [
       "<matplotlib.figure.Figure at 0x3fff2a3ebe48>"
      ]
     },
     "metadata": {},
     "output_type": "display_data"
    }
   ],
   "source": [
    "%%time\n",
    "grid_estimator = RF_model(X_train_bowbi, y_train)"
   ]
  },
  {
   "cell_type": "code",
   "execution_count": 25,
   "metadata": {},
   "outputs": [
    {
     "data": {
      "image/png": "[encoded data removed]",
      "text/plain": [
       "<matplotlib.figure.Figure at 0x3fff24aa52e8>"
      ]
     },
     "metadata": {},
     "output_type": "display_data"
    },
    {
     "name": "stdout",
     "output_type": "stream",
     "text": [
      "[[ 2502  2794]\n",
      " [  744 23960]]\n",
      "\n",
      "\u001b[1mTest Error :\u001b[0m 0.118\n",
      "\u001b[1mTest Accuracy :\u001b[0m 88.207 %\n",
      "\u001b[1mTrue Negative :\u001b[0m 2502\n",
      "\u001b[1mFalse Positive :\u001b[0m 2794\n",
      "\u001b[1mFalse Negative :\u001b[0m 744\n",
      "\u001b[1mTrue Positive :\u001b[0m 23960\n",
      "\u001b[1mPrecission Score :\u001b[0m 0.874\n",
      "\u001b[1mRecall Score :\u001b[0m 0.882\n",
      "\u001b[1mF1 Score :\u001b[0m 0.87\n",
      "\n",
      "\n",
      "\n",
      "\u001b[1mClassification Report for Model is :\u001b[0m\n",
      "             precision    recall  f1-score   support\n",
      "\n",
      "   negative       0.77      0.47      0.59      5296\n",
      "   positive       0.90      0.97      0.93     24704\n",
      "\n",
      "avg / total       0.87      0.88      0.87     30000\n",
      "\n",
      "CPU times: user 2.2 s, sys: 4 ms, total: 2.2 s\n",
      "Wall time: 2.2 s\n"
     ]
    }
   ],
   "source": [
    "%%time\n",
    "RF_Test(X_test_bowbi,y_test)"
   ]
  },
  {
   "cell_type": "code",
   "execution_count": 12,
   "metadata": {},
   "outputs": [
    {
     "data": {
      "image/png": "[encoded data removed]",
      "text/plain": [
       "<matplotlib.figure.Figure at 0x3fff0190d2b0>"
      ]
     },
     "metadata": {},
     "output_type": "display_data"
    },
    {
     "name": "stdout",
     "output_type": "stream",
     "text": [
      "CPU times: user 1.12 s, sys: 12 ms, total: 1.13 s\n",
      "Wall time: 1.06 s\n"
     ]
    }
   ],
   "source": [
    "%%time\n",
    "featureimportance(X_train_bowbi, y_train,10,bow_bigram)"
   ]
  },
  {
   "cell_type": "markdown",
   "metadata": {},
   "source": [
    "#### [8.2.2] XG Boost :"
   ]
  },
  {
   "cell_type": "code",
   "execution_count": 27,
   "metadata": {},
   "outputs": [
    {
     "name": "stdout",
     "output_type": "stream",
     "text": [
      "\n",
      "\u001b[1mGrid Scores for Model is:\u001b[0m\n",
      " [mean: 0.90417, std: 0.00660, params: {'learning_rate': 0.4002353878126803, 'max_depth': 4, 'n_estimators': 193}, mean: 0.87037, std: 0.00681, params: {'learning_rate': 0.08997932166986629, 'max_depth': 4, 'n_estimators': 170}, mean: 0.89803, std: 0.00616, params: {'learning_rate': 0.2568979843529595, 'max_depth': 4, 'n_estimators': 187}, mean: 0.90015, std: 0.00579, params: {'learning_rate': 0.5437151482553318, 'max_depth': 2, 'n_estimators': 196}, mean: 0.87302, std: 0.00844, params: {'learning_rate': 0.5402623804152094, 'max_depth': 2, 'n_estimators': 51}, mean: 0.80409, std: 0.01797, params: {'learning_rate': 0.28608081689708253, 'max_depth': 4, 'n_estimators': 4}, mean: 0.84448, std: 0.00975, params: {'learning_rate': 0.26752627839555604, 'max_depth': 4, 'n_estimators': 24}, mean: 0.89964, std: 0.00690, params: {'learning_rate': 0.5440893217185155, 'max_depth': 3, 'n_estimators': 129}, mean: 0.89353, std: 0.00574, params: {'learning_rate': 0.4630762654729691, 'max_depth': 3, 'n_estimators': 98}, mean: 0.82271, std: 0.01152, params: {'learning_rate': 0.07324583630780253, 'max_depth': 3, 'n_estimators': 83}]\n",
      "\n",
      "\u001b[1mBest Parameters:\u001b[0m  {'learning_rate': 0.4002353878126803, 'max_depth': 4, 'n_estimators': 193}\n",
      "\n",
      "\u001b[1mBest F1-Score:\u001b[0m 0.904 \n",
      "CPU times: user 23min 1s, sys: 1.33 s, total: 23min 3s\n",
      "Wall time: 23min 3s\n"
     ]
    }
   ],
   "source": [
    "%%time\n",
    "random_estimator = XGB_model(X_train_bowbi, y_train)"
   ]
  },
  {
   "cell_type": "code",
   "execution_count": 28,
   "metadata": {},
   "outputs": [
    {
     "data": {
      "image/png": "[encoded data removed]",
      "text/plain": [
       "<matplotlib.figure.Figure at 0x3fff2a83d9e8>"
      ]
     },
     "metadata": {},
     "output_type": "display_data"
    },
    {
     "name": "stdout",
     "output_type": "stream",
     "text": [
      "[[ 3170  2126]\n",
      " [  533 24171]]\n",
      "\n",
      "\u001b[1mTest Error :\u001b[0m 0.089\n",
      "\u001b[1mTest Accuracy :\u001b[0m 91.137 %\n",
      "\u001b[1mTrue Negative :\u001b[0m 3170\n",
      "\u001b[1mFalse Positive :\u001b[0m 2126\n",
      "\u001b[1mFalse Negative :\u001b[0m 533\n",
      "\u001b[1mTrue Positive :\u001b[0m 24171\n",
      "\u001b[1mPrecission Score :\u001b[0m 0.908\n",
      "\u001b[1mRecall Score :\u001b[0m 0.911\n",
      "\u001b[1mF1 Score :\u001b[0m 0.905\n",
      "\n",
      "\n",
      "\n",
      "\u001b[1mClassification Report for Model is :\u001b[0m\n",
      "             precision    recall  f1-score   support\n",
      "\n",
      "   negative       0.86      0.60      0.70      5296\n",
      "   positive       0.92      0.98      0.95     24704\n",
      "\n",
      "avg / total       0.91      0.91      0.90     30000\n",
      "\n",
      "CPU times: user 2.68 s, sys: 8 ms, total: 2.69 s\n",
      "Wall time: 2.69 s\n"
     ]
    }
   ],
   "source": [
    "%%time\n",
    "XGB_Test(X_test_bowbi,y_test)"
   ]
  },
  {
   "cell_type": "markdown",
   "metadata": {},
   "source": [
    "### [8.3] TF-IDF(unigram) : <a name=\"tfidfuni\"></a>"
   ]
  },
  {
   "cell_type": "code",
   "execution_count": 13,
   "metadata": {},
   "outputs": [
    {
     "name": "stdout",
     "output_type": "stream",
     "text": [
      "Type of Count Vectorizer:  <class 'scipy.sparse.csr.csr_matrix'>\n",
      "The shape of text TFIDF vectorizer:  (70000, 3907)\n",
      "Number of unique word:  3907\n",
      "CPU times: user 3.26 s, sys: 0 ns, total: 3.26 s\n",
      "Wall time: 3.26 s\n"
     ]
    }
   ],
   "source": [
    "%%time\n",
    "tfidf_unigram = TfidfVectorizer(min_df = 0.0005)\n",
    "X_train_tfidfuni = tfidf_unigram.fit_transform(X_train)\n",
    "print(\"Type of Count Vectorizer: \",type(X_train_tfidfuni))\n",
    "print(\"The shape of text TFIDF vectorizer: \", X_train_tfidfuni.get_shape())\n",
    "print(\"Number of unique word: \", X_train_tfidfuni.get_shape()[1])"
   ]
  },
  {
   "cell_type": "code",
   "execution_count": 14,
   "metadata": {},
   "outputs": [
    {
     "name": "stdout",
     "output_type": "stream",
     "text": [
      "The shape of text TFIDF vectorizer:  (30000, 3907)\n",
      "Number of unique word:  3907\n",
      "CPU times: user 1.54 s, sys: 4 ms, total: 1.54 s\n",
      "Wall time: 1.54 s\n"
     ]
    }
   ],
   "source": [
    "%%time\n",
    "X_test_tfidfuni = tfidf_unigram.transform(X_test)\n",
    "print(\"The shape of text TFIDF vectorizer: \", X_test_tfidfuni.get_shape())\n",
    "print(\"Number of unique word: \", X_test_tfidfuni.get_shape()[1])"
   ]
  },
  {
   "cell_type": "code",
   "execution_count": 15,
   "metadata": {},
   "outputs": [
    {
     "name": "stdout",
     "output_type": "stream",
     "text": [
      "Shape of Training Data:  (70000, 3907)\n",
      "Shape of Test Data:  (30000, 3907)\n"
     ]
    }
   ],
   "source": [
    "print(\"Shape of Training Data: \",X_train_tfidfuni.shape)\n",
    "print(\"Shape of Test Data: \",X_test_tfidfuni.shape)"
   ]
  },
  {
   "cell_type": "markdown",
   "metadata": {},
   "source": [
    "#### [8.3.1] Random Forest :"
   ]
  },
  {
   "cell_type": "code",
   "execution_count": 33,
   "metadata": {},
   "outputs": [
    {
     "name": "stdout",
     "output_type": "stream",
     "text": [
      "\n",
      "\u001b[1mGrid Scores for Model is:\u001b[0m\n",
      " [mean: 0.86489, std: 0.00728, params: {'n_estimators': 10}, mean: 0.85947, std: 0.00822, params: {'n_estimators': 20}, mean: 0.85500, std: 0.00761, params: {'n_estimators': 30}, mean: 0.85431, std: 0.00897, params: {'n_estimators': 40}, mean: 0.85223, std: 0.00864, params: {'n_estimators': 50}, mean: 0.85333, std: 0.00880, params: {'n_estimators': 60}, mean: 0.85267, std: 0.00916, params: {'n_estimators': 70}, mean: 0.85241, std: 0.00988, params: {'n_estimators': 80}, mean: 0.85192, std: 0.00774, params: {'n_estimators': 100}]\n",
      "\n",
      "\u001b[1mBest Parameters:\u001b[0m  {'n_estimators': 10}\n",
      "\n",
      "\u001b[1mBest F1-Score:\u001b[0m 0.865 \n",
      "CPU times: user 54min 21s, sys: 344 ms, total: 54min 21s\n",
      "Wall time: 54min 21s\n"
     ]
    },
    {
     "data": {
      "image/png": "[encoded data removed]",
      "text/plain": [
       "<matplotlib.figure.Figure at 0x3fff2a3544e0>"
      ]
     },
     "metadata": {},
     "output_type": "display_data"
    }
   ],
   "source": [
    "%%time\n",
    "grid_estimator = RF_model(X_train_tfidfuni, y_train)"
   ]
  },
  {
   "cell_type": "code",
   "execution_count": 34,
   "metadata": {
    "scrolled": true
   },
   "outputs": [
    {
     "data": {
      "image/png": "[encoded data removed]",
      "text/plain": [
       "<matplotlib.figure.Figure at 0x3fff2a814a58>"
      ]
     },
     "metadata": {},
     "output_type": "display_data"
    },
    {
     "name": "stdout",
     "output_type": "stream",
     "text": [
      "[[ 2371  2925]\n",
      " [  809 23895]]\n",
      "\n",
      "\u001b[1mTest Error :\u001b[0m 0.124\n",
      "\u001b[1mTest Accuracy :\u001b[0m 87.553 %\n",
      "\u001b[1mTrue Negative :\u001b[0m 2371\n",
      "\u001b[1mFalse Positive :\u001b[0m 2925\n",
      "\u001b[1mFalse Negative :\u001b[0m 809\n",
      "\u001b[1mTrue Positive :\u001b[0m 23895\n",
      "\u001b[1mPrecission Score :\u001b[0m 0.865\n",
      "\u001b[1mRecall Score :\u001b[0m 0.876\n",
      "\u001b[1mF1 Score :\u001b[0m 0.863\n",
      "\n",
      "\n",
      "\n",
      "\u001b[1mClassification Report for Model is :\u001b[0m\n",
      "             precision    recall  f1-score   support\n",
      "\n",
      "   negative       0.75      0.45      0.56      5296\n",
      "   positive       0.89      0.97      0.93     24704\n",
      "\n",
      "avg / total       0.87      0.88      0.86     30000\n",
      "\n",
      "CPU times: user 2.16 s, sys: 8 ms, total: 2.17 s\n",
      "Wall time: 2.16 s\n"
     ]
    }
   ],
   "source": [
    "%%time\n",
    "RF_Test(X_test_tfidfuni,y_test)"
   ]
  },
  {
   "cell_type": "code",
   "execution_count": 16,
   "metadata": {},
   "outputs": [
    {
     "data": {
      "image/png": "[encoded data removed]",
      "text/plain": [
       "<matplotlib.figure.Figure at 0x3fff01cdfcf8>"
      ]
     },
     "metadata": {},
     "output_type": "display_data"
    },
    {
     "name": "stdout",
     "output_type": "stream",
     "text": [
      "CPU times: user 1.4 s, sys: 16 ms, total: 1.41 s\n",
      "Wall time: 1.33 s\n"
     ]
    }
   ],
   "source": [
    "%%time\n",
    "featureimportance(X_train_tfidfuni, y_train,10,tfidf_unigram)"
   ]
  },
  {
   "cell_type": "markdown",
   "metadata": {},
   "source": [
    "#### [8.3.2] XG Boost :"
   ]
  },
  {
   "cell_type": "code",
   "execution_count": 35,
   "metadata": {},
   "outputs": [
    {
     "name": "stdout",
     "output_type": "stream",
     "text": [
      "\n",
      "\u001b[1mGrid Scores for Model is:\u001b[0m\n",
      " [mean: 0.81616, std: 0.01485, params: {'learning_rate': 0.11468164769367468, 'max_depth': 1, 'n_estimators': 156}, mean: 0.88597, std: 0.00745, params: {'learning_rate': 0.37997386892353996, 'max_depth': 4, 'n_estimators': 95}, mean: 0.85434, std: 0.00881, params: {'learning_rate': 0.3904339237898107, 'max_depth': 3, 'n_estimators': 34}, mean: 0.88564, std: 0.00790, params: {'learning_rate': 0.4138275398055624, 'max_depth': 2, 'n_estimators': 161}, mean: 0.87461, std: 0.00800, params: {'learning_rate': 0.194777008177086, 'max_depth': 3, 'n_estimators': 146}, mean: 0.80907, std: 0.01731, params: {'learning_rate': 0.28179495659688353, 'max_depth': 1, 'n_estimators': 42}, mean: 0.88939, std: 0.00726, params: {'learning_rate': 0.3423200842906201, 'max_depth': 4, 'n_estimators': 127}, mean: 0.87897, std: 0.00733, params: {'learning_rate': 0.46615737176463273, 'max_depth': 2, 'n_estimators': 98}, mean: 0.82245, std: 0.01411, params: {'learning_rate': 0.3277361134251982, 'max_depth': 1, 'n_estimators': 48}, mean: 0.82302, std: 0.01221, params: {'learning_rate': 0.055839713227799306, 'max_depth': 4, 'n_estimators': 92}]\n",
      "\n",
      "\u001b[1mBest Parameters:\u001b[0m  {'learning_rate': 0.3423200842906201, 'max_depth': 4, 'n_estimators': 127}\n",
      "\n",
      "\u001b[1mBest F1-Score:\u001b[0m 0.889 \n",
      "CPU times: user 26min 23s, sys: 608 ms, total: 26min 24s\n",
      "Wall time: 26min 24s\n"
     ]
    }
   ],
   "source": [
    "%%time\n",
    "random_estimator = XGB_model(X_train_tfidfuni, y_train)"
   ]
  },
  {
   "cell_type": "code",
   "execution_count": 36,
   "metadata": {},
   "outputs": [
    {
     "data": {
      "image/png": "[encoded data removed]",
      "text/plain": [
       "<matplotlib.figure.Figure at 0x3fff274aaa20>"
      ]
     },
     "metadata": {},
     "output_type": "display_data"
    },
    {
     "name": "stdout",
     "output_type": "stream",
     "text": [
      "[[ 2686  2610]\n",
      " [  497 24207]]\n",
      "\n",
      "\u001b[1mTest Error :\u001b[0m 0.104\n",
      "\u001b[1mTest Accuracy :\u001b[0m 89.643 %\n",
      "\u001b[1mTrue Negative :\u001b[0m 2686\n",
      "\u001b[1mFalse Positive :\u001b[0m 2610\n",
      "\u001b[1mFalse Negative :\u001b[0m 497\n",
      "\u001b[1mTrue Positive :\u001b[0m 24207\n",
      "\u001b[1mPrecission Score :\u001b[0m 0.892\n",
      "\u001b[1mRecall Score :\u001b[0m 0.896\n",
      "\u001b[1mF1 Score :\u001b[0m 0.886\n",
      "\n",
      "\n",
      "\n",
      "\u001b[1mClassification Report for Model is :\u001b[0m\n",
      "             precision    recall  f1-score   support\n",
      "\n",
      "   negative       0.84      0.51      0.63      5296\n",
      "   positive       0.90      0.98      0.94     24704\n",
      "\n",
      "avg / total       0.89      0.90      0.89     30000\n",
      "\n",
      "CPU times: user 2.47 s, sys: 16 ms, total: 2.48 s\n",
      "Wall time: 2.48 s\n"
     ]
    }
   ],
   "source": [
    "%%time\n",
    "XGB_Test(X_test_tfidfuni,y_test)"
   ]
  },
  {
   "cell_type": "markdown",
   "metadata": {},
   "source": [
    "### [8.4] TF-IDF(bigram) : <a name=\"tfidfbi\"></a>"
   ]
  },
  {
   "cell_type": "code",
   "execution_count": 17,
   "metadata": {},
   "outputs": [
    {
     "name": "stdout",
     "output_type": "stream",
     "text": [
      "Type of Count Vectorizer:  <class 'scipy.sparse.csr.csr_matrix'>\n",
      "The shape of text TFIDF vectorizer:  (70000, 10992)\n",
      "Number of unique word:  10992\n",
      "CPU times: user 10.5 s, sys: 136 ms, total: 10.7 s\n",
      "Wall time: 10.7 s\n"
     ]
    }
   ],
   "source": [
    "%%time\n",
    "tfidf_bigram = TfidfVectorizer(ngram_range=(1, 2),min_df = 0.0005)\n",
    "X_train_tfidfbi = tfidf_bigram.fit_transform(X_train)\n",
    "print(\"Type of Count Vectorizer: \",type(X_train_tfidfbi))\n",
    "print(\"The shape of text TFIDF vectorizer: \", X_train_tfidfbi.get_shape())\n",
    "print(\"Number of unique word: \", X_train_tfidfbi.get_shape()[1])"
   ]
  },
  {
   "cell_type": "code",
   "execution_count": 18,
   "metadata": {},
   "outputs": [
    {
     "name": "stdout",
     "output_type": "stream",
     "text": [
      "The shape of text TFIDF vectorizer:  (30000, 10992)\n",
      "Number of unique word:  10992\n",
      "CPU times: user 2.98 s, sys: 0 ns, total: 2.98 s\n",
      "Wall time: 2.97 s\n"
     ]
    }
   ],
   "source": [
    "%%time\n",
    "X_test_tfidfbi = tfidf_bigram.transform(X_test)\n",
    "print(\"The shape of text TFIDF vectorizer: \", X_test_tfidfbi.get_shape())\n",
    "print(\"Number of unique word: \", X_test_tfidfbi.get_shape()[1])"
   ]
  },
  {
   "cell_type": "code",
   "execution_count": 19,
   "metadata": {},
   "outputs": [
    {
     "name": "stdout",
     "output_type": "stream",
     "text": [
      "Shape of Training Data:  (70000, 10992)\n",
      "Shape of Test Data:  (30000, 10992)\n"
     ]
    }
   ],
   "source": [
    "print(\"Shape of Training Data: \",X_train_tfidfbi.shape)\n",
    "print(\"Shape of Test Data: \",X_test_tfidfbi.shape)"
   ]
  },
  {
   "cell_type": "markdown",
   "metadata": {},
   "source": [
    "#### [8.4.1] Random Forest :"
   ]
  },
  {
   "cell_type": "code",
   "execution_count": 20,
   "metadata": {},
   "outputs": [
    {
     "name": "stdout",
     "output_type": "stream",
     "text": [
      "\n",
      "\u001b[1mGrid Scores for Model is:\u001b[0m\n",
      " [mean: 0.86754, std: 0.00797, params: {'n_estimators': 10}, mean: 0.86258, std: 0.00989, params: {'n_estimators': 20}, mean: 0.86121, std: 0.00942, params: {'n_estimators': 30}, mean: 0.85962, std: 0.00987, params: {'n_estimators': 40}, mean: 0.85748, std: 0.01070, params: {'n_estimators': 50}, mean: 0.85655, std: 0.01271, params: {'n_estimators': 60}, mean: 0.85677, std: 0.01187, params: {'n_estimators': 70}, mean: 0.85571, std: 0.01240, params: {'n_estimators': 80}, mean: 0.85422, std: 0.01166, params: {'n_estimators': 100}]\n",
      "\n",
      "\u001b[1mBest Parameters:\u001b[0m  {'n_estimators': 10}\n",
      "\n",
      "\u001b[1mBest F1-Score:\u001b[0m 0.868 \n",
      "CPU times: user 55min 42s, sys: 328 ms, total: 55min 42s\n",
      "Wall time: 55min 43s\n"
     ]
    },
    {
     "data": {
      "image/png": "[encoded data removed]",
      "text/plain": [
       "<matplotlib.figure.Figure at 0x3ffeef31d2e8>"
      ]
     },
     "metadata": {},
     "output_type": "display_data"
    }
   ],
   "source": [
    "%%time\n",
    "grid_estimator = RF_model(X_train_tfidfbi, y_train)"
   ]
  },
  {
   "cell_type": "code",
   "execution_count": 21,
   "metadata": {},
   "outputs": [
    {
     "data": {
      "image/png": "[encoded data removed]",
      "text/plain": [
       "<matplotlib.figure.Figure at 0x3ffeef1843c8>"
      ]
     },
     "metadata": {},
     "output_type": "display_data"
    },
    {
     "name": "stdout",
     "output_type": "stream",
     "text": [
      "[[ 2545  2751]\n",
      " [  735 23969]]\n",
      "\n",
      "\u001b[1mTest Error :\u001b[0m 0.116\n",
      "\u001b[1mTest Accuracy :\u001b[0m 88.38 %\n",
      "\u001b[1mTrue Negative :\u001b[0m 2545\n",
      "\u001b[1mFalse Positive :\u001b[0m 2751\n",
      "\u001b[1mFalse Negative :\u001b[0m 735\n",
      "\u001b[1mTrue Positive :\u001b[0m 23969\n",
      "\u001b[1mPrecission Score :\u001b[0m 0.876\n",
      "\u001b[1mRecall Score :\u001b[0m 0.884\n",
      "\u001b[1mF1 Score :\u001b[0m 0.872\n",
      "\n",
      "\n",
      "\n",
      "\u001b[1mClassification Report for Model is :\u001b[0m\n",
      "             precision    recall  f1-score   support\n",
      "\n",
      "   negative       0.78      0.48      0.59      5296\n",
      "   positive       0.90      0.97      0.93     24704\n",
      "\n",
      "avg / total       0.88      0.88      0.87     30000\n",
      "\n",
      "CPU times: user 2.52 s, sys: 4 ms, total: 2.52 s\n",
      "Wall time: 2.27 s\n"
     ]
    }
   ],
   "source": [
    "%%time\n",
    "RF_Test(X_test_tfidfbi,y_test)"
   ]
  },
  {
   "cell_type": "code",
   "execution_count": 22,
   "metadata": {},
   "outputs": [
    {
     "data": {
      "image/png": "[encoded data removed]",
      "text/plain": [
       "<matplotlib.figure.Figure at 0x3fff0180eac8>"
      ]
     },
     "metadata": {},
     "output_type": "display_data"
    },
    {
     "name": "stdout",
     "output_type": "stream",
     "text": [
      "CPU times: user 1.31 s, sys: 12 ms, total: 1.32 s\n",
      "Wall time: 1.21 s\n"
     ]
    }
   ],
   "source": [
    "%%time\n",
    "featureimportance(X_train_tfidfbi, y_train,10,tfidf_bigram)"
   ]
  },
  {
   "cell_type": "markdown",
   "metadata": {},
   "source": [
    "#### [8.4.2] XG Boost :"
   ]
  },
  {
   "cell_type": "code",
   "execution_count": 23,
   "metadata": {},
   "outputs": [
    {
     "name": "stdout",
     "output_type": "stream",
     "text": [
      "\n",
      "\u001b[1mGrid Scores for Model is:\u001b[0m\n",
      " [mean: 0.89753, std: 0.00809, params: {'learning_rate': 0.25178966441947087, 'max_depth': 4, 'n_estimators': 180}, mean: 0.89441, std: 0.00709, params: {'learning_rate': 0.32483875522951977, 'max_depth': 3, 'n_estimators': 153}, mean: 0.87425, std: 0.00901, params: {'learning_rate': 0.46834934918484555, 'max_depth': 1, 'n_estimators': 132}, mean: 0.89856, std: 0.00827, params: {'learning_rate': 0.48519292400276026, 'max_depth': 3, 'n_estimators': 128}, mean: 0.90252, std: 0.00699, params: {'learning_rate': 0.4910869994505028, 'max_depth': 3, 'n_estimators': 171}, mean: 0.87139, std: 0.00784, params: {'learning_rate': 0.3131972305306965, 'max_depth': 4, 'n_estimators': 45}, mean: 0.82672, std: 0.01263, params: {'learning_rate': 0.4488556702105684, 'max_depth': 4, 'n_estimators': 7}, mean: 0.87294, std: 0.00742, params: {'learning_rate': 0.4408239090832846, 'max_depth': 3, 'n_estimators': 41}, mean: 0.88453, std: 0.00653, params: {'learning_rate': 0.38972032330992923, 'max_depth': 3, 'n_estimators': 76}, mean: 0.85439, std: 0.01019, params: {'learning_rate': 0.25173010380599353, 'max_depth': 2, 'n_estimators': 72}]\n",
      "\n",
      "\u001b[1mBest Parameters:\u001b[0m  {'learning_rate': 0.4910869994505028, 'max_depth': 3, 'n_estimators': 171}\n",
      "\n",
      "\u001b[1mBest F1-Score:\u001b[0m 0.903 \n",
      "CPU times: user 37min 17s, sys: 1.48 s, total: 37min 18s\n",
      "Wall time: 37min 18s\n"
     ]
    }
   ],
   "source": [
    "%%time\n",
    "random_estimator = XGB_model(X_train_tfidfbi, y_train)"
   ]
  },
  {
   "cell_type": "code",
   "execution_count": 24,
   "metadata": {},
   "outputs": [
    {
     "data": {
      "image/png": "[encoded data removed]",
      "text/plain": [
       "<matplotlib.figure.Figure at 0x3fff0677c898>"
      ]
     },
     "metadata": {},
     "output_type": "display_data"
    },
    {
     "name": "stdout",
     "output_type": "stream",
     "text": [
      "[[ 3124  2172]\n",
      " [  515 24189]]\n",
      "\n",
      "\u001b[1mTest Error :\u001b[0m 0.09\n",
      "\u001b[1mTest Accuracy :\u001b[0m 91.043 %\n",
      "\u001b[1mTrue Negative :\u001b[0m 3124\n",
      "\u001b[1mFalse Positive :\u001b[0m 2172\n",
      "\u001b[1mFalse Negative :\u001b[0m 515\n",
      "\u001b[1mTrue Positive :\u001b[0m 24189\n",
      "\u001b[1mPrecission Score :\u001b[0m 0.907\n",
      "\u001b[1mRecall Score :\u001b[0m 0.91\n",
      "\u001b[1mF1 Score :\u001b[0m 0.904\n",
      "\n",
      "\n",
      "\n",
      "\u001b[1mClassification Report for Model is :\u001b[0m\n",
      "             precision    recall  f1-score   support\n",
      "\n",
      "   negative       0.86      0.59      0.70      5296\n",
      "   positive       0.92      0.98      0.95     24704\n",
      "\n",
      "avg / total       0.91      0.91      0.90     30000\n",
      "\n",
      "CPU times: user 2.65 s, sys: 12 ms, total: 2.66 s\n",
      "Wall time: 2.65 s\n"
     ]
    }
   ],
   "source": [
    "%%time\n",
    "XGB_Test(X_test_tfidfbi,y_test)"
   ]
  },
  {
   "cell_type": "markdown",
   "metadata": {},
   "source": [
    "## [8.5] Average Word2Vec : <a name=\"avgw2v\"></a>"
   ]
  },
  {
   "cell_type": "code",
   "execution_count": 9,
   "metadata": {},
   "outputs": [],
   "source": [
    "i=0\n",
    "list_of_sent_train=[]\n",
    "for sent in X_train:\n",
    "    list_of_sent_train.append(sent.split())"
   ]
  },
  {
   "cell_type": "code",
   "execution_count": 10,
   "metadata": {},
   "outputs": [
    {
     "name": "stdout",
     "output_type": "stream",
     "text": [
      "beetlejuic excel funni movi keaton hilari wacki beetlejuic great special effect help film think one best movi ever made sure youll agre good time watch beetlejuic\n",
      "****************************************************************************\n",
      "['beetlejuic', 'excel', 'funni', 'movi', 'keaton', 'hilari', 'wacki', 'beetlejuic', 'great', 'special', 'effect', 'help', 'film', 'think', 'one', 'best', 'movi', 'ever', 'made', 'sure', 'youll', 'agre', 'good', 'time', 'watch', 'beetlejuic']\n"
     ]
    }
   ],
   "source": [
    "print(X_train[0])\n",
    "print(\"****************************************************************************\")\n",
    "print(list_of_sent_train[0])"
   ]
  },
  {
   "cell_type": "code",
   "execution_count": 11,
   "metadata": {},
   "outputs": [
    {
     "name": "stdout",
     "output_type": "stream",
     "text": [
      "CPU times: user 58.2 s, sys: 100 ms, total: 58.3 s\n",
      "Wall time: 16 s\n"
     ]
    }
   ],
   "source": [
    "%%time\n",
    "## Word2Vec Model considering only those words that occur atleast 5 times in the corpus\n",
    "min_count = 5\n",
    "w2v_model = Word2Vec(list_of_sent_train, min_count = min_count, size = 200, workers = 4)\n",
    "w2v_words = list(w2v_model.wv.vocab)"
   ]
  },
  {
   "cell_type": "code",
   "execution_count": 12,
   "metadata": {},
   "outputs": [],
   "source": [
    "w2v_words = list(w2v_model.wv.vocab)"
   ]
  },
  {
   "cell_type": "code",
   "execution_count": 13,
   "metadata": {},
   "outputs": [],
   "source": [
    "i=0\n",
    "list_of_sent_test=[]\n",
    "for sent in X_test:\n",
    "    list_of_sent_test.append(sent.split())"
   ]
  },
  {
   "cell_type": "code",
   "execution_count": 14,
   "metadata": {},
   "outputs": [
    {
     "name": "stdout",
     "output_type": "stream",
     "text": [
      "overpow point slight nauseat strawberri flavor smell chemic even though suppos natur\n",
      "****************************************************************************\n",
      "['overpow', 'point', 'slight', 'nauseat', 'strawberri', 'flavor', 'smell', 'chemic', 'even', 'though', 'suppos', 'natur']\n"
     ]
    }
   ],
   "source": [
    "print(X_test[5])\n",
    "print(\"****************************************************************************\")\n",
    "print(list_of_sent_test[5])"
   ]
  },
  {
   "cell_type": "code",
   "execution_count": 31,
   "metadata": {},
   "outputs": [
    {
     "name": "stderr",
     "output_type": "stream",
     "text": [
      "100%|██████████| 70000/70000 [01:45<00:00, 664.67it/s]"
     ]
    },
    {
     "name": "stdout",
     "output_type": "stream",
     "text": [
      "CPU times: user 1min 45s, sys: 1.66 s, total: 1min 46s\n",
      "Wall time: 1min 45s\n"
     ]
    },
    {
     "name": "stderr",
     "output_type": "stream",
     "text": [
      "\n"
     ]
    }
   ],
   "source": [
    "%%time\n",
    "X_train_avgw2v = [] # the avg-w2v for each sentence/review is stored in this list\n",
    "for sent in tqdm(list_of_sent_train):\n",
    "    sent_vec = np.zeros(200) # as word vectors are of zero length\n",
    "    cnt_words =0; # num of words with a valid vector in the sentence/review\n",
    "    for word in sent: # for each word in a review/sentence\n",
    "        if word in w2v_words:\n",
    "            vec = w2v_model.wv[word]\n",
    "            sent_vec += vec\n",
    "            cnt_words += 1\n",
    "    if cnt_words != 0:\n",
    "        sent_vec /= cnt_words\n",
    "    X_train_avgw2v.append(sent_vec)"
   ]
  },
  {
   "cell_type": "code",
   "execution_count": 32,
   "metadata": {},
   "outputs": [
    {
     "name": "stderr",
     "output_type": "stream",
     "text": [
      "100%|██████████| 30000/30000 [00:48<00:00, 618.78it/s]"
     ]
    },
    {
     "name": "stdout",
     "output_type": "stream",
     "text": [
      "CPU times: user 48.4 s, sys: 820 ms, total: 49.2 s\n",
      "Wall time: 48.5 s\n"
     ]
    },
    {
     "name": "stderr",
     "output_type": "stream",
     "text": [
      "\n"
     ]
    }
   ],
   "source": [
    "%%time\n",
    "X_test_avgw2v = [] # the avg-w2v for each sentence/review is stored in this list\n",
    "for sent in tqdm(list_of_sent_test):\n",
    "    sent_vec = np.zeros(200) # as word vectors are of zero length\n",
    "    cnt_words =0; # num of words with a valid vector in the sentence/review\n",
    "    for word in sent: # for each word in a review/sentence\n",
    "        if word in w2v_words:\n",
    "            vec = w2v_model.wv[word]\n",
    "            sent_vec += vec\n",
    "            cnt_words += 1\n",
    "    if cnt_words != 0:\n",
    "        sent_vec /= cnt_words\n",
    "    X_test_avgw2v.append(sent_vec)"
   ]
  },
  {
   "cell_type": "code",
   "execution_count": 33,
   "metadata": {},
   "outputs": [
    {
     "data": {
      "text/plain": [
       "False"
      ]
     },
     "execution_count": 33,
     "metadata": {},
     "output_type": "execute_result"
    }
   ],
   "source": [
    "#Checking NAN in test data if any\n",
    "np.any(np.isnan(X_test_avgw2v))"
   ]
  },
  {
   "cell_type": "code",
   "execution_count": 34,
   "metadata": {},
   "outputs": [
    {
     "name": "stdout",
     "output_type": "stream",
     "text": [
      "Number of rows in Train Data:  70000\n",
      "Number of features in Train Data:  200\n",
      "Number of rows in Test Data:  30000\n",
      "Number of features in Test Data:  200\n"
     ]
    }
   ],
   "source": [
    "print(\"Number of rows in Train Data: \",len(X_train_avgw2v))\n",
    "print(\"Number of features in Train Data: \",len(X_train_avgw2v[0]))\n",
    "print(\"Number of rows in Test Data: \",len(X_test_avgw2v))\n",
    "print(\"Number of features in Test Data: \",len(X_test_avgw2v[0]))"
   ]
  },
  {
   "cell_type": "markdown",
   "metadata": {},
   "source": [
    "#### [8.5.1] Random Forest :"
   ]
  },
  {
   "cell_type": "code",
   "execution_count": 35,
   "metadata": {
    "scrolled": true
   },
   "outputs": [
    {
     "name": "stdout",
     "output_type": "stream",
     "text": [
      "\n",
      "\u001b[1mGrid Scores for Model is:\u001b[0m\n",
      " [mean: 0.85197, std: 0.00872, params: {'n_estimators': 10}, mean: 0.84844, std: 0.00917, params: {'n_estimators': 20}, mean: 0.84600, std: 0.00950, params: {'n_estimators': 30}, mean: 0.84573, std: 0.00938, params: {'n_estimators': 40}, mean: 0.84443, std: 0.01044, params: {'n_estimators': 50}, mean: 0.84552, std: 0.00996, params: {'n_estimators': 60}, mean: 0.84444, std: 0.01014, params: {'n_estimators': 70}, mean: 0.84453, std: 0.01066, params: {'n_estimators': 80}, mean: 0.84433, std: 0.00999, params: {'n_estimators': 100}]\n",
      "\n",
      "\u001b[1mBest Parameters:\u001b[0m  {'n_estimators': 10}\n",
      "\n",
      "\u001b[1mBest F1-Score:\u001b[0m 0.852 \n",
      "CPU times: user 49min 34s, sys: 504 ms, total: 49min 35s\n",
      "Wall time: 49min 35s\n"
     ]
    },
    {
     "data": {
      "image/png": "[encoded data removed]",
      "text/plain": [
       "<matplotlib.figure.Figure at 0x3ffec4e53358>"
      ]
     },
     "metadata": {},
     "output_type": "display_data"
    }
   ],
   "source": [
    "%%time\n",
    "grid_estimator = RF_model(X_train_avgw2v,y_train)"
   ]
  },
  {
   "cell_type": "code",
   "execution_count": 36,
   "metadata": {},
   "outputs": [
    {
     "data": {
      "image/png": "[encoded data removed]",
      "text/plain": [
       "<matplotlib.figure.Figure at 0x3ffeef20b278>"
      ]
     },
     "metadata": {},
     "output_type": "display_data"
    },
    {
     "name": "stdout",
     "output_type": "stream",
     "text": [
      "[[ 1940  3356]\n",
      " [  896 23808]]\n",
      "\n",
      "\u001b[1mTest Error :\u001b[0m 0.142\n",
      "\u001b[1mTest Accuracy :\u001b[0m 85.827 %\n",
      "\u001b[1mTrue Negative :\u001b[0m 1940\n",
      "\u001b[1mFalse Positive :\u001b[0m 3356\n",
      "\u001b[1mFalse Negative :\u001b[0m 896\n",
      "\u001b[1mTrue Positive :\u001b[0m 23808\n",
      "\u001b[1mPrecission Score :\u001b[0m 0.842\n",
      "\u001b[1mRecall Score :\u001b[0m 0.858\n",
      "\u001b[1mF1 Score :\u001b[0m 0.84\n",
      "\n",
      "\n",
      "\n",
      "\u001b[1mClassification Report for Model is :\u001b[0m\n",
      "             precision    recall  f1-score   support\n",
      "\n",
      "   negative       0.68      0.37      0.48      5296\n",
      "   positive       0.88      0.96      0.92     24704\n",
      "\n",
      "avg / total       0.84      0.86      0.84     30000\n",
      "\n",
      "CPU times: user 2.18 s, sys: 4 ms, total: 2.19 s\n",
      "Wall time: 2.18 s\n"
     ]
    }
   ],
   "source": [
    "%%time\n",
    "RF_Test(X_test_avgw2v,y_test)"
   ]
  },
  {
   "cell_type": "markdown",
   "metadata": {},
   "source": [
    "#### [8.5.2] XG Boost :"
   ]
  },
  {
   "cell_type": "code",
   "execution_count": 37,
   "metadata": {},
   "outputs": [
    {
     "name": "stdout",
     "output_type": "stream",
     "text": [
      "\n",
      "\u001b[1mGrid Scores for Model is:\u001b[0m\n",
      " [mean: 0.88798, std: 0.00615, params: {'learning_rate': 0.27216725610998643, 'max_depth': 4, 'n_estimators': 83}, mean: 0.77916, std: 0.02652, params: {'learning_rate': 0.05261647072918803, 'max_depth': 1, 'n_estimators': 71}, mean: 0.88604, std: 0.00586, params: {'learning_rate': 0.50458908342728, 'max_depth': 4, 'n_estimators': 79}, mean: 0.88755, std: 0.00750, params: {'learning_rate': 0.4717464764704802, 'max_depth': 3, 'n_estimators': 93}, mean: 0.85864, std: 0.01084, params: {'learning_rate': 0.12052289170778548, 'max_depth': 3, 'n_estimators': 45}, mean: 0.89038, std: 0.00746, params: {'learning_rate': 0.3665145670483816, 'max_depth': 3, 'n_estimators': 193}, mean: 0.86438, std: 0.01025, params: {'learning_rate': 0.11288274464101562, 'max_depth': 2, 'n_estimators': 90}, mean: 0.88384, std: 0.00695, params: {'learning_rate': 0.09655411544597182, 'max_depth': 4, 'n_estimators': 119}, mean: 0.87150, std: 0.00832, params: {'learning_rate': 0.0939622102210408, 'max_depth': 4, 'n_estimators': 66}, mean: 0.88996, std: 0.00553, params: {'learning_rate': 0.1398577058254305, 'max_depth': 4, 'n_estimators': 183}]\n",
      "\n",
      "\u001b[1mBest Parameters:\u001b[0m  {'learning_rate': 0.3665145670483816, 'max_depth': 3, 'n_estimators': 193}\n",
      "\n",
      "\u001b[1mBest F1-Score:\u001b[0m 0.89 \n",
      "CPU times: user 2h 3min 19s, sys: 3.44 s, total: 2h 3min 23s\n",
      "Wall time: 2h 3min 23s\n"
     ]
    }
   ],
   "source": [
    "%%time\n",
    "X_train_avgw2v = np.array(X_train_avgw2v)\n",
    "X_test_avgw2v = np.array(X_test_avgw2v)\n",
    "random_estimator = XGB_model(X_train_avgw2v,y_train)"
   ]
  },
  {
   "cell_type": "code",
   "execution_count": 38,
   "metadata": {},
   "outputs": [
    {
     "data": {
      "image/png": "[encoded data removed]",
      "text/plain": [
       "<matplotlib.figure.Figure at 0x3ffec4dc46d8>"
      ]
     },
     "metadata": {},
     "output_type": "display_data"
    },
    {
     "name": "stdout",
     "output_type": "stream",
     "text": [
      "[[ 2936  2360]\n",
      " [  917 23787]]\n",
      "\n",
      "\u001b[1mTest Error :\u001b[0m 0.109\n",
      "\u001b[1mTest Accuracy :\u001b[0m 89.077 %\n",
      "\u001b[1mTrue Negative :\u001b[0m 2936\n",
      "\u001b[1mFalse Positive :\u001b[0m 2360\n",
      "\u001b[1mFalse Negative :\u001b[0m 917\n",
      "\u001b[1mTrue Positive :\u001b[0m 23787\n",
      "\u001b[1mPrecission Score :\u001b[0m 0.884\n",
      "\u001b[1mRecall Score :\u001b[0m 0.891\n",
      "\u001b[1mF1 Score :\u001b[0m 0.884\n",
      "\n",
      "\n",
      "\n",
      "\u001b[1mClassification Report for Model is :\u001b[0m\n",
      "             precision    recall  f1-score   support\n",
      "\n",
      "   negative       0.76      0.55      0.64      5296\n",
      "   positive       0.91      0.96      0.94     24704\n",
      "\n",
      "avg / total       0.88      0.89      0.88     30000\n",
      "\n",
      "CPU times: user 2.31 s, sys: 16 ms, total: 2.32 s\n",
      "Wall time: 2.32 s\n"
     ]
    }
   ],
   "source": [
    "%%time\n",
    "XGB_Test(X_test_avgw2v,y_test)"
   ]
  },
  {
   "cell_type": "markdown",
   "metadata": {},
   "source": [
    "## [8.6] TF-IDF Weighted Word2Vec : <a name=\"tfidfw2v\"></a>"
   ]
  },
  {
   "cell_type": "code",
   "execution_count": 15,
   "metadata": {},
   "outputs": [
    {
     "name": "stdout",
     "output_type": "stream",
     "text": [
      "CPU times: user 11.1 s, sys: 212 ms, total: 11.3 s\n",
      "Wall time: 11.3 s\n"
     ]
    }
   ],
   "source": [
    "%%time\n",
    "tfidf = TfidfVectorizer(ngram_range=(1, 2))\n",
    "tfidf_vectors = tfidf.fit_transform(X_train)"
   ]
  },
  {
   "cell_type": "code",
   "execution_count": 16,
   "metadata": {},
   "outputs": [
    {
     "name": "stdout",
     "output_type": "stream",
     "text": [
      "968796\n"
     ]
    }
   ],
   "source": [
    "dictionary = dict(zip(tfidf.get_feature_names(),list(tfidf.idf_)))\n",
    "print(len(dictionary))"
   ]
  },
  {
   "cell_type": "code",
   "execution_count": 17,
   "metadata": {},
   "outputs": [
    {
     "name": "stderr",
     "output_type": "stream",
     "text": [
      "100%|██████████| 70000/70000 [02:05<00:00, 557.10it/s]"
     ]
    },
    {
     "name": "stdout",
     "output_type": "stream",
     "text": [
      "CPU times: user 2min 7s, sys: 4.3 s, total: 2min 11s\n",
      "Wall time: 2min 7s\n"
     ]
    },
    {
     "name": "stderr",
     "output_type": "stream",
     "text": [
      "\n"
     ]
    }
   ],
   "source": [
    "%%time\n",
    "tfidf_feat = tfidf.get_feature_names() # tfidf words/col-names\n",
    "X_train_tfidfw2v = []; # the tfidf-w2v for each sentence/review is stored in this list\n",
    "row=0;\n",
    "for sent in tqdm(list_of_sent_train):\n",
    "    sent_vec = np.zeros(200)\n",
    "    weight_sum =0;\n",
    "    for word in sent:\n",
    "        if word in w2v_words:\n",
    "            vec = w2v_model.wv[word]\n",
    "            tf_idf = dictionary[word]*sent.count(word)\n",
    "            sent_vec += (vec * tf_idf)\n",
    "            weight_sum += tf_idf\n",
    "    if weight_sum != 0:\n",
    "        sent_vec /= weight_sum\n",
    "    X_train_tfidfw2v.append(sent_vec)\n",
    "    row += 1"
   ]
  },
  {
   "cell_type": "code",
   "execution_count": 18,
   "metadata": {},
   "outputs": [
    {
     "name": "stderr",
     "output_type": "stream",
     "text": [
      "100%|██████████| 30000/30000 [00:57<00:00, 523.50it/s]"
     ]
    },
    {
     "name": "stdout",
     "output_type": "stream",
     "text": [
      "CPU times: user 57.3 s, sys: 2.32 s, total: 59.6 s\n",
      "Wall time: 57.3 s\n"
     ]
    },
    {
     "name": "stderr",
     "output_type": "stream",
     "text": [
      "\n"
     ]
    }
   ],
   "source": [
    "%%time\n",
    "X_test_tfidfw2v = []; # the tfidf-w2v for each sentence/review is stored in this list\n",
    "row=0;\n",
    "for sent in tqdm(list_of_sent_test):\n",
    "    sent_vec = np.zeros(200)\n",
    "    weight_sum =0;\n",
    "    for word in sent:\n",
    "        if word in w2v_words:\n",
    "            vec = w2v_model.wv[word]\n",
    "            tf_idf = dictionary[word]*sent.count(word)\n",
    "            sent_vec += (vec * tf_idf)\n",
    "            weight_sum += tf_idf\n",
    "    if weight_sum != 0:\n",
    "        sent_vec /= weight_sum\n",
    "    X_test_tfidfw2v.append(sent_vec)\n",
    "    row += 1"
   ]
  },
  {
   "cell_type": "code",
   "execution_count": 19,
   "metadata": {},
   "outputs": [
    {
     "name": "stdout",
     "output_type": "stream",
     "text": [
      "Number of rows in Train Data:  70000\n",
      "Number of features in Train Data:  200\n",
      "Number of rows in Test Data:  30000\n",
      "Number of features in Test Data:  200\n"
     ]
    }
   ],
   "source": [
    "print(\"Number of rows in Train Data: \",len(X_train_tfidfw2v))\n",
    "print(\"Number of features in Train Data: \",len(X_train_tfidfw2v[0]))\n",
    "print(\"Number of rows in Test Data: \",len(X_test_tfidfw2v))\n",
    "print(\"Number of features in Test Data: \",len(X_test_tfidfw2v[0]))"
   ]
  },
  {
   "cell_type": "markdown",
   "metadata": {},
   "source": [
    "#### [8.6.1] Random Forest :"
   ]
  },
  {
   "cell_type": "code",
   "execution_count": 44,
   "metadata": {},
   "outputs": [
    {
     "name": "stdout",
     "output_type": "stream",
     "text": [
      "\n",
      "\u001b[1mGrid Scores for Model is:\u001b[0m\n",
      " [mean: 0.83924, std: 0.01154, params: {'n_estimators': 10}, mean: 0.83582, std: 0.01151, params: {'n_estimators': 20}, mean: 0.83306, std: 0.01267, params: {'n_estimators': 30}, mean: 0.83202, std: 0.01220, params: {'n_estimators': 40}, mean: 0.83085, std: 0.01232, params: {'n_estimators': 50}, mean: 0.83048, std: 0.01189, params: {'n_estimators': 60}, mean: 0.83036, std: 0.01301, params: {'n_estimators': 70}, mean: 0.82946, std: 0.01207, params: {'n_estimators': 80}, mean: 0.82950, std: 0.01221, params: {'n_estimators': 100}]\n",
      "\n",
      "\u001b[1mBest Parameters:\u001b[0m  {'n_estimators': 10}\n",
      "\n",
      "\u001b[1mBest F1-Score:\u001b[0m 0.839 \n",
      "CPU times: user 49min 46s, sys: 408 ms, total: 49min 47s\n",
      "Wall time: 49min 47s\n"
     ]
    },
    {
     "data": {
      "image/png": "[encoded data removed]",
      "text/plain": [
       "<matplotlib.figure.Figure at 0x3ffeabc10898>"
      ]
     },
     "metadata": {},
     "output_type": "display_data"
    }
   ],
   "source": [
    "%%time\n",
    "grid_estimator=RF_model(X_train_tfidfw2v,y_train)"
   ]
  },
  {
   "cell_type": "code",
   "execution_count": 45,
   "metadata": {},
   "outputs": [
    {
     "data": {
      "image/png": "[encoded data removed]",
      "text/plain": [
       "<matplotlib.figure.Figure at 0x3ffeabb9dda0>"
      ]
     },
     "metadata": {},
     "output_type": "display_data"
    },
    {
     "name": "stdout",
     "output_type": "stream",
     "text": [
      "[[ 1687  3609]\n",
      " [  855 23849]]\n",
      "\n",
      "\u001b[1mTest Error :\u001b[0m 0.149\n",
      "\u001b[1mTest Accuracy :\u001b[0m 85.12 %\n",
      "\u001b[1mTrue Negative :\u001b[0m 1687\n",
      "\u001b[1mFalse Positive :\u001b[0m 3609\n",
      "\u001b[1mFalse Negative :\u001b[0m 855\n",
      "\u001b[1mTrue Positive :\u001b[0m 23849\n",
      "\u001b[1mPrecission Score :\u001b[0m 0.832\n",
      "\u001b[1mRecall Score :\u001b[0m 0.851\n",
      "\u001b[1mF1 Score :\u001b[0m 0.829\n",
      "\n",
      "\n",
      "\n",
      "\u001b[1mClassification Report for Model is :\u001b[0m\n",
      "             precision    recall  f1-score   support\n",
      "\n",
      "   negative       0.66      0.32      0.43      5296\n",
      "   positive       0.87      0.97      0.91     24704\n",
      "\n",
      "avg / total       0.83      0.85      0.83     30000\n",
      "\n",
      "CPU times: user 2.18 s, sys: 20 ms, total: 2.2 s\n",
      "Wall time: 2.2 s\n"
     ]
    }
   ],
   "source": [
    "%%time\n",
    "RF_Test(X_test_tfidfw2v, y_test) "
   ]
  },
  {
   "cell_type": "markdown",
   "metadata": {},
   "source": [
    "#### [8.6.2] XG Boost :"
   ]
  },
  {
   "cell_type": "code",
   "execution_count": 20,
   "metadata": {},
   "outputs": [
    {
     "name": "stdout",
     "output_type": "stream",
     "text": [
      "\n",
      "\u001b[1mGrid Scores for Model is:\u001b[0m\n",
      " [mean: 0.84073, std: 0.01342, params: {'learning_rate': 0.5232368888776844, 'max_depth': 3, 'n_estimators': 9}, mean: 0.83370, std: 0.01349, params: {'learning_rate': 0.37533771588509884, 'max_depth': 2, 'n_estimators': 16}, mean: 0.86987, std: 0.00859, params: {'learning_rate': 0.31307003190533916, 'max_depth': 2, 'n_estimators': 182}, mean: 0.83667, std: 0.01346, params: {'learning_rate': 0.31582975218074916, 'max_depth': 1, 'n_estimators': 57}, mean: 0.86508, std: 0.00950, params: {'learning_rate': 0.22690987966728288, 'max_depth': 2, 'n_estimators': 161}, mean: 0.86303, std: 0.01208, params: {'learning_rate': 0.5028992699476139, 'max_depth': 1, 'n_estimators': 143}, mean: 0.87277, std: 0.00829, params: {'learning_rate': 0.34198272429360455, 'max_depth': 3, 'n_estimators': 134}, mean: 0.86996, std: 0.00904, params: {'learning_rate': 0.5246179731780988, 'max_depth': 2, 'n_estimators': 123}, mean: 0.86506, std: 0.01017, params: {'learning_rate': 0.47481811163317117, 'max_depth': 2, 'n_estimators': 71}, mean: 0.84307, std: 0.01350, params: {'learning_rate': 0.41072519901734084, 'max_depth': 1, 'n_estimators': 50}]\n",
      "\n",
      "\u001b[1mBest Parameters:\u001b[0m  {'learning_rate': 0.34198272429360455, 'max_depth': 3, 'n_estimators': 134}\n",
      "\n",
      "\u001b[1mBest F1-Score:\u001b[0m 0.873 \n",
      "CPU times: user 1h 6min 42s, sys: 3.14 s, total: 1h 6min 45s\n",
      "Wall time: 1h 6min 45s\n"
     ]
    }
   ],
   "source": [
    "%%time\n",
    "X_train_tfidfw2v = np.array(X_train_tfidfw2v)\n",
    "X_test_tfidfw2v = np.array(X_test_tfidfw2v)\n",
    "random_estimator=XGB_model(X_train_tfidfw2v,y_train)"
   ]
  },
  {
   "cell_type": "code",
   "execution_count": 21,
   "metadata": {},
   "outputs": [
    {
     "data": {
      "image/png": "[encoded data removed]",
      "text/plain": [
       "<matplotlib.figure.Figure at 0x3ffefd14a0f0>"
      ]
     },
     "metadata": {},
     "output_type": "display_data"
    },
    {
     "name": "stdout",
     "output_type": "stream",
     "text": [
      "[[ 2387  2909]\n",
      " [  829 23875]]\n",
      "\n",
      "\u001b[1mTest Error :\u001b[0m 0.125\n",
      "\u001b[1mTest Accuracy :\u001b[0m 87.54 %\n",
      "\u001b[1mTrue Negative :\u001b[0m 2387\n",
      "\u001b[1mFalse Positive :\u001b[0m 2909\n",
      "\u001b[1mFalse Negative :\u001b[0m 829\n",
      "\u001b[1mTrue Positive :\u001b[0m 23875\n",
      "\u001b[1mPrecission Score :\u001b[0m 0.865\n",
      "\u001b[1mRecall Score :\u001b[0m 0.875\n",
      "\u001b[1mF1 Score :\u001b[0m 0.863\n",
      "\n",
      "\n",
      "\n",
      "\u001b[1mClassification Report for Model is :\u001b[0m\n",
      "             precision    recall  f1-score   support\n",
      "\n",
      "   negative       0.74      0.45      0.56      5296\n",
      "   positive       0.89      0.97      0.93     24704\n",
      "\n",
      "avg / total       0.87      0.88      0.86     30000\n",
      "\n",
      "CPU times: user 2.31 s, sys: 0 ns, total: 2.31 s\n",
      "Wall time: 2.31 s\n"
     ]
    }
   ],
   "source": [
    "%%time\n",
    "XGB_Test(X_test_tfidfw2v, y_test) "
   ]
  },
  {
   "cell_type": "markdown",
   "metadata": {},
   "source": [
    "## [9] Conclusion : <a name=\"conclusion\"></a>\n",
    "\n",
    "<b> Random Forest(Bagging) : </b>  \n",
    "\n",
    "| Featurization Model | <b>Accuracy</b> | <b>Precission</b> | <b>Recall</b> | <b>F1 score</b> |  \n",
    "| --- | --- | --- | --- | --- | --- | --- | --- | --- |  \n",
    "| <b>BOW(unigram)</b> | 87.653 % | 0.867  | 0.877 | 0.863 |  \n",
    "| <b>BOW(bigram)</b> | 88.207 % | 0.874  | 0.882 | 0.887 |  \n",
    "| <b>TF-IDF(unigram)</b> | 87.553 % | 0.865  | 0.876 | 0.863 |  \n",
    "| <b>TF-IDF(bigram)</b> | 88.38 % | 0.876  | 0.884 | 0.872 |  \n",
    "| <b>Average Word2Vec</b> | 85.827 % | 0.842  | 0.858 | 0.84 |  \n",
    "| <b>TF-IDF Weighted Word2Vec</b> | 85.12 % | 0.832  | 0.851 | 0.829 |  \n",
    "\n",
    "<b> XG Boost(Gradient Boosting) : </b>  \n",
    "\n",
    "| Featurization Model | <b>Accuracy</b> | <b>Precission</b> | <b>Recall</b> | <b>F1 score</b> |\n",
    "| --- | --- | --- | --- | --- | --- | --- | --- | --- |\n",
    "| <b>BOW(unigram)</b> | 89.697 % | 0.892  | 0.897 | 0.887 |\n",
    "| <b>BOW(bigram)</b> | 91.137 % | 0.908  | 0.911 | 0.905 |\n",
    "| <b>TF-IDF(unigram)</b> | 89.643 % | 0.892  | 0.896 | 0.886 |\n",
    "| <b>TF-IDF(bigram)</b> | 91.043 % | 0.907  | 0.91 | 0.904 |\n",
    "| <b>Average Word2Vec</b> | 89.077 % | 0.884  | 0.891 | 0.884 |\n",
    "| <b>TF-IDF Weighted Word2Vec</b> | 87.54 % | 0.865  | 0.875 | 0.863 |\n",
    "\n",
    "\n",
    "<b>1 - </b>It is observed that XGBoost(Gradient Boosting) performs fairly well in terms of performance metrics then RandomForest(Bootsrap sampling).\n",
    "\n",
    "<b>2 - </b>Using BOW bigram  and Tfidf bigram, XGboost  gives best performance with F1 score of <b>0.905</b> and <b>0.904</b>.\n",
    "\n",
    "<b>3 - </b>Run Time complexity of  both Random Forest and XGBoost is superfast, hence can be used for low latency applications."
   ]
  }
 ],
 "metadata": {
  "kernelspec": {
   "display_name": "Python 3",
   "language": "python",
   "name": "python3"
  },
  "language_info": {
   "codemirror_mode": {
    "name": "ipython",
    "version": 3
   },
   "file_extension": ".py",
   "mimetype": "text/x-python",
   "name": "python",
   "nbconvert_exporter": "python",
   "pygments_lexer": "ipython3",
   "version": "3.6.5"
  }
 },
 "nbformat": 4,
 "nbformat_minor": 2
}
