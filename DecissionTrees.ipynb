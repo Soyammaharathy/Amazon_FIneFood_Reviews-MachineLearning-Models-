{
 "cells": [
  {
   "cell_type": "markdown",
   "metadata": {
    "_uuid": "c62f362c4aedd1c9c4b27f810fdad0fad34cc5a7"
   },
   "source": [
    "# Table of Contents\n",
    "1 - [Problem Statement](#ps)  \n",
    "2 - [Overview of Dataset](#dataset)  \n",
    "3 - [Loading the Data](#load)   \n",
    "4 - [Exploratory Data Analysis](#eda)   \n",
    "&emsp;  4.1 - [Data Cleaning: Deduplication](#deduplication)   \n",
    "5 - [Text Preprocessing Using NLTK](#textprep)  \n",
    "6 - [Train and Test Split of Data](#split)  \n",
    "7 - [DecissionTree Classification](#dt)  \n",
    "&emsp;  7.1 - [Function to find the optimal depth using K-fold cross-validation](#bestdepth)  \n",
    "&emsp;  7.2 - [Function to predict on Test Data and report Performance](#acc)   \n",
    "&emsp;  7.3 - [Feature Importance](#fi)  \n",
    "8 - [Featurization Methods](#vec)  \n",
    "&emsp;  8.1 - [Bag Of Words(unigram)](#bowuni)   \n",
    "&emsp;  8.2 - [Bag Of Words(bigram)](#bowbi)  \n",
    "&emsp;  8.3 - [TF-IDF(unigram)](#tfidfuni)  \n",
    "&emsp;  8.4 - [TF-IDF(bigram)](#tfidfbi)   \n",
    "&emsp;  8.5 - [Average Word2Vec](#avgw2v)  \n",
    "&emsp;  8.6 - [TF-IDF Weighted Word2Vec](#tfidfw2v)  \n",
    "9 - [Conclusion](#conclusion)"
   ]
  },
  {
   "cell_type": "markdown",
   "metadata": {},
   "source": [
    "## [1] Problem Statement : <a name=\"ps\"></a>\n",
    "\n",
    "-  Time Based slicing(100k data points) to split Train Data(70%) and Test Data(30%).\n",
    "-  Appling Decission Tree model to find the optimal depth using 10 fold Cross Validation(GridSearch) in :  \n",
    "&emsp; 1)Bag Of Words  \n",
    "&emsp; 2)TF-IDF  \n",
    "&emsp; 2)Average Word2Vec  \n",
    "&emsp; 2)TF-IDF weighted Word2Vec     \n",
    "-  Comparsion of various performance metrics obtained by various featurization models.    "
   ]
  },
  {
   "cell_type": "markdown",
   "metadata": {},
   "source": [
    "## [2] Overview of Dataset : <a name=\"dataset\"></a>\n",
    "\n",
    "Data Source: https://www.kaggle.com/snap/amazon-fine-food-reviews\n",
    "\n",
    "The Amazon Fine Food Reviews dataset consists of reviews of fine foods from Amazon.  \n",
    "\n",
    "Number of reviews: 568,454  \n",
    "Number of users: 256,059  \n",
    "Number of products: 74,258  \n",
    "Timespan: Oct 1999 - Oct 2012  \n",
    "Number of Attributes/Columns in data: 10  \n",
    "\n",
    "Attribute Information:\n",
    "\n",
    "&emsp;1.Id  \n",
    "&emsp;2.ProductId - unique identifier for the product  \n",
    "&emsp;3.UserId - unqiue identifier for the user  \n",
    "&emsp;4.ProfileName  \n",
    "&emsp;5.HelpfulnessNumerator - number of users who found the review helpful  \n",
    "&emsp;6.HelpfulnessDenominator - number of users who indicated whether they found the review helpful or not  \n",
    "&emsp;7.Score - rating between 1 and 5  \n",
    "&emsp;8.Time - timestamp for the review  \n",
    "&emsp;9.Summary - brief summary of the review  \n",
    "&emsp;10.Text - text of the review  \n",
    "\n",
    "Objective:\n",
    "Given a review, determine whether the review is positive (Rating of 4 or 5) or negative (rating of 1 or 2).\n",
    "\n",
    "\n",
    "[Q] How to determine if a review is positive or negative?\n",
    "\n",
    "[Ans] We could use the Score/Rating. A rating of 4 or 5 could be cosnidered a positive review. A review of 1 or 2 could be considered negative. A review of 3 is nuetral and ignored. This is an approximate and proxy way of determining the polarity (positivity/negativity) of a review."
   ]
  },
  {
   "cell_type": "markdown",
   "metadata": {},
   "source": [
    "## [3] Loading the Data : <a name=\"load\"></a>\n",
    "\n",
    "In order to load the data, we have used the SQLITE dataset as it easier to query the data and visualise the data efficiently.\n",
    "<br> \n",
    "\n",
    "Here as we only want to get the global sentiment of the recommendations (positive or negative), we will purposefully ignore all Scores equal to 3. If the score id above 3, then the recommendation wil be set to \"positive\". Otherwise, it will be set to \"negative\"."
   ]
  },
  {
   "cell_type": "code",
   "execution_count": 9,
   "metadata": {},
   "outputs": [],
   "source": [
    "#Importing the necessary Packages\n",
    "%matplotlib inline\n",
    "import warnings\n",
    "warnings.filterwarnings(\"ignore\")\n",
    "\n",
    "\n",
    "import time\n",
    "from tqdm import tqdm\n",
    "import sqlite3\n",
    "import pandas as pd\n",
    "import numpy as np\n",
    "import nltk\n",
    "import string\n",
    "import matplotlib.pyplot as plt\n",
    "import seaborn as sns\n",
    "from sklearn.feature_extraction.text import TfidfTransformer\n",
    "from sklearn.feature_extraction.text import TfidfVectorizer\n",
    "from IPython.display import HTML\n",
    "from collections import OrderedDict\n",
    "\n",
    "\n",
    "from sklearn.feature_extraction.text import CountVectorizer \n",
    "from sklearn.metrics import confusion_matrix\n",
    "from sklearn import metrics\n",
    "from sklearn.metrics import roc_curve, auc\n",
    "from nltk.stem.porter import PorterStemmer\n",
    "\n",
    "import re\n",
    "import string\n",
    "from nltk.corpus import stopwords\n",
    "from nltk.stem import PorterStemmer\n",
    "from nltk.stem.wordnet import WordNetLemmatizer\n",
    "\n",
    "from gensim.models import Word2Vec\n",
    "from gensim.models import KeyedVectors\n",
    "import pickle"
   ]
  },
  {
   "cell_type": "code",
   "execution_count": 10,
   "metadata": {},
   "outputs": [],
   "source": [
    "import pickle\n",
    "\n",
    "#dumping an object to file object using dump method\n",
    "def dumpfile(a,file_Name):\n",
    "    fileObject = open(file_Name,\"wb\")\n",
    "    pickle.dump(a,fileObject,protocol=2)\n",
    "    fileObject.close()\n",
    "\n",
    "#loading an object from file object using load method\n",
    "def loadfile(file_Name):\n",
    "    fileObject = open(file_Name,\"rb\")\n",
    "    b = pickle.load(fileObject)\n",
    "    return b\n"
   ]
  },
  {
   "cell_type": "code",
   "execution_count": 11,
   "metadata": {},
   "outputs": [
    {
     "data": {
      "text/html": [
       "<style type=\"text/css\">\n",
       "table.dataframe td, table.dataframe th {\n",
       "    border: 2px  black solid !important;\n",
       "}\n",
       "</style>"
      ],
      "text/plain": [
       "<IPython.core.display.HTML object>"
      ]
     },
     "metadata": {},
     "output_type": "display_data"
    }
   ],
   "source": [
    "%%HTML\n",
    "<style type=\"text/css\">\n",
    "table.dataframe td, table.dataframe th {\n",
    "    border: 2px  black solid !important;\n",
    "}\n",
    "</style>"
   ]
  },
  {
   "cell_type": "code",
   "execution_count": 4,
   "metadata": {
    "_uuid": "3171eaaaace2c0d41a6587eddf4190bdf330f543"
   },
   "outputs": [],
   "source": [
    "# using the SQLite Table to read data.\n",
    "con = sqlite3.connect('database.sqlite') \n",
    "\n",
    "\n",
    "#filtering only positive and negative reviews i.e. \n",
    "# not taking into consideration those reviews with Score=3\n",
    "filtered_data = pd.read_sql_query(\"\"\" SELECT * FROM Reviews WHERE Score != 3 \"\"\", con) "
   ]
  },
  {
   "cell_type": "code",
   "execution_count": 7,
   "metadata": {},
   "outputs": [],
   "source": [
    "# Give reviews with Score>3 a positive rating, and reviews with a score<3 a negative rating.\n",
    "def partition(x):\n",
    "    if x < 3:\n",
    "        return 'negative'\n",
    "    return 'positive'\n",
    "\n",
    "#changing reviews with score less than 3 to be positive and vice-versa\n",
    "actualScore = filtered_data['Score']\n",
    "positiveNegative = actualScore.map(partition) \n",
    "filtered_data['Score'] = positiveNegative"
   ]
  },
  {
   "cell_type": "code",
   "execution_count": 8,
   "metadata": {
    "_uuid": "beeb98812798cf41d3df185db44cadfcf5b0660d",
    "scrolled": true
   },
   "outputs": [
    {
     "name": "stdout",
     "output_type": "stream",
     "text": [
      "Number of datapoints:  525814\n",
      "Number of attributes/features:  10\n"
     ]
    },
    {
     "data": {
      "text/html": [
       "<table border=\"1\" class=\"dataframe\">\n",
       "  <thead>\n",
       "    <tr style=\"text-align: right;\">\n",
       "      <th>Id</th>\n",
       "      <th>ProductId</th>\n",
       "      <th>UserId</th>\n",
       "      <th>ProfileName</th>\n",
       "      <th>HelpfulnessNumerator</th>\n",
       "      <th>HelpfulnessDenominator</th>\n",
       "      <th>Score</th>\n",
       "      <th>Time</th>\n",
       "      <th>Summary</th>\n",
       "      <th>Text</th>\n",
       "    </tr>\n",
       "  </thead>\n",
       "  <tbody>\n",
       "    <tr>\n",
       "      <td>1</td>\n",
       "      <td>B001E4KFG0</td>\n",
       "      <td>A3SGXH7AUHU8GW</td>\n",
       "      <td>delmartian</td>\n",
       "      <td>1</td>\n",
       "      <td>1</td>\n",
       "      <td>positive</td>\n",
       "      <td>1303862400</td>\n",
       "      <td>Good Quality Dog Food</td>\n",
       "      <td>I have bought several of the Vitality canned d...</td>\n",
       "    </tr>\n",
       "    <tr>\n",
       "      <td>2</td>\n",
       "      <td>B00813GRG4</td>\n",
       "      <td>A1D87F6ZCVE5NK</td>\n",
       "      <td>dll pa</td>\n",
       "      <td>0</td>\n",
       "      <td>0</td>\n",
       "      <td>negative</td>\n",
       "      <td>1346976000</td>\n",
       "      <td>Not as Advertised</td>\n",
       "      <td>Product arrived labeled as Jumbo Salted Peanut...</td>\n",
       "    </tr>\n",
       "    <tr>\n",
       "      <td>3</td>\n",
       "      <td>B000LQOCH0</td>\n",
       "      <td>ABXLMWJIXXAIN</td>\n",
       "      <td>Natalia Corres \"Natalia Corres\"</td>\n",
       "      <td>1</td>\n",
       "      <td>1</td>\n",
       "      <td>positive</td>\n",
       "      <td>1219017600</td>\n",
       "      <td>\"Delight\" says it all</td>\n",
       "      <td>This is a confection that has been around a fe...</td>\n",
       "    </tr>\n",
       "    <tr>\n",
       "      <td>4</td>\n",
       "      <td>B000UA0QIQ</td>\n",
       "      <td>A395BORC6FGVXV</td>\n",
       "      <td>Karl</td>\n",
       "      <td>3</td>\n",
       "      <td>3</td>\n",
       "      <td>negative</td>\n",
       "      <td>1307923200</td>\n",
       "      <td>Cough Medicine</td>\n",
       "      <td>If you are looking for the secret ingredient i...</td>\n",
       "    </tr>\n",
       "    <tr>\n",
       "      <td>5</td>\n",
       "      <td>B006K2ZZ7K</td>\n",
       "      <td>A1UQRSCLF8GW1T</td>\n",
       "      <td>Michael D. Bigham \"M. Wassir\"</td>\n",
       "      <td>0</td>\n",
       "      <td>0</td>\n",
       "      <td>positive</td>\n",
       "      <td>1350777600</td>\n",
       "      <td>Great taffy</td>\n",
       "      <td>Great taffy at a great price.  There was a wid...</td>\n",
       "    </tr>\n",
       "  </tbody>\n",
       "</table>"
      ],
      "text/plain": [
       "<IPython.core.display.HTML object>"
      ]
     },
     "execution_count": 8,
     "metadata": {},
     "output_type": "execute_result"
    }
   ],
   "source": [
    "print(\"Number of datapoints: \",filtered_data.shape[0])\n",
    "print(\"Number of attributes/features: \",filtered_data.shape[1])\n",
    "HTML(filtered_data.head().to_html(index=False))"
   ]
  },
  {
   "cell_type": "markdown",
   "metadata": {},
   "source": [
    "## [4] Exploratory Data Analysis :<a name=\"eda\"></a>"
   ]
  },
  {
   "cell_type": "markdown",
   "metadata": {},
   "source": [
    "### [4.1] Data Cleaning: Deduplication <a name=\"deduplication\"></a>\n",
    "It is observed (as shown in the table below) that the reviews data had many duplicate entries. Hence it was necessary to remove duplicates in order to get unbiased results for the analysis of the data. Following is an example:\n",
    "\n",
    "<b>Deduplication 1:-</b> As can be seen below the same user has multiple reviews of the with the same values for HelpfulnessNumerator, HelpfulnessDenominator, Score, Time, Summary and Text  and on doing analysis it was found that <br>\n",
    "<br> \n",
    "ProductId=B000HDOPZG was Loacker Quadratini Vanilla Wafer Cookies, 8.82-Ounce Packages (Pack of 8)<br>\n",
    "<br> \n",
    "ProductId=B000HDL1RQ was Loacker Quadratini Lemon Wafer Cookies, 8.82-Ounce Packages (Pack of 8)<br>\n",
    "\n",
    "It was inferred after analysis that reviews with same parameters other than ProductId belonged to the same product just having different flavour or quantity. Hence in order to reduce redundancy it was decided to eliminate the rows having same parameters.<br>\n",
    "\n",
    "The method used for the same was that we first sort the data according to ProductId and then just keep the first similar product review and delelte the others. for eg. in the above just the review for ProductId=B000HDL1RQ remains. This method ensures that there is only one representative for each product and deduplication without sorting would lead to possibility of different representatives still existing for the same product."
   ]
  },
  {
   "cell_type": "code",
   "execution_count": 9,
   "metadata": {},
   "outputs": [
    {
     "data": {
      "text/html": [
       "<table border=\"1\" class=\"dataframe\">\n",
       "  <thead>\n",
       "    <tr style=\"text-align: right;\">\n",
       "      <th>Id</th>\n",
       "      <th>ProductId</th>\n",
       "      <th>UserId</th>\n",
       "      <th>ProfileName</th>\n",
       "      <th>HelpfulnessNumerator</th>\n",
       "      <th>HelpfulnessDenominator</th>\n",
       "      <th>Score</th>\n",
       "      <th>Time</th>\n",
       "      <th>Summary</th>\n",
       "      <th>Text</th>\n",
       "    </tr>\n",
       "  </thead>\n",
       "  <tbody>\n",
       "    <tr>\n",
       "      <td>78445</td>\n",
       "      <td>B000HDL1RQ</td>\n",
       "      <td>AR5J8UI46CURR</td>\n",
       "      <td>Geetha Krishnan</td>\n",
       "      <td>2</td>\n",
       "      <td>2</td>\n",
       "      <td>5</td>\n",
       "      <td>1199577600</td>\n",
       "      <td>LOACKER QUADRATINI VANILLA WAFERS</td>\n",
       "      <td>DELICIOUS WAFERS. I FIND THAT EUROPEAN WAFERS ...</td>\n",
       "    </tr>\n",
       "    <tr>\n",
       "      <td>138317</td>\n",
       "      <td>B000HDOPYC</td>\n",
       "      <td>AR5J8UI46CURR</td>\n",
       "      <td>Geetha Krishnan</td>\n",
       "      <td>2</td>\n",
       "      <td>2</td>\n",
       "      <td>5</td>\n",
       "      <td>1199577600</td>\n",
       "      <td>LOACKER QUADRATINI VANILLA WAFERS</td>\n",
       "      <td>DELICIOUS WAFERS. I FIND THAT EUROPEAN WAFERS ...</td>\n",
       "    </tr>\n",
       "    <tr>\n",
       "      <td>138277</td>\n",
       "      <td>B000HDOPYM</td>\n",
       "      <td>AR5J8UI46CURR</td>\n",
       "      <td>Geetha Krishnan</td>\n",
       "      <td>2</td>\n",
       "      <td>2</td>\n",
       "      <td>5</td>\n",
       "      <td>1199577600</td>\n",
       "      <td>LOACKER QUADRATINI VANILLA WAFERS</td>\n",
       "      <td>DELICIOUS WAFERS. I FIND THAT EUROPEAN WAFERS ...</td>\n",
       "    </tr>\n",
       "    <tr>\n",
       "      <td>73791</td>\n",
       "      <td>B000HDOPZG</td>\n",
       "      <td>AR5J8UI46CURR</td>\n",
       "      <td>Geetha Krishnan</td>\n",
       "      <td>2</td>\n",
       "      <td>2</td>\n",
       "      <td>5</td>\n",
       "      <td>1199577600</td>\n",
       "      <td>LOACKER QUADRATINI VANILLA WAFERS</td>\n",
       "      <td>DELICIOUS WAFERS. I FIND THAT EUROPEAN WAFERS ...</td>\n",
       "    </tr>\n",
       "    <tr>\n",
       "      <td>155049</td>\n",
       "      <td>B000PAQ75C</td>\n",
       "      <td>AR5J8UI46CURR</td>\n",
       "      <td>Geetha Krishnan</td>\n",
       "      <td>2</td>\n",
       "      <td>2</td>\n",
       "      <td>5</td>\n",
       "      <td>1199577600</td>\n",
       "      <td>LOACKER QUADRATINI VANILLA WAFERS</td>\n",
       "      <td>DELICIOUS WAFERS. I FIND THAT EUROPEAN WAFERS ...</td>\n",
       "    </tr>\n",
       "  </tbody>\n",
       "</table>"
      ],
      "text/plain": [
       "<IPython.core.display.HTML object>"
      ]
     },
     "execution_count": 9,
     "metadata": {},
     "output_type": "execute_result"
    }
   ],
   "source": [
    "display= pd.read_sql_query(\"\"\"\n",
    "SELECT *\n",
    "FROM Reviews\n",
    "WHERE Score != 3 AND UserId=\"AR5J8UI46CURR\"\n",
    "ORDER BY ProductID\n",
    "\"\"\", con)\n",
    "\n",
    "HTML(display.head().to_html(index=False))"
   ]
  },
  {
   "cell_type": "code",
   "execution_count": 10,
   "metadata": {
    "_uuid": "2aa9b4c12ca224969f0a89abf1fa897cf1f4d122"
   },
   "outputs": [],
   "source": [
    "#Sorting data according to ProductId in ascending order\n",
    "sorted_data=filtered_data.sort_values('ProductId', axis=0, ascending=True, inplace=False, kind='quicksort', na_position='last')"
   ]
  },
  {
   "cell_type": "code",
   "execution_count": 11,
   "metadata": {
    "_uuid": "d583babab7c606fee4f966fa21e55079f6fb874f"
   },
   "outputs": [
    {
     "data": {
      "text/plain": [
       "(364173, 10)"
      ]
     },
     "execution_count": 11,
     "metadata": {},
     "output_type": "execute_result"
    }
   ],
   "source": [
    "#Deduplication of entries\n",
    "final=sorted_data.drop_duplicates(subset={\"UserId\",\"ProfileName\",\"Time\",\"Text\"}, keep='first', inplace=False)\n",
    "final.shape"
   ]
  },
  {
   "cell_type": "markdown",
   "metadata": {},
   "source": [
    "<b>Deduplication 2:-</b> It was also seen that in two rows given below the value of HelpfulnessNumerator is greater than HelpfulnessDenominator which is not practically possible hence these two rows too are removed from calcualtions"
   ]
  },
  {
   "cell_type": "code",
   "execution_count": 12,
   "metadata": {},
   "outputs": [
    {
     "data": {
      "text/html": [
       "<table border=\"1\" class=\"dataframe\">\n",
       "  <thead>\n",
       "    <tr style=\"text-align: right;\">\n",
       "      <th>Id</th>\n",
       "      <th>ProductId</th>\n",
       "      <th>UserId</th>\n",
       "      <th>ProfileName</th>\n",
       "      <th>HelpfulnessNumerator</th>\n",
       "      <th>HelpfulnessDenominator</th>\n",
       "      <th>Score</th>\n",
       "      <th>Time</th>\n",
       "      <th>Summary</th>\n",
       "      <th>Text</th>\n",
       "    </tr>\n",
       "  </thead>\n",
       "  <tbody>\n",
       "    <tr>\n",
       "      <td>64422</td>\n",
       "      <td>B000MIDROQ</td>\n",
       "      <td>A161DK06JJMCYF</td>\n",
       "      <td>J. E. Stephens \"Jeanne\"</td>\n",
       "      <td>3</td>\n",
       "      <td>1</td>\n",
       "      <td>5</td>\n",
       "      <td>1224892800</td>\n",
       "      <td>Bought This for My Son at College</td>\n",
       "      <td>My son loves spaghetti so I didn't hesitate or...</td>\n",
       "    </tr>\n",
       "    <tr>\n",
       "      <td>44737</td>\n",
       "      <td>B001EQ55RW</td>\n",
       "      <td>A2V0I904FH7ABY</td>\n",
       "      <td>Ram</td>\n",
       "      <td>3</td>\n",
       "      <td>2</td>\n",
       "      <td>4</td>\n",
       "      <td>1212883200</td>\n",
       "      <td>Pure cocoa taste with crunchy almonds inside</td>\n",
       "      <td>It was almost a 'love at first bite' - the per...</td>\n",
       "    </tr>\n",
       "  </tbody>\n",
       "</table>"
      ],
      "text/plain": [
       "<IPython.core.display.HTML object>"
      ]
     },
     "execution_count": 12,
     "metadata": {},
     "output_type": "execute_result"
    }
   ],
   "source": [
    "display= pd.read_sql_query(\"\"\"\n",
    "SELECT *\n",
    "FROM Reviews\n",
    "WHERE Score != 3 AND Id=44737 OR Id=64422\n",
    "ORDER BY ProductID\n",
    "\"\"\", con)\n",
    "\n",
    "HTML(display.head().to_html(index=False))"
   ]
  },
  {
   "cell_type": "code",
   "execution_count": 13,
   "metadata": {
    "_uuid": "194efff1035d61576cc15c81115aab0d4aa23314"
   },
   "outputs": [
    {
     "name": "stdout",
     "output_type": "stream",
     "text": [
      "(364171, 10)\n"
     ]
    }
   ],
   "source": [
    "final=final[final.HelpfulnessNumerator<=final.HelpfulnessDenominator]\n",
    "print(final.shape)"
   ]
  },
  {
   "cell_type": "markdown",
   "metadata": {},
   "source": [
    "<b>Deduplication 3:-</b> It was also seen that a same user has given different reviews for a same product at same time.I think it is normal for a user to give multiple reviews about a product,but that should be in diffrent time.<br>\n",
    "So,all those rows with same user giving multiple reviews for a same product at same time are considered as duplicate and hence dropped."
   ]
  },
  {
   "cell_type": "code",
   "execution_count": 14,
   "metadata": {},
   "outputs": [
    {
     "data": {
      "text/html": [
       "<table border=\"1\" class=\"dataframe\">\n",
       "  <thead>\n",
       "    <tr style=\"text-align: right;\">\n",
       "      <th>Id</th>\n",
       "      <th>ProductId</th>\n",
       "      <th>UserId</th>\n",
       "      <th>ProfileName</th>\n",
       "      <th>HelpfulnessNumerator</th>\n",
       "      <th>HelpfulnessDenominator</th>\n",
       "      <th>Score</th>\n",
       "      <th>Time</th>\n",
       "      <th>Summary</th>\n",
       "      <th>Text</th>\n",
       "    </tr>\n",
       "  </thead>\n",
       "  <tbody>\n",
       "    <tr>\n",
       "      <td>86221</td>\n",
       "      <td>B000084E6V</td>\n",
       "      <td>A8891HVRDJAM6</td>\n",
       "      <td>Marfaux \"Marfaux\"</td>\n",
       "      <td>33</td>\n",
       "      <td>33</td>\n",
       "      <td>5</td>\n",
       "      <td>1161388800</td>\n",
       "      <td>Dog LOVE these!</td>\n",
       "      <td>We purchase these dinosaurs constantly.  For s...</td>\n",
       "    </tr>\n",
       "    <tr>\n",
       "      <td>86236</td>\n",
       "      <td>B000084E6V</td>\n",
       "      <td>A8891HVRDJAM6</td>\n",
       "      <td>Marfaux \"Marfaux\"</td>\n",
       "      <td>3</td>\n",
       "      <td>3</td>\n",
       "      <td>5</td>\n",
       "      <td>1161388800</td>\n",
       "      <td>Very entertaining!</td>\n",
       "      <td>These dinos are great for powerful chewers! Ou...</td>\n",
       "    </tr>\n",
       "  </tbody>\n",
       "</table>"
      ],
      "text/plain": [
       "<IPython.core.display.HTML object>"
      ]
     },
     "execution_count": 14,
     "metadata": {},
     "output_type": "execute_result"
    }
   ],
   "source": [
    "display= pd.read_sql_query(\"\"\"\n",
    "SELECT *\n",
    "FROM Reviews\n",
    "WHERE Score != 3 AND UserId= \"A8891HVRDJAM6\" \n",
    "ORDER BY ProductID\n",
    "\"\"\", con)\n",
    "\n",
    "HTML(display.head().to_html(index=False))"
   ]
  },
  {
   "cell_type": "code",
   "execution_count": 15,
   "metadata": {
    "_uuid": "a4645edd3e53130d96a6112de14f8b1d27dbfb23"
   },
   "outputs": [
    {
     "name": "stdout",
     "output_type": "stream",
     "text": [
      "(363633, 10)\n"
     ]
    }
   ],
   "source": [
    "final=final.drop_duplicates(subset={\"ProductId\",\"UserId\",\"ProfileName\",\"Time\"}, keep='first', inplace=False)\n",
    "print(final.shape)"
   ]
  },
  {
   "cell_type": "markdown",
   "metadata": {},
   "source": [
    "<b>Deduplication 4:-</b> It was also seen that in few rows with Ids from 150493 to 150529 contain reviews regarding books,not fine foods.So I think these should be also removed from the dataset.\n",
    "After looking at the productid column, it can be noticed that all the observations for fine foods start with B followed by numbers except for Ids from 150493 to 150529. \n",
    "I suppose the reviews for book ‘Chicken soup for the soul’ have gotten into the datset mistakenly as they contain the words “chicken soup."
   ]
  },
  {
   "cell_type": "code",
   "execution_count": 16,
   "metadata": {
    "_uuid": "52023509a82a879660fb3395e2814728a2ec1e03"
   },
   "outputs": [
    {
     "data": {
      "text/html": [
       "<table border=\"1\" class=\"dataframe\">\n",
       "  <thead>\n",
       "    <tr style=\"text-align: right;\">\n",
       "      <th>Id</th>\n",
       "      <th>ProductId</th>\n",
       "      <th>UserId</th>\n",
       "      <th>ProfileName</th>\n",
       "      <th>HelpfulnessNumerator</th>\n",
       "      <th>HelpfulnessDenominator</th>\n",
       "      <th>Score</th>\n",
       "      <th>Time</th>\n",
       "      <th>Summary</th>\n",
       "      <th>Text</th>\n",
       "    </tr>\n",
       "  </thead>\n",
       "  <tbody>\n",
       "    <tr>\n",
       "      <td>150524</td>\n",
       "      <td>0006641040</td>\n",
       "      <td>ACITT7DI6IDDL</td>\n",
       "      <td>shari zychinski</td>\n",
       "      <td>0</td>\n",
       "      <td>0</td>\n",
       "      <td>positive</td>\n",
       "      <td>939340800</td>\n",
       "      <td>EVERY book is educational</td>\n",
       "      <td>this witty little book makes my son laugh at l...</td>\n",
       "    </tr>\n",
       "    <tr>\n",
       "      <td>150506</td>\n",
       "      <td>0006641040</td>\n",
       "      <td>A2IW4PEEKO2R0U</td>\n",
       "      <td>Tracy</td>\n",
       "      <td>1</td>\n",
       "      <td>1</td>\n",
       "      <td>positive</td>\n",
       "      <td>1194739200</td>\n",
       "      <td>Love the book, miss the hard cover version</td>\n",
       "      <td>I grew up reading these Sendak books, and watc...</td>\n",
       "    </tr>\n",
       "    <tr>\n",
       "      <td>150507</td>\n",
       "      <td>0006641040</td>\n",
       "      <td>A1S4A3IQ2MU7V4</td>\n",
       "      <td>sally sue \"sally sue\"</td>\n",
       "      <td>1</td>\n",
       "      <td>1</td>\n",
       "      <td>positive</td>\n",
       "      <td>1191456000</td>\n",
       "      <td>chicken soup with rice months</td>\n",
       "      <td>This is a fun way for children to learn their ...</td>\n",
       "    </tr>\n",
       "    <tr>\n",
       "      <td>150508</td>\n",
       "      <td>0006641040</td>\n",
       "      <td>AZGXZ2UUK6X</td>\n",
       "      <td>Catherine Hallberg \"(Kate)\"</td>\n",
       "      <td>1</td>\n",
       "      <td>1</td>\n",
       "      <td>positive</td>\n",
       "      <td>1076025600</td>\n",
       "      <td>a good swingy rhythm for reading aloud</td>\n",
       "      <td>This is a great little book to read aloud- it ...</td>\n",
       "    </tr>\n",
       "    <tr>\n",
       "      <td>150509</td>\n",
       "      <td>0006641040</td>\n",
       "      <td>A3CMRKGE0P909G</td>\n",
       "      <td>Teresa</td>\n",
       "      <td>3</td>\n",
       "      <td>4</td>\n",
       "      <td>positive</td>\n",
       "      <td>1018396800</td>\n",
       "      <td>A great way to learn the months</td>\n",
       "      <td>This is a book of poetry about the months of t...</td>\n",
       "    </tr>\n",
       "  </tbody>\n",
       "</table>"
      ],
      "text/plain": [
       "<IPython.core.display.HTML object>"
      ]
     },
     "execution_count": 16,
     "metadata": {},
     "output_type": "execute_result"
    }
   ],
   "source": [
    "display = final[final.ProductId == \"0006641040\"]\n",
    "HTML(display.head().to_html(index=False))"
   ]
  },
  {
   "cell_type": "code",
   "execution_count": 17,
   "metadata": {
    "_uuid": "feda55f30c64a6269475b9f51f7c1aecb591a0a8"
   },
   "outputs": [],
   "source": [
    "final = final[final.ProductId != \"0006641040\"]"
   ]
  },
  {
   "cell_type": "code",
   "execution_count": 18,
   "metadata": {},
   "outputs": [
    {
     "name": "stdout",
     "output_type": "stream",
     "text": [
      "Percentage  of data still remaining :  69.14973735959865\n",
      "Number of reviews left after Data Cleaning and Deduplication :\n",
      "(363599, 10)\n"
     ]
    },
    {
     "data": {
      "text/plain": [
       "positive    306566\n",
       "negative     57033\n",
       "Name: Score, dtype: int64"
      ]
     },
     "execution_count": 18,
     "metadata": {},
     "output_type": "execute_result"
    }
   ],
   "source": [
    "print(\"Percentage  of data still remaining : \",(final['Id'].size*1.0)/(filtered_data['Id'].size*1.0)*100)\n",
    "\n",
    "#Before starting the next phase of preprocessing lets see the number of entries left\n",
    "print(\"Number of reviews left after Data Cleaning and Deduplication :\")\n",
    "print(final.shape)\n",
    "\n",
    "#How many positive and negative reviews are present in our dataset?\n",
    "final['Score'].value_counts()"
   ]
  },
  {
   "cell_type": "markdown",
   "metadata": {},
   "source": [
    "<b>Observation:-</b>  \n",
    "It is an imbalanced dataset as the number of positive reviews are way high in number than negative reviews."
   ]
  },
  {
   "cell_type": "markdown",
   "metadata": {},
   "source": [
    "## [5] Text Preprocessing Using NLTK : <a name=\"textprep\"></a>\n",
    "\n",
    "In the Preprocessing phase we do the following in the order below:-\n",
    "\n",
    "1. Removal of HTML Tags\n",
    "2. Removal of  any punctuations or limited set of special characters like , or . or # etc.\n",
    "3. Check if the word is made up of english letters and is not alpha-numeric\n",
    "4. Check to see if the length of the word is greater than 2 (as it was researched that there is no adjective in 2-letters)\n",
    "5. Convert the word to lowercase\n",
    "6. Removal of  Stopwords\n",
    "7. Finally Snowball Stemming the word <br>\n",
    "\n",
    "After which we collect the words used to describe positive and negative reviews\n",
    "\n",
    "### [5.1] Using SQLite Table to load preprocessed data already saved in disk:"
   ]
  },
  {
   "cell_type": "code",
   "execution_count": 12,
   "metadata": {},
   "outputs": [],
   "source": [
    "# using the SQLite Table to read data.\n",
    "conn = sqlite3.connect('final.sqlite') \n",
    "\n",
    "final = pd.read_sql_query(\"\"\" SELECT * FROM Reviews \"\"\",conn) "
   ]
  },
  {
   "cell_type": "code",
   "execution_count": 13,
   "metadata": {
    "_uuid": "7e1e078fdd445552fe7dce5b0f7d3143a999baec"
   },
   "outputs": [
    {
     "data": {
      "text/plain": [
       "positive    306566\n",
       "negative     57033\n",
       "Name: Score, dtype: int64"
      ]
     },
     "execution_count": 13,
     "metadata": {},
     "output_type": "execute_result"
    }
   ],
   "source": [
    "#Listing out the number of positive and negative reviews\n",
    "final = final.reset_index(drop=True)\n",
    "final['Score'].value_counts()"
   ]
  },
  {
   "cell_type": "code",
   "execution_count": 14,
   "metadata": {},
   "outputs": [
    {
     "data": {
      "text/plain": [
       "positive    84.314313\n",
       "negative    15.685687\n",
       "Name: Score, dtype: float64"
      ]
     },
     "execution_count": 14,
     "metadata": {},
     "output_type": "execute_result"
    }
   ],
   "source": [
    "(final['Score'].value_counts()/len(final['Score']))*100"
   ]
  },
  {
   "cell_type": "markdown",
   "metadata": {},
   "source": [
    "## [6] Train and Test Split of Data : <a name=\"split\"></a>"
   ]
  },
  {
   "cell_type": "markdown",
   "metadata": {},
   "source": [
    "<b>Sorting the data by Time :</b>"
   ]
  },
  {
   "cell_type": "code",
   "execution_count": 15,
   "metadata": {},
   "outputs": [
    {
     "data": {
      "text/html": [
       "<div>\n",
       "<style>\n",
       "    .dataframe thead tr:only-child th {\n",
       "        text-align: right;\n",
       "    }\n",
       "\n",
       "    .dataframe thead th {\n",
       "        text-align: left;\n",
       "    }\n",
       "\n",
       "    .dataframe tbody tr th {\n",
       "        vertical-align: top;\n",
       "    }\n",
       "</style>\n",
       "<table border=\"1\" class=\"dataframe\">\n",
       "  <thead>\n",
       "    <tr style=\"text-align: right;\">\n",
       "      <th></th>\n",
       "      <th>index</th>\n",
       "      <th>Id</th>\n",
       "      <th>ProductId</th>\n",
       "      <th>UserId</th>\n",
       "      <th>ProfileName</th>\n",
       "      <th>HelpfulnessNumerator</th>\n",
       "      <th>HelpfulnessDenominator</th>\n",
       "      <th>Score</th>\n",
       "      <th>Time</th>\n",
       "      <th>Summary</th>\n",
       "      <th>Text</th>\n",
       "      <th>CleanedText</th>\n",
       "    </tr>\n",
       "  </thead>\n",
       "  <tbody>\n",
       "    <tr>\n",
       "      <th>387</th>\n",
       "      <td>417839</td>\n",
       "      <td>451856</td>\n",
       "      <td>B00004CXX9</td>\n",
       "      <td>AIUWLEQ1ADEG5</td>\n",
       "      <td>Elizabeth Medina</td>\n",
       "      <td>0</td>\n",
       "      <td>0</td>\n",
       "      <td>positive</td>\n",
       "      <td>944092800</td>\n",
       "      <td>Entertainingl Funny!</td>\n",
       "      <td>Beetlejuice is a well written movie ..... ever...</td>\n",
       "      <td>beetlejuic well written movi everyth excel act...</td>\n",
       "    </tr>\n",
       "    <tr>\n",
       "      <th>225</th>\n",
       "      <td>346141</td>\n",
       "      <td>374450</td>\n",
       "      <td>B00004CI84</td>\n",
       "      <td>ACJR7EQF9S6FP</td>\n",
       "      <td>Jeremy Robertson</td>\n",
       "      <td>2</td>\n",
       "      <td>3</td>\n",
       "      <td>positive</td>\n",
       "      <td>951523200</td>\n",
       "      <td>Bettlejuice...Bettlejuice...BETTLEJUICE!</td>\n",
       "      <td>What happens when you say his name three times...</td>\n",
       "      <td>happen say name three time michael keaten star...</td>\n",
       "    </tr>\n",
       "    <tr>\n",
       "      <th>288</th>\n",
       "      <td>346094</td>\n",
       "      <td>374400</td>\n",
       "      <td>B00004CI84</td>\n",
       "      <td>A2DEE7F9XKP3ZR</td>\n",
       "      <td>jerome</td>\n",
       "      <td>0</td>\n",
       "      <td>3</td>\n",
       "      <td>positive</td>\n",
       "      <td>959990400</td>\n",
       "      <td>Research - Beatlejuice video - French version</td>\n",
       "      <td>I'm getting crazy.I'm looking for Beatlejuice ...</td>\n",
       "      <td>get crazi look beatlejuic french version video...</td>\n",
       "    </tr>\n",
       "    <tr>\n",
       "      <th>390</th>\n",
       "      <td>417883</td>\n",
       "      <td>451903</td>\n",
       "      <td>B00004CXX9</td>\n",
       "      <td>A2DEE7F9XKP3ZR</td>\n",
       "      <td>jerome</td>\n",
       "      <td>0</td>\n",
       "      <td>1</td>\n",
       "      <td>positive</td>\n",
       "      <td>959990400</td>\n",
       "      <td>Research</td>\n",
       "      <td>I'm getting crazy.&lt;p&gt;Is it really impossible t...</td>\n",
       "      <td>get crazi realli imposs today not find french ...</td>\n",
       "    </tr>\n",
       "    <tr>\n",
       "      <th>213</th>\n",
       "      <td>346115</td>\n",
       "      <td>374421</td>\n",
       "      <td>B00004CI84</td>\n",
       "      <td>A1FJOY14X3MUHE</td>\n",
       "      <td>Justin Howard</td>\n",
       "      <td>2</td>\n",
       "      <td>2</td>\n",
       "      <td>positive</td>\n",
       "      <td>966297600</td>\n",
       "      <td>A fresh, original film from master storyteller...</td>\n",
       "      <td>This is such a great film, I don't even know h...</td>\n",
       "      <td>great film dont even know sum first complet or...</td>\n",
       "    </tr>\n",
       "  </tbody>\n",
       "</table>\n",
       "</div>"
      ],
      "text/plain": [
       "      index      Id   ProductId          UserId       ProfileName  \\\n",
       "387  417839  451856  B00004CXX9   AIUWLEQ1ADEG5  Elizabeth Medina   \n",
       "225  346141  374450  B00004CI84   ACJR7EQF9S6FP  Jeremy Robertson   \n",
       "288  346094  374400  B00004CI84  A2DEE7F9XKP3ZR            jerome   \n",
       "390  417883  451903  B00004CXX9  A2DEE7F9XKP3ZR            jerome   \n",
       "213  346115  374421  B00004CI84  A1FJOY14X3MUHE     Justin Howard   \n",
       "\n",
       "     HelpfulnessNumerator  HelpfulnessDenominator     Score       Time  \\\n",
       "387                     0                       0  positive  944092800   \n",
       "225                     2                       3  positive  951523200   \n",
       "288                     0                       3  positive  959990400   \n",
       "390                     0                       1  positive  959990400   \n",
       "213                     2                       2  positive  966297600   \n",
       "\n",
       "                                               Summary  \\\n",
       "387                               Entertainingl Funny!   \n",
       "225           Bettlejuice...Bettlejuice...BETTLEJUICE!   \n",
       "288      Research - Beatlejuice video - French version   \n",
       "390                                           Research   \n",
       "213  A fresh, original film from master storyteller...   \n",
       "\n",
       "                                                  Text  \\\n",
       "387  Beetlejuice is a well written movie ..... ever...   \n",
       "225  What happens when you say his name three times...   \n",
       "288  I'm getting crazy.I'm looking for Beatlejuice ...   \n",
       "390  I'm getting crazy.<p>Is it really impossible t...   \n",
       "213  This is such a great film, I don't even know h...   \n",
       "\n",
       "                                           CleanedText  \n",
       "387  beetlejuic well written movi everyth excel act...  \n",
       "225  happen say name three time michael keaten star...  \n",
       "288  get crazi look beatlejuic french version video...  \n",
       "390  get crazi realli imposs today not find french ...  \n",
       "213  great film dont even know sum first complet or...  "
      ]
     },
     "execution_count": 15,
     "metadata": {},
     "output_type": "execute_result"
    }
   ],
   "source": [
    "final = final.sample(n = 100000)\n",
    "\n",
    "final=final.sort_values('Time', axis=0, ascending=True, inplace=False, kind='quicksort', na_position='last')\n",
    "final.head()"
   ]
  },
  {
   "cell_type": "markdown",
   "metadata": {},
   "source": [
    "<b>Time Based Slicing :</b>  \n",
    "-  Diving the data to Train set(first 70% ie older data) and Test  Set(last 30% ie recent data)"
   ]
  },
  {
   "cell_type": "code",
   "execution_count": 16,
   "metadata": {},
   "outputs": [],
   "source": [
    "from sklearn.model_selection import train_test_split\n",
    "\n",
    "X = final[\"CleanedText\"].values\n",
    "y = final[\"Score\"].values\n",
    "X_train,X_test,y_train,y_test = train_test_split(X, y, test_size = 0.3,shuffle = False)"
   ]
  },
  {
   "cell_type": "code",
   "execution_count": 17,
   "metadata": {},
   "outputs": [
    {
     "name": "stdout",
     "output_type": "stream",
     "text": [
      "Shape of X_train:  (70000,)\n",
      "Shape of y_train:  (70000,)\n",
      "Shape of X_test:  (30000,)\n",
      "Shape of y_test:  (30000,)\n"
     ]
    }
   ],
   "source": [
    "print(\"Shape of X_train: \",X_train.shape)\n",
    "print(\"Shape of y_train: \",y_train.shape)\n",
    "print(\"Shape of X_test: \",X_test.shape)\n",
    "print(\"Shape of y_test: \",y_test.shape)"
   ]
  },
  {
   "cell_type": "markdown",
   "metadata": {},
   "source": [
    "## [7] Decission Tree Classification : <a name=\"dt\"></a>\n",
    "\n",
    "### [7.1] Function to find the optimal depth of Tree Using Training data: <a name=\"bestdepth\"></a>\n",
    "-  Taking max_depth between range 1 and 30.(so that the tree is not deep and model loses its interpretrability)  \n",
    "-  Performing 10 fold cross validation(Grid Search) on Train data \n",
    "-  Finding the optimal depth\n",
    "-  Plotting between CV error/CV Accuracy and depth of tree\n",
    "-  Predicting on Test Data and plotting Confusion Matrix\n",
    "-  Reporting Performance Metrics"
   ]
  },
  {
   "cell_type": "code",
   "execution_count": 18,
   "metadata": {},
   "outputs": [],
   "source": [
    "from sklearn.model_selection import TimeSeriesSplit\n",
    "from sklearn.tree import DecisionTreeClassifier\n",
    "from sklearn.svm import SVC\n",
    "from sklearn.model_selection import cross_val_score as cv\n",
    "from sklearn.metrics import accuracy_score\n",
    "from sklearn.metrics import confusion_matrix\n",
    "from sklearn.model_selection import GridSearchCV\n",
    "from sklearn.metrics import precision_score\n",
    "from sklearn.metrics import recall_score\n",
    "from sklearn.metrics import f1_score\n",
    "from sklearn.metrics import classification_report\n",
    "import warnings\n",
    "warnings.filterwarnings('ignore')\n",
    "\n",
    "\n",
    "depth = np.arange(1,31,2)\n",
    "param_dt = dict(max_depth = depth)\n",
    "\n",
    "def DT_model(X_train,y_train):\n",
    "    \n",
    "    #Cross validation using TimeSeriesSplit\n",
    "    tscv = TimeSeriesSplit(n_splits=10)\n",
    "    \n",
    "    \n",
    "    #using class_weight = \"balanced\" to balance the imbalanced nature of dataset\n",
    "    model = DecisionTreeClassifier(class_weight = \"balanced\")\n",
    "    grid = GridSearchCV(model, param_dt, cv = tscv, scoring = 'f1_weighted')\n",
    "    grid_estimator = grid.fit(X_train, y_train)\n",
    "    \n",
    "    #Finding the optimal alpha\n",
    "    optimal_depth = grid_estimator.best_params_\n",
    "    \n",
    "    #Finding the best score\n",
    "    grid_mean_scores = [i.mean_validation_score for i in grid_estimator.grid_scores_]\n",
    "    best_score = grid.best_score_\n",
    "    \n",
    "    #CV Scores\n",
    "    print(\"\\n\\033[1mGrid Scores for Model is:\\033[0m\\n\",grid_estimator.grid_scores_)\n",
    "    print(\"\\n\\033[1mBest Parameters:\\033[0m \",optimal_depth)\n",
    "    print(\"\\n\\033[1mBest F1-Score:\\033[0m {} \".format(np.round(best_score,3)))\n",
    "    \n",
    "    \n",
    "    #Plot \n",
    "    plt.figure(figsize = (10,6))\n",
    "    plt.plot(depth,grid_mean_scores, 'g-o')\n",
    "    for xy in zip(depth, np.round(grid_mean_scores,3)):\n",
    "         plt.annotate('(%s %s)' % xy, xy = xy, textcoords = 'data')\n",
    "    plt.title(\"CV F1-Score vs Depth of Tree \", fontsize=20, fontweight='bold')\n",
    "    plt.xlabel(\"depth\", fontsize=16)\n",
    "    plt.ylabel('CV F1-Score', fontsize=16)\n",
    "    plt.grid('on')\n",
    "    \n",
    "    return grid_estimator"
   ]
  },
  {
   "cell_type": "markdown",
   "metadata": {},
   "source": [
    "### [7.2] Function to Predict on Test data and report Performance: <a name=\"acc\"></a>"
   ]
  },
  {
   "cell_type": "code",
   "execution_count": 19,
   "metadata": {},
   "outputs": [],
   "source": [
    "def DT_Test(X_train,X_test,y_train,y_test):\n",
    "    y_pred = grid_estimator.predict(X_test)\n",
    "    accuracy = accuracy_score(y_test,y_pred) * 100\n",
    "    precision = precision_score(y_test,y_pred,average= 'weighted')\n",
    "    recall = recall_score(y_test,y_pred,average= 'weighted')\n",
    "    f1= f1_score(y_test,y_pred,average= 'weighted')\n",
    "    MSE = (1 - (accuracy/100))\n",
    "    cm = confusion_matrix(y_test, y_pred)\n",
    "    tn, fp, fn, tp = confusion_matrix(y_test, y_pred).ravel()\n",
    "    cm_df = pd.DataFrame(cm,\n",
    "                         index = ['negative','positive'], \n",
    "                        columns = ['negative','positive'])\n",
    "    sns.heatmap(cm_df, annot=True)\n",
    "    plt.title('Confusion Matrix')\n",
    "    plt.ylabel('Actual Label')\n",
    "    plt.xlabel('Predicted Label')\n",
    "    plt.show()\n",
    "    \n",
    "    print(cm)\n",
    "    print(\"\\n\\033[1mTest Error :\\033[0m {}\".format(np.round(MSE,3)))\n",
    "    print(\"\\033[1mTest Accuracy :\\033[0m {} %\".format(np.round(accuracy,3)))\n",
    "    print(\"\\033[1mTrue Negative :\\033[0m {}\".format(tn))\n",
    "    print(\"\\033[1mFalse Positive :\\033[0m {}\".format(fp))\n",
    "    print(\"\\033[1mFalse Negative :\\033[0m {}\".format(fn))\n",
    "    print(\"\\033[1mTrue Positive :\\033[0m {}\".format(tp))\n",
    "    print(\"\\33[1mPrecission Score :\\033[0m {}\".format(np.round(precision,3)))\n",
    "    print(\"\\33[1mRecall Score :\\033[0m {}\".format(np.round(recall,3)))\n",
    "    print(\"\\33[1mF1 Score :\\033[0m {}\".format(np.round(f1,3)))\n",
    "    print(\"\\n\\n\")\n",
    "    \n",
    "    print('\\33[1mClassification Report for Model is :\\33[0m')\n",
    "    classificationreport = classification_report(y_test, y_pred)\n",
    "    print(classificationreport)"
   ]
  },
  {
   "cell_type": "markdown",
   "metadata": {},
   "source": [
    "### [7.3] Feature Importance: <a name=\"fi\"></a>"
   ]
  },
  {
   "cell_type": "code",
   "execution_count": 20,
   "metadata": {},
   "outputs": [],
   "source": [
    "def featureimportance(X_train, y_train, d, vectorizer, n=20):\n",
    "    clf = DecisionTreeClassifier(max_depth=d,class_weight=\"balanced\") \n",
    "    clf.fit(X_train,y_train)\n",
    "    \n",
    "    features=clf.feature_importances_\n",
    "    index = np.argsort(features)[::-1][:n] \n",
    "    \n",
    "    names = vectorizer.get_feature_names()\n",
    "    names = np.array(names)\n",
    "    plt.figure(figsize=(20, 6))\n",
    "    plt.bar(range(n),features[index])\n",
    "    plt.xticks(range(n),names[index],rotation=90)\n",
    "    plt.title(\"Feature Importance\", fontsize=20,fontweight=\"bold\")\n",
    "    plt.grid('on')\n",
    "    plt.show()"
   ]
  },
  {
   "cell_type": "markdown",
   "metadata": {},
   "source": [
    "## [8] Featurization Methods : <a name=\"vec\"></a>  "
   ]
  },
  {
   "cell_type": "markdown",
   "metadata": {},
   "source": [
    "### [8.1] Bag Of Words(unigram) : <a name=\"bowuni\"></a>"
   ]
  },
  {
   "cell_type": "code",
   "execution_count": 13,
   "metadata": {},
   "outputs": [
    {
     "name": "stdout",
     "output_type": "stream",
     "text": [
      "Type of Count Vectorizer:  <class 'scipy.sparse.csr.csr_matrix'>\n",
      "The shape of text BOW vectorizer:  (70000, 3932)\n",
      "Number of unique word:  3932\n",
      "Wall time: 4.52 s\n"
     ]
    }
   ],
   "source": [
    "%%time\n",
    "bow_unigram = CountVectorizer(min_df=0.0005)\n",
    "X_train_bowuni = bow_unigram.fit_transform(X_train)\n",
    "print(\"Type of Count Vectorizer: \",type(X_train_bowuni))\n",
    "print(\"The shape of text BOW vectorizer: \", X_train_bowuni.get_shape())\n",
    "print(\"Number of unique word: \", X_train_bowuni.get_shape()[1])"
   ]
  },
  {
   "cell_type": "code",
   "execution_count": 14,
   "metadata": {},
   "outputs": [
    {
     "name": "stdout",
     "output_type": "stream",
     "text": [
      "The shape of text BOW vectorizer:  (30000, 3932)\n",
      "Number of unique word:  3932\n",
      "Wall time: 1.93 s\n"
     ]
    }
   ],
   "source": [
    "%%time\n",
    "X_test_bowuni = bow_unigram.transform(X_test)\n",
    "print(\"The shape of text BOW vectorizer: \", X_test_bowuni.get_shape())\n",
    "print(\"Number of unique word: \", X_test_bowuni.get_shape()[1])"
   ]
  },
  {
   "cell_type": "code",
   "execution_count": 15,
   "metadata": {},
   "outputs": [
    {
     "name": "stdout",
     "output_type": "stream",
     "text": [
      "Shape of Training Data:  (70000, 3932)\n",
      "Shape of Test Data:  (30000, 3932)\n"
     ]
    }
   ],
   "source": [
    "print(\"Shape of Training Data: \",X_train_bowuni.shape)\n",
    "print(\"Shape of Test Data: \",X_test_bowuni.shape)"
   ]
  },
  {
   "cell_type": "code",
   "execution_count": 25,
   "metadata": {},
   "outputs": [
    {
     "name": "stdout",
     "output_type": "stream",
     "text": [
      "\n",
      "\u001b[1mGrid Scores for Model is:\u001b[0m\n",
      " [mean: 0.67368, std: 0.09188, params: {'max_depth': 1}, mean: 0.77643, std: 0.01474, params: {'max_depth': 3}, mean: 0.63105, std: 0.01432, params: {'max_depth': 5}, mean: 0.68795, std: 0.02043, params: {'max_depth': 7}, mean: 0.73460, std: 0.00703, params: {'max_depth': 9}, mean: 0.74923, std: 0.00594, params: {'max_depth': 11}, mean: 0.76463, std: 0.01099, params: {'max_depth': 13}, mean: 0.77513, std: 0.01016, params: {'max_depth': 15}, mean: 0.78308, std: 0.00847, params: {'max_depth': 17}, mean: 0.78953, std: 0.00467, params: {'max_depth': 19}, mean: 0.79555, std: 0.00609, params: {'max_depth': 21}, mean: 0.79818, std: 0.00652, params: {'max_depth': 23}, mean: 0.80052, std: 0.00687, params: {'max_depth': 25}, mean: 0.80452, std: 0.00684, params: {'max_depth': 27}, mean: 0.80715, std: 0.00760, params: {'max_depth': 29}]\n",
      "\n",
      "\u001b[1mBest Parameters:\u001b[0m  {'max_depth': 29}\n",
      "\n",
      "\u001b[1mBest F1-Score:\u001b[0m 0.807 \n",
      "CPU times: user 14min 20s, sys: 16 ms, total: 14min 20s\n",
      "Wall time: 14min 20s\n"
     ]
    },
    {
     "data": {
      "image/png": "[encoded data removed]",
      "text/plain": [
       "<matplotlib.figure.Figure at 0x3fff179226d8>"
      ]
     },
     "metadata": {},
     "output_type": "display_data"
    }
   ],
   "source": [
    "%%time\n",
    "grid_estimator = DT_model(X_train_bowuni, y_train)"
   ]
  },
  {
   "cell_type": "code",
   "execution_count": 26,
   "metadata": {},
   "outputs": [
    {
     "data": {
      "image/png": "[encoded data removed]",
      "text/plain": [
       "<matplotlib.figure.Figure at 0x3fff1792e2e8>"
      ]
     },
     "metadata": {},
     "output_type": "display_data"
    },
    {
     "name": "stdout",
     "output_type": "stream",
     "text": [
      "[[ 3671  1589]\n",
      " [ 5022 19718]]\n",
      "\n",
      "\u001b[1mTest Error :\u001b[0m 0.22\n",
      "\u001b[1mTest Accuracy :\u001b[0m 77.963 %\n",
      "\u001b[1mTrue Negative :\u001b[0m 3671\n",
      "\u001b[1mFalse Positive :\u001b[0m 1589\n",
      "\u001b[1mFalse Negative :\u001b[0m 5022\n",
      "\u001b[1mTrue Positive :\u001b[0m 19718\n",
      "\u001b[1mPrecission Score :\u001b[0m 0.837\n",
      "\u001b[1mRecall Score :\u001b[0m 0.78\n",
      "\u001b[1mF1 Score :\u001b[0m 0.799\n",
      "\n",
      "\n",
      "\n",
      "\u001b[1mClassification Report for Model is :\u001b[0m\n",
      "             precision    recall  f1-score   support\n",
      "\n",
      "   negative       0.42      0.70      0.53      5260\n",
      "   positive       0.93      0.80      0.86     24740\n",
      "\n",
      "avg / total       0.84      0.78      0.80     30000\n",
      "\n",
      "CPU times: user 2.3 s, sys: 16 ms, total: 2.32 s\n",
      "Wall time: 2.1 s\n"
     ]
    }
   ],
   "source": [
    "%%time\n",
    "DT_Test(X_train_bowuni,X_test_bowuni, y_train,y_test)"
   ]
  },
  {
   "cell_type": "code",
   "execution_count": 16,
   "metadata": {},
   "outputs": [
    {
     "data": {
      "image/png": "[encoded data removed]",
      "text/plain": [
       "<Figure size 1440x432 with 1 Axes>"
      ]
     },
     "metadata": {},
     "output_type": "display_data"
    },
    {
     "name": "stdout",
     "output_type": "stream",
     "text": [
      "Wall time: 26.6 s\n"
     ]
    }
   ],
   "source": [
    "%%time\n",
    "featureimportance(X_train_bowuni, y_train,20,bow_unigram)"
   ]
  },
  {
   "cell_type": "markdown",
   "metadata": {},
   "source": [
    "### [8.2] Bag Of Words(bigram) : <a name=\"bowbi\"></a>"
   ]
  },
  {
   "cell_type": "code",
   "execution_count": 17,
   "metadata": {},
   "outputs": [
    {
     "name": "stdout",
     "output_type": "stream",
     "text": [
      "Type of Count Vectorizer:  <class 'scipy.sparse.csr.csr_matrix'>\n",
      "The shape of text BOW vectorizer:  (70000, 10975)\n",
      "Number of unique word:  10975\n",
      "Wall time: 57 s\n"
     ]
    }
   ],
   "source": [
    "%%time\n",
    "bow_bigram = CountVectorizer(ngram_range=(1, 2),min_df=0.0005)\n",
    "X_train_bowbi = bow_bigram.fit_transform(X_train)\n",
    "print(\"Type of Count Vectorizer: \",type(X_train_bowbi))\n",
    "print(\"The shape of text BOW vectorizer: \", X_train_bowbi.get_shape())\n",
    "print(\"Number of unique word: \", X_train_bowbi.get_shape()[1])"
   ]
  },
  {
   "cell_type": "code",
   "execution_count": 18,
   "metadata": {},
   "outputs": [
    {
     "name": "stdout",
     "output_type": "stream",
     "text": [
      "The shape of text BOW vectorizer:  (30000, 10975)\n",
      "Number of unique word:  10975\n",
      "Wall time: 6.83 s\n"
     ]
    }
   ],
   "source": [
    "%%time\n",
    "X_test_bowbi = bow_bigram.transform(X_test)\n",
    "print(\"The shape of text BOW vectorizer: \", X_test_bowbi.get_shape())\n",
    "print(\"Number of unique word: \", X_test_bowbi.get_shape()[1])"
   ]
  },
  {
   "cell_type": "code",
   "execution_count": 19,
   "metadata": {},
   "outputs": [
    {
     "name": "stdout",
     "output_type": "stream",
     "text": [
      "Shape of Training Data:  (70000, 10975)\n",
      "Shape of Test Data:  (30000, 10975)\n"
     ]
    }
   ],
   "source": [
    "print(\"Shape of Training Data: \",X_train_bowbi.shape)\n",
    "print(\"Shape of Test Data: \",X_test_bowbi.shape)"
   ]
  },
  {
   "cell_type": "code",
   "execution_count": 33,
   "metadata": {},
   "outputs": [
    {
     "name": "stdout",
     "output_type": "stream",
     "text": [
      "\n",
      "\u001b[1mGrid Scores for Model is:\u001b[0m\n",
      " [mean: 0.67368, std: 0.09188, params: {'max_depth': 1}, mean: 0.77643, std: 0.01474, params: {'max_depth': 3}, mean: 0.63403, std: 0.01425, params: {'max_depth': 5}, mean: 0.69126, std: 0.02152, params: {'max_depth': 7}, mean: 0.73642, std: 0.00792, params: {'max_depth': 9}, mean: 0.75343, std: 0.00757, params: {'max_depth': 11}, mean: 0.76948, std: 0.00807, params: {'max_depth': 13}, mean: 0.77988, std: 0.00670, params: {'max_depth': 15}, mean: 0.78798, std: 0.00756, params: {'max_depth': 17}, mean: 0.79435, std: 0.00662, params: {'max_depth': 19}, mean: 0.79858, std: 0.00701, params: {'max_depth': 21}, mean: 0.80351, std: 0.00681, params: {'max_depth': 23}, mean: 0.80779, std: 0.00630, params: {'max_depth': 25}, mean: 0.81023, std: 0.00607, params: {'max_depth': 27}, mean: 0.81311, std: 0.00508, params: {'max_depth': 29}]\n",
      "\n",
      "\u001b[1mBest Parameters:\u001b[0m  {'max_depth': 29}\n",
      "\n",
      "\u001b[1mBest F1-Score:\u001b[0m 0.813 \n",
      "CPU times: user 17min 18s, sys: 16 ms, total: 17min 18s\n",
      "Wall time: 17min 18s\n"
     ]
    },
    {
     "data": {
      "image/png": "[encoded data removed]",
      "text/plain": [
       "<matplotlib.figure.Figure at 0x3fff1788f588>"
      ]
     },
     "metadata": {},
     "output_type": "display_data"
    }
   ],
   "source": [
    "%%time\n",
    "grid_estimator = DT_model(X_train_bowbi, y_train)"
   ]
  },
  {
   "cell_type": "code",
   "execution_count": 34,
   "metadata": {},
   "outputs": [
    {
     "data": {
      "image/png": "[encoded data removed]",
      "text/plain": [
       "<matplotlib.figure.Figure at 0x3fff03aa5080>"
      ]
     },
     "metadata": {},
     "output_type": "display_data"
    },
    {
     "name": "stdout",
     "output_type": "stream",
     "text": [
      "[[ 3736  1524]\n",
      " [ 4744 19996]]\n",
      "\n",
      "\u001b[1mTest Error :\u001b[0m 0.209\n",
      "\u001b[1mTest Accuracy :\u001b[0m 79.107 %\n",
      "\u001b[1mTrue Negative :\u001b[0m 3736\n",
      "\u001b[1mFalse Positive :\u001b[0m 1524\n",
      "\u001b[1mFalse Negative :\u001b[0m 4744\n",
      "\u001b[1mTrue Positive :\u001b[0m 19996\n",
      "\u001b[1mPrecission Score :\u001b[0m 0.844\n",
      "\u001b[1mRecall Score :\u001b[0m 0.791\n",
      "\u001b[1mF1 Score :\u001b[0m 0.808\n",
      "\n",
      "\n",
      "\n",
      "\u001b[1mClassification Report for Model is :\u001b[0m\n",
      "             precision    recall  f1-score   support\n",
      "\n",
      "   negative       0.44      0.71      0.54      5260\n",
      "   positive       0.93      0.81      0.86     24740\n",
      "\n",
      "avg / total       0.84      0.79      0.81     30000\n",
      "\n",
      "CPU times: user 2.33 s, sys: 20 ms, total: 2.35 s\n",
      "Wall time: 2.1 s\n"
     ]
    }
   ],
   "source": [
    "%%time\n",
    "DT_Test(X_train_bowbi,X_test_bowbi, y_train, y_test)"
   ]
  },
  {
   "cell_type": "code",
   "execution_count": 20,
   "metadata": {},
   "outputs": [
    {
     "data": {
      "image/png": "[encoded data removed]",
      "text/plain": [
       "<Figure size 1440x432 with 1 Axes>"
      ]
     },
     "metadata": {},
     "output_type": "display_data"
    },
    {
     "name": "stdout",
     "output_type": "stream",
     "text": [
      "Wall time: 46.5 s\n"
     ]
    }
   ],
   "source": [
    "%%time\n",
    "featureimportance(X_train_bowbi, y_train,20,bow_bigram)"
   ]
  },
  {
   "cell_type": "markdown",
   "metadata": {},
   "source": [
    "### [8.3] TF-IDF(unigram) : <a name=\"tfidfuni\"></a>"
   ]
  },
  {
   "cell_type": "code",
   "execution_count": 21,
   "metadata": {},
   "outputs": [
    {
     "name": "stdout",
     "output_type": "stream",
     "text": [
      "Type of Count Vectorizer:  <class 'scipy.sparse.csr.csr_matrix'>\n",
      "The shape of text TFIDF vectorizer:  (70000, 3932)\n",
      "Number of unique word:  3932\n",
      "Wall time: 7.56 s\n"
     ]
    }
   ],
   "source": [
    "%%time\n",
    "tfidf_unigram = TfidfVectorizer(min_df = 0.0005)\n",
    "X_train_tfidfuni = tfidf_unigram.fit_transform(X_train)\n",
    "print(\"Type of Count Vectorizer: \",type(X_train_tfidfuni))\n",
    "print(\"The shape of text TFIDF vectorizer: \", X_train_tfidfuni.get_shape())\n",
    "print(\"Number of unique word: \", X_train_tfidfuni.get_shape()[1])"
   ]
  },
  {
   "cell_type": "code",
   "execution_count": 22,
   "metadata": {},
   "outputs": [
    {
     "name": "stdout",
     "output_type": "stream",
     "text": [
      "The shape of text TFIDF vectorizer:  (30000, 3932)\n",
      "Number of unique word:  3932\n",
      "Wall time: 2.97 s\n"
     ]
    }
   ],
   "source": [
    "%%time\n",
    "X_test_tfidfuni = tfidf_unigram.transform(X_test)\n",
    "print(\"The shape of text TFIDF vectorizer: \", X_test_tfidfuni.get_shape())\n",
    "print(\"Number of unique word: \", X_test_tfidfuni.get_shape()[1])"
   ]
  },
  {
   "cell_type": "code",
   "execution_count": 23,
   "metadata": {},
   "outputs": [
    {
     "name": "stdout",
     "output_type": "stream",
     "text": [
      "Shape of Training Data:  (70000, 3932)\n",
      "Shape of Test Data:  (30000, 3932)\n"
     ]
    }
   ],
   "source": [
    "print(\"Shape of Training Data: \",X_train_tfidfuni.shape)\n",
    "print(\"Shape of Test Data: \",X_test_tfidfuni.shape)"
   ]
  },
  {
   "cell_type": "code",
   "execution_count": 40,
   "metadata": {},
   "outputs": [
    {
     "name": "stdout",
     "output_type": "stream",
     "text": [
      "\n",
      "\u001b[1mGrid Scores for Model is:\u001b[0m\n",
      " [mean: 0.54518, std: 0.16679, params: {'max_depth': 1}, mean: 0.77336, std: 0.01227, params: {'max_depth': 3}, mean: 0.70594, std: 0.08908, params: {'max_depth': 5}, mean: 0.67422, std: 0.01804, params: {'max_depth': 7}, mean: 0.71106, std: 0.00920, params: {'max_depth': 9}, mean: 0.72707, std: 0.00623, params: {'max_depth': 11}, mean: 0.74333, std: 0.01054, params: {'max_depth': 13}, mean: 0.75593, std: 0.01067, params: {'max_depth': 15}, mean: 0.76731, std: 0.01238, params: {'max_depth': 17}, mean: 0.77694, std: 0.01000, params: {'max_depth': 19}, mean: 0.78173, std: 0.01139, params: {'max_depth': 21}, mean: 0.78706, std: 0.01149, params: {'max_depth': 23}, mean: 0.79248, std: 0.00933, params: {'max_depth': 25}, mean: 0.79735, std: 0.00935, params: {'max_depth': 27}, mean: 0.79994, std: 0.00754, params: {'max_depth': 29}]\n",
      "\n",
      "\u001b[1mBest Parameters:\u001b[0m  {'max_depth': 29}\n",
      "\n",
      "\u001b[1mBest F1-Score:\u001b[0m 0.8 \n",
      "CPU times: user 16min 16s, sys: 24 ms, total: 16min 16s\n",
      "Wall time: 16min 16s\n"
     ]
    },
    {
     "data": {
      "image/png": "[encoded data removed]",
      "text/plain": [
       "<matplotlib.figure.Figure at 0x3fff0463b240>"
      ]
     },
     "metadata": {},
     "output_type": "display_data"
    }
   ],
   "source": [
    "%%time\n",
    "grid_estimator = DT_model(X_train_tfidfuni, y_train)"
   ]
  },
  {
   "cell_type": "code",
   "execution_count": 41,
   "metadata": {
    "scrolled": true
   },
   "outputs": [
    {
     "data": {
      "image/png": "[encoded data removed]",
      "text/plain": [
       "<matplotlib.figure.Figure at 0x3fff04619c18>"
      ]
     },
     "metadata": {},
     "output_type": "display_data"
    },
    {
     "name": "stdout",
     "output_type": "stream",
     "text": [
      "[[ 3688  1572]\n",
      " [ 5334 19406]]\n",
      "\n",
      "\u001b[1mTest Error :\u001b[0m 0.23\n",
      "\u001b[1mTest Accuracy :\u001b[0m 76.98 %\n",
      "\u001b[1mTrue Negative :\u001b[0m 3688\n",
      "\u001b[1mFalse Positive :\u001b[0m 1572\n",
      "\u001b[1mFalse Negative :\u001b[0m 5334\n",
      "\u001b[1mTrue Positive :\u001b[0m 19406\n",
      "\u001b[1mPrecission Score :\u001b[0m 0.835\n",
      "\u001b[1mRecall Score :\u001b[0m 0.77\n",
      "\u001b[1mF1 Score :\u001b[0m 0.791\n",
      "\n",
      "\n",
      "\n",
      "\u001b[1mClassification Report for Model is :\u001b[0m\n",
      "             precision    recall  f1-score   support\n",
      "\n",
      "   negative       0.41      0.70      0.52      5260\n",
      "   positive       0.93      0.78      0.85     24740\n",
      "\n",
      "avg / total       0.83      0.77      0.79     30000\n",
      "\n",
      "CPU times: user 2.37 s, sys: 20 ms, total: 2.39 s\n",
      "Wall time: 2.12 s\n"
     ]
    }
   ],
   "source": [
    "%%time\n",
    "DT_Test(X_train_tfidfuni,X_test_tfidfuni,y_train,y_test)"
   ]
  },
  {
   "cell_type": "code",
   "execution_count": 30,
   "metadata": {},
   "outputs": [
    {
     "data": {
      "image/png": "[encoded data removed]",
      "text/plain": [
       "<Figure size 1440x432 with 1 Axes>"
      ]
     },
     "metadata": {},
     "output_type": "display_data"
    },
    {
     "name": "stdout",
     "output_type": "stream",
     "text": [
      "Wall time: 27.7 s\n"
     ]
    }
   ],
   "source": [
    "%%time\n",
    "featureimportance(X_train_tfidfuni, y_train,20,tfidf_unigram)"
   ]
  },
  {
   "cell_type": "markdown",
   "metadata": {},
   "source": [
    "### [8.4] TF-IDF(bigram) : <a name=\"tfidfbi\"></a>"
   ]
  },
  {
   "cell_type": "code",
   "execution_count": 25,
   "metadata": {},
   "outputs": [
    {
     "name": "stdout",
     "output_type": "stream",
     "text": [
      "Type of Count Vectorizer:  <class 'scipy.sparse.csr.csr_matrix'>\n",
      "The shape of text TFIDF vectorizer:  (70000, 10975)\n",
      "Number of unique word:  10975\n",
      "Wall time: 22.6 s\n"
     ]
    }
   ],
   "source": [
    "%%time\n",
    "tfidf_bigram = TfidfVectorizer(ngram_range=(1, 2),min_df = 0.0005)\n",
    "X_train_tfidfbi = tfidf_bigram.fit_transform(X_train)\n",
    "print(\"Type of Count Vectorizer: \",type(X_train_tfidfbi))\n",
    "print(\"The shape of text TFIDF vectorizer: \", X_train_tfidfbi.get_shape())\n",
    "print(\"Number of unique word: \", X_train_tfidfbi.get_shape()[1])"
   ]
  },
  {
   "cell_type": "code",
   "execution_count": 26,
   "metadata": {},
   "outputs": [
    {
     "name": "stdout",
     "output_type": "stream",
     "text": [
      "The shape of text TFIDF vectorizer:  (30000, 10975)\n",
      "Number of unique word:  10975\n",
      "Wall time: 5.78 s\n"
     ]
    }
   ],
   "source": [
    "%%time\n",
    "X_test_tfidfbi = tfidf_bigram.transform(X_test)\n",
    "print(\"The shape of text TFIDF vectorizer: \", X_test_tfidfbi.get_shape())\n",
    "print(\"Number of unique word: \", X_test_tfidfbi.get_shape()[1])"
   ]
  },
  {
   "cell_type": "code",
   "execution_count": 27,
   "metadata": {},
   "outputs": [
    {
     "name": "stdout",
     "output_type": "stream",
     "text": [
      "Shape of Training Data:  (70000, 10975)\n",
      "Shape of Test Data:  (30000, 10975)\n"
     ]
    }
   ],
   "source": [
    "print(\"Shape of Training Data: \",X_train_tfidfbi.shape)\n",
    "print(\"Shape of Test Data: \",X_test_tfidfbi.shape)"
   ]
  },
  {
   "cell_type": "code",
   "execution_count": 47,
   "metadata": {},
   "outputs": [
    {
     "name": "stdout",
     "output_type": "stream",
     "text": [
      "\n",
      "\u001b[1mGrid Scores for Model is:\u001b[0m\n",
      " [mean: 0.57822, std: 0.16686, params: {'max_depth': 1}, mean: 0.77712, std: 0.01102, params: {'max_depth': 3}, mean: 0.72900, std: 0.08208, params: {'max_depth': 5}, mean: 0.68646, std: 0.01729, params: {'max_depth': 7}, mean: 0.71703, std: 0.01836, params: {'max_depth': 9}, mean: 0.74014, std: 0.00482, params: {'max_depth': 11}, mean: 0.75675, std: 0.00563, params: {'max_depth': 13}, mean: 0.76963, std: 0.00710, params: {'max_depth': 15}, mean: 0.77932, std: 0.00757, params: {'max_depth': 17}, mean: 0.78900, std: 0.00818, params: {'max_depth': 19}, mean: 0.79277, std: 0.00706, params: {'max_depth': 21}, mean: 0.79690, std: 0.00757, params: {'max_depth': 23}, mean: 0.80275, std: 0.00758, params: {'max_depth': 25}, mean: 0.80536, std: 0.00676, params: {'max_depth': 27}, mean: 0.80880, std: 0.00681, params: {'max_depth': 29}]\n",
      "\n",
      "\u001b[1mBest Parameters:\u001b[0m  {'max_depth': 29}\n",
      "\n",
      "\u001b[1mBest F1-Score:\u001b[0m 0.809 \n",
      "CPU times: user 19min 32s, sys: 20 ms, total: 19min 32s\n",
      "Wall time: 19min 32s\n"
     ]
    },
    {
     "data": {
      "image/png": "[encoded data removed]",
      "text/plain": [
       "<matplotlib.figure.Figure at 0x3fff097ce9e8>"
      ]
     },
     "metadata": {},
     "output_type": "display_data"
    }
   ],
   "source": [
    "%%time\n",
    "grid_estimator = DT_model(X_train_tfidfbi, y_train)"
   ]
  },
  {
   "cell_type": "code",
   "execution_count": 48,
   "metadata": {},
   "outputs": [
    {
     "data": {
      "image/png": "[encoded data removed]",
      "text/plain": [
       "<matplotlib.figure.Figure at 0x3fff03bad3c8>"
      ]
     },
     "metadata": {},
     "output_type": "display_data"
    },
    {
     "name": "stdout",
     "output_type": "stream",
     "text": [
      "[[ 3695  1565]\n",
      " [ 5022 19718]]\n",
      "\n",
      "\u001b[1mTest Error :\u001b[0m 0.22\n",
      "\u001b[1mTest Accuracy :\u001b[0m 78.043 %\n",
      "\u001b[1mTrue Negative :\u001b[0m 3695\n",
      "\u001b[1mFalse Positive :\u001b[0m 1565\n",
      "\u001b[1mFalse Negative :\u001b[0m 5022\n",
      "\u001b[1mTrue Positive :\u001b[0m 19718\n",
      "\u001b[1mPrecission Score :\u001b[0m 0.838\n",
      "\u001b[1mRecall Score :\u001b[0m 0.78\n",
      "\u001b[1mF1 Score :\u001b[0m 0.799\n",
      "\n",
      "\n",
      "\n",
      "\u001b[1mClassification Report for Model is :\u001b[0m\n",
      "             precision    recall  f1-score   support\n",
      "\n",
      "   negative       0.42      0.70      0.53      5260\n",
      "   positive       0.93      0.80      0.86     24740\n",
      "\n",
      "avg / total       0.84      0.78      0.80     30000\n",
      "\n",
      "CPU times: user 2.36 s, sys: 20 ms, total: 2.38 s\n",
      "Wall time: 2.12 s\n"
     ]
    }
   ],
   "source": [
    "%%time\n",
    "DT_Test(X_train_tfidfbi,X_test_tfidfbi,y_train,y_test)"
   ]
  },
  {
   "cell_type": "code",
   "execution_count": 28,
   "metadata": {},
   "outputs": [
    {
     "data": {
      "image/png": "[encoded data removed]",
      "text/plain": [
       "<Figure size 1440x432 with 1 Axes>"
      ]
     },
     "metadata": {},
     "output_type": "display_data"
    },
    {
     "name": "stdout",
     "output_type": "stream",
     "text": [
      "Wall time: 40.4 s\n"
     ]
    }
   ],
   "source": [
    "%%time\n",
    "featureimportance(X_train_tfidfbi, y_train,20,tfidf_bigram)"
   ]
  },
  {
   "cell_type": "markdown",
   "metadata": {},
   "source": [
    "## [8.5] Average Word2Vec : <a name=\"avgw2v\"></a>"
   ]
  },
  {
   "cell_type": "code",
   "execution_count": 21,
   "metadata": {},
   "outputs": [],
   "source": [
    "i=0\n",
    "list_of_sent_train=[]\n",
    "for sent in X_train:\n",
    "    list_of_sent_train.append(sent.split())"
   ]
  },
  {
   "cell_type": "code",
   "execution_count": 22,
   "metadata": {},
   "outputs": [
    {
     "name": "stdout",
     "output_type": "stream",
     "text": [
      "beetlejuic well written movi everyth excel act special effect delight chose view movi\n",
      "****************************************************************************\n",
      "['beetlejuic', 'well', 'written', 'movi', 'everyth', 'excel', 'act', 'special', 'effect', 'delight', 'chose', 'view', 'movi']\n"
     ]
    }
   ],
   "source": [
    "print(X_train[0])\n",
    "print(\"****************************************************************************\")\n",
    "print(list_of_sent_train[0])"
   ]
  },
  {
   "cell_type": "code",
   "execution_count": 23,
   "metadata": {},
   "outputs": [
    {
     "name": "stdout",
     "output_type": "stream",
     "text": [
      "CPU times: user 59.8 s, sys: 80 ms, total: 59.8 s\n",
      "Wall time: 16.5 s\n"
     ]
    }
   ],
   "source": [
    "%%time\n",
    "## Word2Vec Model considering only those words that occur atleast 5 times in the corpus\n",
    "min_count = 5\n",
    "w2v_model = Word2Vec(list_of_sent_train, min_count = min_count, size = 200, workers = 4)\n",
    "w2v_words = list(w2v_model.wv.vocab)"
   ]
  },
  {
   "cell_type": "code",
   "execution_count": 24,
   "metadata": {},
   "outputs": [],
   "source": [
    "w2v_words = list(w2v_model.wv.vocab)"
   ]
  },
  {
   "cell_type": "code",
   "execution_count": 25,
   "metadata": {},
   "outputs": [],
   "source": [
    "i=0\n",
    "list_of_sent_test=[]\n",
    "for sent in X_test:\n",
    "    list_of_sent_test.append(sent.split())"
   ]
  },
  {
   "cell_type": "code",
   "execution_count": 26,
   "metadata": {},
   "outputs": [
    {
     "name": "stdout",
     "output_type": "stream",
     "text": [
      "husband realli like cocoa add extra milk cup creamier flavor conveni cannot beat\n",
      "****************************************************************************\n",
      "['husband', 'realli', 'like', 'cocoa', 'add', 'extra', 'milk', 'cup', 'creamier', 'flavor', 'conveni', 'cannot', 'beat']\n"
     ]
    }
   ],
   "source": [
    "print(X_test[5])\n",
    "print(\"****************************************************************************\")\n",
    "print(list_of_sent_test[5])"
   ]
  },
  {
   "cell_type": "code",
   "execution_count": 25,
   "metadata": {},
   "outputs": [
    {
     "name": "stderr",
     "output_type": "stream",
     "text": [
      "100%|███████████████████████████████████████████████████████████████████████████| 70000/70000 [04:47<00:00, 243.48it/s]\n"
     ]
    },
    {
     "name": "stdout",
     "output_type": "stream",
     "text": [
      "Wall time: 4min 47s\n"
     ]
    }
   ],
   "source": [
    "%%time\n",
    "X_train_avgw2v = [] # the avg-w2v for each sentence/review is stored in this list\n",
    "for sent in tqdm(list_of_sent_train):\n",
    "    sent_vec = np.zeros(200) # as word vectors are of zero length\n",
    "    cnt_words =0; # num of words with a valid vector in the sentence/review\n",
    "    for word in sent: # for each word in a review/sentence\n",
    "        if word in w2v_words:\n",
    "            vec = w2v_model.wv[word]\n",
    "            sent_vec += vec\n",
    "            cnt_words += 1\n",
    "    if cnt_words != 0:\n",
    "        sent_vec /= cnt_words\n",
    "    X_train_avgw2v.append(sent_vec)"
   ]
  },
  {
   "cell_type": "code",
   "execution_count": 26,
   "metadata": {},
   "outputs": [
    {
     "name": "stderr",
     "output_type": "stream",
     "text": [
      "100%|███████████████████████████████████████████████████████████████████████████| 30000/30000 [02:24<00:00, 207.14it/s]\n"
     ]
    },
    {
     "name": "stdout",
     "output_type": "stream",
     "text": [
      "Wall time: 2min 24s\n"
     ]
    }
   ],
   "source": [
    "%%time\n",
    "X_test_avgw2v = [] # the avg-w2v for each sentence/review is stored in this list\n",
    "for sent in tqdm(list_of_sent_test):\n",
    "    sent_vec = np.zeros(200) # as word vectors are of zero length\n",
    "    cnt_words =0; # num of words with a valid vector in the sentence/review\n",
    "    for word in sent: # for each word in a review/sentence\n",
    "        if word in w2v_words:\n",
    "            vec = w2v_model.wv[word]\n",
    "            sent_vec += vec\n",
    "            cnt_words += 1\n",
    "    if cnt_words != 0:\n",
    "        sent_vec /= cnt_words\n",
    "    X_test_avgw2v.append(sent_vec)"
   ]
  },
  {
   "cell_type": "code",
   "execution_count": 27,
   "metadata": {},
   "outputs": [
    {
     "data": {
      "text/plain": [
       "False"
      ]
     },
     "execution_count": 27,
     "metadata": {},
     "output_type": "execute_result"
    }
   ],
   "source": [
    "#Checking NAN in test data if any\n",
    "np.any(np.isnan(X_test_avgw2v))"
   ]
  },
  {
   "cell_type": "code",
   "execution_count": 28,
   "metadata": {},
   "outputs": [
    {
     "name": "stdout",
     "output_type": "stream",
     "text": [
      "Number of rows in Train Data:  70000\n",
      "Number of features in Train Data:  200\n",
      "Number of rows in Test Data:  30000\n",
      "Number of features in Test Data:  200\n"
     ]
    }
   ],
   "source": [
    "print(\"Number of rows in Train Data: \",len(X_train_avgw2v))\n",
    "print(\"Number of features in Train Data: \",len(X_train_avgw2v[0]))\n",
    "print(\"Number of rows in Test Data: \",len(X_test_avgw2v))\n",
    "print(\"Number of features in Test Data: \",len(X_test_avgw2v[0]))"
   ]
  },
  {
   "cell_type": "code",
   "execution_count": 61,
   "metadata": {
    "scrolled": true
   },
   "outputs": [
    {
     "name": "stdout",
     "output_type": "stream",
     "text": [
      "\n",
      "\u001b[1mGrid Scores for Model is:\u001b[0m\n",
      " [mean: 0.71002, std: 0.01557, params: {'max_depth': 1}, mean: 0.70846, std: 0.02177, params: {'max_depth': 3}, mean: 0.75682, std: 0.02534, params: {'max_depth': 5}, mean: 0.77891, std: 0.01780, params: {'max_depth': 7}, mean: 0.79428, std: 0.01927, params: {'max_depth': 9}, mean: 0.80898, std: 0.01817, params: {'max_depth': 11}, mean: 0.82062, std: 0.01512, params: {'max_depth': 13}, mean: 0.82649, std: 0.01474, params: {'max_depth': 15}, mean: 0.82803, std: 0.01287, params: {'max_depth': 17}, mean: 0.82989, std: 0.01413, params: {'max_depth': 19}, mean: 0.82964, std: 0.01389, params: {'max_depth': 21}, mean: 0.82974, std: 0.01424, params: {'max_depth': 23}, mean: 0.82981, std: 0.01420, params: {'max_depth': 25}, mean: 0.83013, std: 0.01522, params: {'max_depth': 27}, mean: 0.82936, std: 0.01509, params: {'max_depth': 29}]\n",
      "\n",
      "\u001b[1mBest Parameters:\u001b[0m  {'max_depth': 27}\n",
      "\n",
      "\u001b[1mBest F1-Score:\u001b[0m 0.83 \n",
      "CPU times: user 30min 39s, sys: 8 ms, total: 30min 39s\n",
      "Wall time: 30min 39s\n"
     ]
    },
    {
     "data": {
      "image/png": "[encoded data removed]",
      "text/plain": [
       "<matplotlib.figure.Figure at 0x3fff097ceeb8>"
      ]
     },
     "metadata": {},
     "output_type": "display_data"
    }
   ],
   "source": [
    "%%time\n",
    "grid_estimator = DT_model(X_train_avgw2v,y_train)"
   ]
  },
  {
   "cell_type": "code",
   "execution_count": 62,
   "metadata": {},
   "outputs": [
    {
     "data": {
      "image/png": "[encoded data removed]",
      "text/plain": [
       "<matplotlib.figure.Figure at 0x3fff13f7e2e8>"
      ]
     },
     "metadata": {},
     "output_type": "display_data"
    },
    {
     "name": "stdout",
     "output_type": "stream",
     "text": [
      "[[ 2602  2658]\n",
      " [ 2913 21827]]\n",
      "\n",
      "\u001b[1mTest Error :\u001b[0m 0.186\n",
      "\u001b[1mTest Accuracy :\u001b[0m 81.43 %\n",
      "\u001b[1mTrue Negative :\u001b[0m 2602\n",
      "\u001b[1mFalse Positive :\u001b[0m 2658\n",
      "\u001b[1mFalse Negative :\u001b[0m 2913\n",
      "\u001b[1mTrue Positive :\u001b[0m 21827\n",
      "\u001b[1mPrecission Score :\u001b[0m 0.818\n",
      "\u001b[1mRecall Score :\u001b[0m 0.814\n",
      "\u001b[1mF1 Score :\u001b[0m 0.816\n",
      "\n",
      "\n",
      "\n",
      "\u001b[1mClassification Report for Model is :\u001b[0m\n",
      "             precision    recall  f1-score   support\n",
      "\n",
      "   negative       0.47      0.49      0.48      5260\n",
      "   positive       0.89      0.88      0.89     24740\n",
      "\n",
      "avg / total       0.82      0.81      0.82     30000\n",
      "\n",
      "CPU times: user 2.4 s, sys: 0 ns, total: 2.4 s\n",
      "Wall time: 2.14 s\n"
     ]
    }
   ],
   "source": [
    "%%time\n",
    "DT_Test(X_train_avgw2v,X_test_avgw2v,y_train,y_test)"
   ]
  },
  {
   "cell_type": "markdown",
   "metadata": {},
   "source": [
    "## [8.6] TF-IDF Weighted Word2Vec : <a name=\"tfidfw2v\"></a>"
   ]
  },
  {
   "cell_type": "code",
   "execution_count": 27,
   "metadata": {},
   "outputs": [
    {
     "name": "stdout",
     "output_type": "stream",
     "text": [
      "CPU times: user 11.8 s, sys: 140 ms, total: 11.9 s\n",
      "Wall time: 11.9 s\n"
     ]
    }
   ],
   "source": [
    "%%time\n",
    "tfidf_bigram = TfidfVectorizer(ngram_range=(1, 2),min_df=0.0005)\n",
    "X_train_tfidfbi = tfidf_bigram.fit_transform(X_train)"
   ]
  },
  {
   "cell_type": "code",
   "execution_count": 28,
   "metadata": {},
   "outputs": [],
   "source": [
    "dictionary = dict(zip(tfidf_bigram.get_feature_names(),list(tfidf_bigram.idf_)))"
   ]
  },
  {
   "cell_type": "code",
   "execution_count": 30,
   "metadata": {},
   "outputs": [
    {
     "name": "stderr",
     "output_type": "stream",
     "text": [
      "100%|██████████| 70000/70000 [02:17<00:00, 510.54it/s]"
     ]
    },
    {
     "name": "stdout",
     "output_type": "stream",
     "text": [
      "CPU times: user 2min 17s, sys: 5.1 s, total: 2min 22s\n",
      "Wall time: 2min 17s\n"
     ]
    },
    {
     "name": "stderr",
     "output_type": "stream",
     "text": [
      "\n"
     ]
    }
   ],
   "source": [
    "%%time\n",
    "tfidf_feat = tfidf_bigram.get_feature_names() # tfidf words/col-names\n",
    "X_train_tfidfw2v = []; # the tfidf-w2v for each sentence/review is stored in this list\n",
    "row=0;\n",
    "for sent in tqdm(list_of_sent_train):\n",
    "    sent_vec = np.zeros(200)\n",
    "    weight_sum =0;\n",
    "    for word in sent:\n",
    "        if word in w2v_words:\n",
    "            try:\n",
    "                vec = w2v_model.wv[word]\n",
    "                tf_idf = dictionary[word]*sent.count(word)\n",
    "                sent_vec += (vec * tf_idf)\n",
    "                weight_sum += tf_idf\n",
    "            except:\n",
    "                pass\n",
    "    if weight_sum != 0:\n",
    "        sent_vec /= weight_sum\n",
    "    X_train_tfidfw2v.append(sent_vec)\n",
    "    row += 1"
   ]
  },
  {
   "cell_type": "code",
   "execution_count": 31,
   "metadata": {},
   "outputs": [
    {
     "name": "stderr",
     "output_type": "stream",
     "text": [
      "100%|██████████| 30000/30000 [01:02<00:00, 483.05it/s]"
     ]
    },
    {
     "name": "stdout",
     "output_type": "stream",
     "text": [
      "CPU times: user 1min 2s, sys: 2.62 s, total: 1min 4s\n",
      "Wall time: 1min 2s\n"
     ]
    },
    {
     "name": "stderr",
     "output_type": "stream",
     "text": [
      "\n"
     ]
    }
   ],
   "source": [
    "%%time\n",
    "X_test_tfidfw2v = []; # the tfidf-w2v for each sentence/review is stored in this list\n",
    "row=0;\n",
    "for sent in tqdm(list_of_sent_test):\n",
    "    sent_vec = np.zeros(200)\n",
    "    weight_sum =0;\n",
    "    for word in sent:\n",
    "        if word in w2v_words:\n",
    "            try:\n",
    "                vec = w2v_model.wv[word]\n",
    "                tf_idf = dictionary[word]*sent.count(word)\n",
    "                sent_vec += (vec * tf_idf)\n",
    "                weight_sum += tf_idf\n",
    "            except:\n",
    "                pass\n",
    "    if weight_sum != 0:\n",
    "        sent_vec /= weight_sum\n",
    "    X_test_tfidfw2v.append(sent_vec)\n",
    "    row += 1"
   ]
  },
  {
   "cell_type": "code",
   "execution_count": 32,
   "metadata": {},
   "outputs": [
    {
     "name": "stdout",
     "output_type": "stream",
     "text": [
      "Number of rows in Train Data:  70000\n",
      "Number of features in Train Data:  200\n",
      "Number of rows in Test Data:  30000\n",
      "Number of features in Test Data:  200\n"
     ]
    }
   ],
   "source": [
    "print(\"Number of rows in Train Data: \",len(X_train_tfidfw2v))\n",
    "print(\"Number of features in Train Data: \",len(X_train_tfidfw2v[0]))\n",
    "print(\"Number of rows in Test Data: \",len(X_test_tfidfw2v))\n",
    "print(\"Number of features in Test Data: \",len(X_test_tfidfw2v[0]))"
   ]
  },
  {
   "cell_type": "code",
   "execution_count": 33,
   "metadata": {},
   "outputs": [
    {
     "name": "stdout",
     "output_type": "stream",
     "text": [
      "\n",
      "\u001b[1mGrid Scores for Model is:\u001b[0m\n",
      " [mean: 0.62023, std: 0.05386, params: {'max_depth': 1}, mean: 0.72730, std: 0.01110, params: {'max_depth': 3}, mean: 0.72945, std: 0.01791, params: {'max_depth': 5}, mean: 0.75272, std: 0.01412, params: {'max_depth': 7}, mean: 0.77060, std: 0.02268, params: {'max_depth': 9}, mean: 0.78790, std: 0.02150, params: {'max_depth': 11}, mean: 0.80204, std: 0.01990, params: {'max_depth': 13}, mean: 0.80956, std: 0.01639, params: {'max_depth': 15}, mean: 0.81356, std: 0.01481, params: {'max_depth': 17}, mean: 0.81578, std: 0.01513, params: {'max_depth': 19}, mean: 0.81593, std: 0.01468, params: {'max_depth': 21}, mean: 0.81682, std: 0.01379, params: {'max_depth': 23}, mean: 0.81729, std: 0.01449, params: {'max_depth': 25}, mean: 0.81761, std: 0.01344, params: {'max_depth': 27}, mean: 0.81656, std: 0.01386, params: {'max_depth': 29}]\n",
      "\n",
      "\u001b[1mBest Parameters:\u001b[0m  {'max_depth': 27}\n",
      "\n",
      "\u001b[1mBest F1-Score:\u001b[0m 0.818 \n",
      "CPU times: user 32min 13s, sys: 428 ms, total: 32min 14s\n",
      "Wall time: 32min 14s\n"
     ]
    },
    {
     "data": {
      "image/png": "[encoded data removed]",
      "text/plain": [
       "<matplotlib.figure.Figure at 0x3ffeebad1f98>"
      ]
     },
     "metadata": {},
     "output_type": "display_data"
    }
   ],
   "source": [
    "%%time\n",
    "grid_estimator=DT_model(X_train_tfidfw2v,y_train)"
   ]
  },
  {
   "cell_type": "code",
   "execution_count": 34,
   "metadata": {},
   "outputs": [
    {
     "data": {
      "image/png": "[encoded data removed]",
      "text/plain": [
       "<matplotlib.figure.Figure at 0x3ffeebae46a0>"
      ]
     },
     "metadata": {},
     "output_type": "display_data"
    },
    {
     "name": "stdout",
     "output_type": "stream",
     "text": [
      "[[ 2336  2920]\n",
      " [ 2886 21858]]\n",
      "\n",
      "\u001b[1mTest Error :\u001b[0m 0.194\n",
      "\u001b[1mTest Accuracy :\u001b[0m 80.647 %\n",
      "\u001b[1mTrue Negative :\u001b[0m 2336\n",
      "\u001b[1mFalse Positive :\u001b[0m 2920\n",
      "\u001b[1mFalse Negative :\u001b[0m 2886\n",
      "\u001b[1mTrue Positive :\u001b[0m 21858\n",
      "\u001b[1mPrecission Score :\u001b[0m 0.806\n",
      "\u001b[1mRecall Score :\u001b[0m 0.806\n",
      "\u001b[1mF1 Score :\u001b[0m 0.806\n",
      "\n",
      "\n",
      "\n",
      "\u001b[1mClassification Report for Model is :\u001b[0m\n",
      "             precision    recall  f1-score   support\n",
      "\n",
      "   negative       0.45      0.44      0.45      5256\n",
      "   positive       0.88      0.88      0.88     24744\n",
      "\n",
      "avg / total       0.81      0.81      0.81     30000\n",
      "\n",
      "CPU times: user 2.84 s, sys: 8 ms, total: 2.85 s\n",
      "Wall time: 2.59 s\n"
     ]
    }
   ],
   "source": [
    "%%time\n",
    "DT_Test(X_train_tfidfw2v, X_test_tfidfw2v, y_train, y_test) "
   ]
  },
  {
   "cell_type": "markdown",
   "metadata": {},
   "source": [
    "## [9] Conclusion : <a name=\"conclusion\"></a>\n",
    "\n",
    "| Featurization Model | <b>Accuracy</b> | <b>Precission</b> | <b>Recall</b> | <b>F1 score</b> |\n",
    "| --- | --- | --- | --- | --- | --- | --- | --- | --- |\n",
    "| <b>BOW(unigram)</b> | 77.963 % | 0.837  | 0.78 | 0.799 |\n",
    "| <b>BOW(bigram)</b> | 79.107 % | 0.844  | 0.79 | 0.808 |\n",
    "| <b>TF-IDF(unigram)</b> | 76.98 % | 0.835  | 0.77 | 0.791 |\n",
    "| <b>TF-IDF(bigram)</b> | 78.043 % | 0.838  | 0.78 | 0.799 |\n",
    "| <b>Average Word2Vec</b> | 81.43 % | 0.818  | 0.814 | 0.816 |\n",
    "| <b>TF-IDF Weighted Word2Vec</b> | 80.647 % | 0.806  | 0.806 | 0.806 |\n",
    "\n",
    "<br>\n",
    "<b>1 - </b>Using Average Word2Vec model gives best performance with F1 score of <b>0.816</b>.\n",
    "\n",
    "<b>2 - </b>It is also observed(in this case) that Decission Trees doesnot work fairly good with textdata because of high dimensions(as each unique word is considered as a feature).So the model gets more deep(in depth) which makes the model less interpretable.\n",
    "\n",
    "<b>3 - </b>Run Time complexity of  Decission Trees is superfast, hence can be used for low latency applications.\n",
    "\n",
    "<b>4 - </b>It is also observed using Decission Tree Classifier, Word2Vec models(AVerage w2v and Tfidf weighted w2v) perfoms better than Bag of Words and Tfidf."
   ]
  }
 ],
 "metadata": {
  "kernelspec": {
   "display_name": "Python 3",
   "language": "python",
   "name": "python3"
  },
  "language_info": {
   "codemirror_mode": {
    "name": "ipython",
    "version": 3
   },
   "file_extension": ".py",
   "mimetype": "text/x-python",
   "name": "python",
   "nbconvert_exporter": "python",
   "pygments_lexer": "ipython3",
   "version": "3.6.5"
  }
 },
 "nbformat": 4,
 "nbformat_minor": 2
}
